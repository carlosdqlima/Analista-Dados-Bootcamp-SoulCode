{
  "nbformat": 4,
  "nbformat_minor": 0,
  "metadata": {
    "colab": {
      "provenance": [],
      "include_colab_link": true
    },
    "kernelspec": {
      "name": "python3",
      "display_name": "Python 3"
    },
    "language_info": {
      "name": "python"
    }
  },
  "cells": [
    {
      "cell_type": "markdown",
      "metadata": {
        "id": "view-in-github",
        "colab_type": "text"
      },
      "source": [
        "<a href=\"https://colab.research.google.com/github/carlosdqlima/Analista-Dados-Bootcamp-SoulCode/blob/main/atividade-05-buckets-gcp-python/bucket.ipynb\" target=\"_parent\"><img src=\"https://colab.research.google.com/assets/colab-badge.svg\" alt=\"Open In Colab\"/></a>"
      ]
    },
    {
      "cell_type": "markdown",
      "source": [
        "# Atividade 05 - Bucket"
      ],
      "metadata": {
        "id": "oIlDxm3DHK2l"
      }
    },
    {
      "cell_type": "markdown",
      "source": [
        "Na GCP crie uma bucket (Cloud Storage) com qualquer nome e dentro dela crie uma\n",
        "pasta com o nome de dados_bruto e dentro dele salve o arquivo (csv) com os dados do\n",
        "da base escolhida no site https://dados.gov.br/, deixe o acesso público ativado\n",
        "\n",
        "No colab faça a leitura desse arquivo e a partir dele crie diferentes insight (pandas/pyspark/numpy) com os resultados de agrupamentos e salve esses arquivos como csv e envie diretamente pelo cada um deles para o bucket dentro de uma pasta chamada \"Dados_tratados\""
      ],
      "metadata": {
        "id": "5BJgy3ktHPx1"
      }
    },
    {
      "cell_type": "markdown",
      "source": [
        "## Base de dados: https://dados.gov.br/dados/conjuntos-dados/estoque-do-tesouro-direto\n",
        "\n",
        "Info:\n",
        "Esse conjunto de dados mostra o volume total de recursos aplicados ao Tesouro Direto. A metodologia de cálculo dessa estatística é a mesma usada para cálculo do estoque de toda a Dívida Pública Federal, na qual os juros são acumulados de acordo com a taxa de emissão de cada título. Assim, esse estoque não é valorado pelos preços de mercado dos títulos."
      ],
      "metadata": {
        "id": "4xGv5SicL063"
      }
    },
    {
      "cell_type": "markdown",
      "source": [
        "##Instale a biblioteca do Google Cloud no Colab\n"
      ],
      "metadata": {
        "id": "iBdvL3dapA2p"
      }
    },
    {
      "cell_type": "code",
      "execution_count": null,
      "metadata": {
        "colab": {
          "base_uri": "https://localhost:8080/",
          "height": 723
        },
        "id": "YOqgBy9fo_vv",
        "outputId": "1a7250a2-cf05-40b2-a299-cac663a5a373"
      },
      "outputs": [
        {
          "output_type": "stream",
          "name": "stdout",
          "text": [
            "Requirement already satisfied: google-cloud-storage in /usr/local/lib/python3.10/dist-packages (2.8.0)\n",
            "Collecting google-cloud-storage\n",
            "  Downloading google_cloud_storage-2.18.2-py2.py3-none-any.whl.metadata (9.1 kB)\n",
            "Requirement already satisfied: google-cloud-bigquery in /usr/local/lib/python3.10/dist-packages (3.25.0)\n",
            "Requirement already satisfied: google-auth<3.0dev,>=2.26.1 in /usr/local/lib/python3.10/dist-packages (from google-cloud-storage) (2.27.0)\n",
            "Requirement already satisfied: google-api-core<3.0.0dev,>=2.15.0 in /usr/local/lib/python3.10/dist-packages (from google-cloud-storage) (2.19.1)\n",
            "Requirement already satisfied: google-cloud-core<3.0dev,>=2.3.0 in /usr/local/lib/python3.10/dist-packages (from google-cloud-storage) (2.4.1)\n",
            "Requirement already satisfied: google-resumable-media>=2.7.2 in /usr/local/lib/python3.10/dist-packages (from google-cloud-storage) (2.7.2)\n",
            "Requirement already satisfied: requests<3.0.0dev,>=2.18.0 in /usr/local/lib/python3.10/dist-packages (from google-cloud-storage) (2.32.3)\n",
            "Requirement already satisfied: google-crc32c<2.0dev,>=1.0 in /usr/local/lib/python3.10/dist-packages (from google-cloud-storage) (1.5.0)\n",
            "Requirement already satisfied: packaging>=20.0.0 in /usr/local/lib/python3.10/dist-packages (from google-cloud-bigquery) (24.1)\n",
            "Requirement already satisfied: python-dateutil<3.0dev,>=2.7.2 in /usr/local/lib/python3.10/dist-packages (from google-cloud-bigquery) (2.8.2)\n",
            "Requirement already satisfied: googleapis-common-protos<2.0.dev0,>=1.56.2 in /usr/local/lib/python3.10/dist-packages (from google-api-core<3.0.0dev,>=2.15.0->google-cloud-storage) (1.64.0)\n",
            "Requirement already satisfied: protobuf!=3.20.0,!=3.20.1,!=4.21.0,!=4.21.1,!=4.21.2,!=4.21.3,!=4.21.4,!=4.21.5,<6.0.0.dev0,>=3.19.5 in /usr/local/lib/python3.10/dist-packages (from google-api-core<3.0.0dev,>=2.15.0->google-cloud-storage) (3.20.3)\n",
            "Requirement already satisfied: proto-plus<2.0.0dev,>=1.22.3 in /usr/local/lib/python3.10/dist-packages (from google-api-core<3.0.0dev,>=2.15.0->google-cloud-storage) (1.24.0)\n",
            "Requirement already satisfied: grpcio<2.0dev,>=1.33.2 in /usr/local/lib/python3.10/dist-packages (from google-api-core[grpc]!=2.0.*,!=2.1.*,!=2.10.*,!=2.2.*,!=2.3.*,!=2.4.*,!=2.5.*,!=2.6.*,!=2.7.*,!=2.8.*,!=2.9.*,<3.0.0dev,>=1.34.1->google-cloud-bigquery) (1.64.1)\n",
            "Requirement already satisfied: grpcio-status<2.0.dev0,>=1.33.2 in /usr/local/lib/python3.10/dist-packages (from google-api-core[grpc]!=2.0.*,!=2.1.*,!=2.10.*,!=2.2.*,!=2.3.*,!=2.4.*,!=2.5.*,!=2.6.*,!=2.7.*,!=2.8.*,!=2.9.*,<3.0.0dev,>=1.34.1->google-cloud-bigquery) (1.48.2)\n",
            "Requirement already satisfied: cachetools<6.0,>=2.0.0 in /usr/local/lib/python3.10/dist-packages (from google-auth<3.0dev,>=2.26.1->google-cloud-storage) (5.5.0)\n",
            "Requirement already satisfied: pyasn1-modules>=0.2.1 in /usr/local/lib/python3.10/dist-packages (from google-auth<3.0dev,>=2.26.1->google-cloud-storage) (0.4.0)\n",
            "Requirement already satisfied: rsa<5,>=3.1.4 in /usr/local/lib/python3.10/dist-packages (from google-auth<3.0dev,>=2.26.1->google-cloud-storage) (4.9)\n",
            "Requirement already satisfied: six>=1.5 in /usr/local/lib/python3.10/dist-packages (from python-dateutil<3.0dev,>=2.7.2->google-cloud-bigquery) (1.16.0)\n",
            "Requirement already satisfied: charset-normalizer<4,>=2 in /usr/local/lib/python3.10/dist-packages (from requests<3.0.0dev,>=2.18.0->google-cloud-storage) (3.3.2)\n",
            "Requirement already satisfied: idna<4,>=2.5 in /usr/local/lib/python3.10/dist-packages (from requests<3.0.0dev,>=2.18.0->google-cloud-storage) (3.8)\n",
            "Requirement already satisfied: urllib3<3,>=1.21.1 in /usr/local/lib/python3.10/dist-packages (from requests<3.0.0dev,>=2.18.0->google-cloud-storage) (2.0.7)\n",
            "Requirement already satisfied: certifi>=2017.4.17 in /usr/local/lib/python3.10/dist-packages (from requests<3.0.0dev,>=2.18.0->google-cloud-storage) (2024.7.4)\n",
            "Requirement already satisfied: pyasn1<0.7.0,>=0.4.6 in /usr/local/lib/python3.10/dist-packages (from pyasn1-modules>=0.2.1->google-auth<3.0dev,>=2.26.1->google-cloud-storage) (0.6.0)\n",
            "Downloading google_cloud_storage-2.18.2-py2.py3-none-any.whl (130 kB)\n",
            "\u001b[2K   \u001b[90m━━━━━━━━━━━━━━━━━━━━━━━━━━━━━━━━━━━━━━━━\u001b[0m \u001b[32m130.5/130.5 kB\u001b[0m \u001b[31m2.0 MB/s\u001b[0m eta \u001b[36m0:00:00\u001b[0m\n",
            "\u001b[?25hInstalling collected packages: google-cloud-storage\n",
            "  Attempting uninstall: google-cloud-storage\n",
            "    Found existing installation: google-cloud-storage 2.8.0\n",
            "    Uninstalling google-cloud-storage-2.8.0:\n",
            "      Successfully uninstalled google-cloud-storage-2.8.0\n",
            "Successfully installed google-cloud-storage-2.18.2\n"
          ]
        },
        {
          "output_type": "display_data",
          "data": {
            "application/vnd.colab-display-data+json": {
              "pip_warning": {
                "packages": [
                  "google"
                ]
              },
              "id": "7f8bc1745e79451c83693234dc21f53e"
            }
          },
          "metadata": {}
        }
      ],
      "source": [
        "!pip install --upgrade google-cloud-storage google-cloud-bigquery"
      ]
    },
    {
      "cell_type": "code",
      "source": [
        "from google.colab import auth\n",
        "auth.authenticate_user()"
      ],
      "metadata": {
        "id": "RwcdoIl5pKor"
      },
      "execution_count": null,
      "outputs": []
    },
    {
      "cell_type": "code",
      "source": [
        "from google.cloud import storage\n",
        "# Inicialize o cliente\n",
        "client = storage.Client()\n",
        "\n",
        "# Defina o nome do bucket\n",
        "bucket_name = 'bootcamp_dados'\n",
        "bucket = client.bucket(bucket_name)\n",
        "\n",
        "# Caminho dentro do bucket (pasta_csv)\n",
        "destination_blob_path = 'dados_bruto/EstoqueTesouroDireto.csv'\n",
        "\n",
        "# Faça o upload de um arquivo CSV\n",
        "blob = bucket.blob(destination_blob_path)\n",
        "blob.upload_from_filename('/content/EstoqueTesouroDireto.csv')"
      ],
      "metadata": {
        "id": "i7tEdmq1pTrC"
      },
      "execution_count": null,
      "outputs": []
    },
    {
      "cell_type": "code",
      "source": [
        "from google.cloud import storage\n",
        "import pandas as pd\n",
        "import io\n",
        "\n",
        "# Inicialize o cliente do Cloud Storage\n",
        "client = storage.Client()\n",
        "\n",
        "# Defina o nome do bucket e o caminho do arquivo\n",
        "bucket_name = 'bootcamp_dados'\n",
        "file_name = 'dados_bruto/EstoqueTesouroDireto.csv'  # Caminho completo do arquivo dentro do bucket\n",
        "\n",
        "# Obtenha o bucket e o blob (arquivo)\n",
        "bucket = client.bucket(bucket_name)\n",
        "blob = bucket.blob(file_name)\n",
        "\n",
        "# Faça o download do arquivo como bytes\n",
        "data = blob.download_as_bytes()\n",
        "\n",
        "# Carregue os dados em um DataFrame do pandas\n",
        "df = pd.read_csv(io.BytesIO(data))\n",
        "\n",
        "# Exiba o DataFrame\n",
        "print(df.head())"
      ],
      "metadata": {
        "colab": {
          "base_uri": "https://localhost:8080/"
        },
        "id": "1SdZtqsXvXE3",
        "outputId": "4a06793b-965d-4358-e145-57c7eed21098"
      },
      "execution_count": null,
      "outputs": [
        {
          "output_type": "stream",
          "name": "stdout",
          "text": [
            "                                                                             Tipo Titulo;Vencimento do Titulo;Mes Estoque;PU;Quantidade;Valor Estoque\n",
            "Tesouro IPCA+ com Juros Semestrais;15/05/2045;1... 096763;11680 80;13749431                                                 86                       \n",
            "Tesouro IGPM+ com Juros Semestrais;01/07/2017;1... 064966;11019 60;17973683                                                 50                       \n",
            "Tesouro IPCA+ com Juros Semestrais;15/05/2015;1... 426939;10408 60;14201774                                                 24                       \n",
            "Tesouro IGPM+ com Juros Semestrais;01/01/2031;1... 474340;15951 20;40922394                                                 29                       \n",
            "Tesouro IGPM+ com Juros Semestrais;01/04/2021;1... 573046;11017 00;16884357                                                 24                       \n"
          ]
        }
      ]
    },
    {
      "cell_type": "markdown",
      "source": [
        "# Tratamento"
      ],
      "metadata": {
        "id": "9-uZbYUfa8wS"
      }
    },
    {
      "cell_type": "code",
      "source": [
        "import pandas as pd\n",
        "\n",
        "# Carregar o arquivo CSV com o separador ';'\n",
        "file_path = 'EstoqueTesouroDireto.csv'\n",
        "df = pd.read_csv(file_path, sep=';')\n",
        "\n",
        "# Substituir ',' por '.' nos valores numéricos\n",
        "df['PU'] = df['PU'].str.replace(',', '.').astype(float)\n",
        "df['Quantidade'] = df['Quantidade'].str.replace(',', '.').astype(float)\n",
        "df['Valor Estoque'] = df['Valor Estoque'].str.replace(',', '.').astype(float)\n",
        "\n",
        "# Salvar o arquivo tratado em CSV com ',' como separador\n",
        "df.to_csv('EstoqueTesouroDiretoTratado.csv', sep=',', index=False)\n",
        "\n",
        "print(\"Arquivo tratado salvo como 'EstoqueTesouroDiretoTratado.csv'.\")"
      ],
      "metadata": {
        "id": "HjHxhg3Ja_QX"
      },
      "execution_count": null,
      "outputs": []
    },
    {
      "cell_type": "code",
      "source": [
        "df.info()"
      ],
      "metadata": {
        "colab": {
          "base_uri": "https://localhost:8080/"
        },
        "id": "taIEH_SVfvEb",
        "outputId": "240f1992-8282-4a76-8d50-c5846851b7ad"
      },
      "execution_count": null,
      "outputs": [
        {
          "output_type": "stream",
          "name": "stdout",
          "text": [
            "<class 'pandas.core.frame.DataFrame'>\n",
            "RangeIndex: 7639 entries, 0 to 7638\n",
            "Data columns (total 6 columns):\n",
            " #   Column                Non-Null Count  Dtype  \n",
            "---  ------                --------------  -----  \n",
            " 0   Tipo Titulo           7639 non-null   object \n",
            " 1   Vencimento do Titulo  7639 non-null   object \n",
            " 2   Mes Estoque           7639 non-null   object \n",
            " 3   PU                    7639 non-null   float64\n",
            " 4   Quantidade            7639 non-null   float64\n",
            " 5   Valor Estoque         7639 non-null   float64\n",
            "dtypes: float64(3), object(3)\n",
            "memory usage: 358.2+ KB\n"
          ]
        }
      ]
    },
    {
      "cell_type": "markdown",
      "source": [
        "# Upload base de dados após tratamento"
      ],
      "metadata": {
        "id": "3lw7mbPhgE9C"
      }
    },
    {
      "cell_type": "code",
      "source": [
        "from google.cloud import storage\n",
        "# Inicialize o cliente\n",
        "client = storage.Client()\n",
        "\n",
        "# Defina o nome do bucket\n",
        "bucket_name = 'bootcamp_dados'\n",
        "bucket = client.bucket(bucket_name)\n",
        "\n",
        "# Caminho dentro do bucket (pasta_csv)\n",
        "destination_blob_path = 'dados_tratados/EstoqueTesouroDiretoTratado.csv'\n",
        "\n",
        "# Faça o upload de um arquivo CSV\n",
        "blob = bucket.blob(destination_blob_path)\n",
        "blob.upload_from_filename('/content/EstoqueTesouroDiretoTratado.csv')"
      ],
      "metadata": {
        "id": "9tWRh881gNKG"
      },
      "execution_count": null,
      "outputs": []
    },
    {
      "cell_type": "markdown",
      "source": [
        "# Download base de dados após tratamento do bucket"
      ],
      "metadata": {
        "id": "R3sRz1H99p-_"
      }
    },
    {
      "cell_type": "code",
      "source": [
        "from google.cloud import storage\n",
        "import pandas as pd\n",
        "import io\n",
        "\n",
        "# Inicialize o cliente do Cloud Storage\n",
        "client = storage.Client()\n",
        "\n",
        "# Defina o nome do bucket e o caminho do arquivo\n",
        "bucket_name = 'bootcamp_dados'\n",
        "file_name = 'dados_tratados/EstoqueTesouroDiretoTratado.csv'  # Caminho completo do arquivo dentro do bucket\n",
        "\n",
        "# Obtenha o bucket e o blob (arquivo)\n",
        "bucket = client.bucket(bucket_name)\n",
        "blob = bucket.blob(file_name)\n",
        "\n",
        "# Faça o download do arquivo como bytes\n",
        "data = blob.download_as_bytes()\n",
        "\n",
        "# Carregue os dados em um DataFrame do pandas\n",
        "df = pd.read_csv(io.BytesIO(data))\n",
        "\n",
        "# Exiba o DataFrame\n",
        "print(df.head())"
      ],
      "metadata": {
        "colab": {
          "base_uri": "https://localhost:8080/"
        },
        "id": "kG_7Iwm59fxl",
        "outputId": "3b03d180-5ef5-4ad8-e52e-832b35c4c4a1"
      },
      "execution_count": null,
      "outputs": [
        {
          "output_type": "stream",
          "name": "stdout",
          "text": [
            "                          Tipo Titulo Vencimento do Titulo Mes Estoque  \\\n",
            "0  Tesouro IPCA+ com Juros Semestrais           15/05/2045     12/2006   \n",
            "1  Tesouro IGPM+ com Juros Semestrais           01/07/2017     12/2006   \n",
            "2  Tesouro IPCA+ com Juros Semestrais           15/05/2015     12/2006   \n",
            "3  Tesouro IGPM+ com Juros Semestrais           01/01/2031     12/2006   \n",
            "4  Tesouro IGPM+ com Juros Semestrais           01/04/2021     12/2006   \n",
            "\n",
            "            PU  Quantidade  Valor Estoque  \n",
            "0  1177.096763     11680.8    13749431.86  \n",
            "1  1631.064966     11019.6    17973683.50  \n",
            "2  1364.426939     10408.6    14201774.24  \n",
            "3  2565.474340     15951.2    40922394.29  \n",
            "4  1532.573046     11017.0    16884357.24  \n"
          ]
        }
      ]
    },
    {
      "cell_type": "markdown",
      "source": [
        "# Criando o ambiente e importando as bibliotecas Pyspark"
      ],
      "metadata": {
        "id": "GToUArCvQn9e"
      }
    },
    {
      "cell_type": "code",
      "source": [
        "!pip install pyspark"
      ],
      "metadata": {
        "colab": {
          "base_uri": "https://localhost:8080/",
          "height": 341
        },
        "id": "xcMX50N4P5oI",
        "outputId": "87c0b76e-f5f4-4b16-fae9-548654fe3cc6"
      },
      "execution_count": null,
      "outputs": [
        {
          "output_type": "stream",
          "name": "stdout",
          "text": [
            "Collecting pyspark\n",
            "  Downloading pyspark-3.5.2.tar.gz (317.3 MB)\n",
            "\u001b[2K     \u001b[90m━━━━━━━━━━━━━━━━━━━━━━━━━━━━━━━━━━━━━━━━\u001b[0m \u001b[32m317.3/317.3 MB\u001b[0m \u001b[31m1.2 MB/s\u001b[0m eta \u001b[36m0:00:00\u001b[0m\n",
            "\u001b[?25h  Preparing metadata (setup.py) ... \u001b[?25l\u001b[?25hdone\n",
            "Requirement already satisfied: py4j==0.10.9.7 in /usr/local/lib/python3.10/dist-packages (from pyspark) (0.10.9.7)\n",
            "Building wheels for collected packages: pyspark\n",
            "  Building wheel for pyspark (setup.py) ... \u001b[?25l\u001b[?25hdone\n",
            "  Created wheel for pyspark: filename=pyspark-3.5.2-py2.py3-none-any.whl size=317812365 sha256=1dd9c4cdb5c92843d2913872d58463338e411f9fae4d973e3e09a20ffb498c2e\n",
            "  Stored in directory: /root/.cache/pip/wheels/34/34/bd/03944534c44b677cd5859f248090daa9fb27b3c8f8e5f49574\n",
            "Successfully built pyspark\n",
            "Installing collected packages: pyspark\n",
            "Successfully installed pyspark-3.5.2\n"
          ]
        },
        {
          "output_type": "display_data",
          "data": {
            "application/vnd.colab-display-data+json": {
              "pip_warning": {
                "packages": [
                  "pyspark"
                ]
              },
              "id": "420a52a3a91c456484d59bf3350a92ce"
            }
          },
          "metadata": {}
        }
      ]
    },
    {
      "cell_type": "code",
      "source": [
        "import pandas as pd\n",
        "from pyspark.sql import SparkSession\n",
        "\n",
        "# Criar uma sessão do Spark\n",
        "spark = SparkSession.builder \\\n",
        "    .appName(\"PandasToPySpark\") \\\n",
        "    .getOrCreate()"
      ],
      "metadata": {
        "id": "rf_sgCykP89E"
      },
      "execution_count": null,
      "outputs": []
    },
    {
      "cell_type": "code",
      "source": [
        "# Converter o DataFrame do Pandas para um DataFrame do PySpark\n",
        "pyspark_df = spark.createDataFrame(df)\n",
        "\n",
        "# Exibir as primeiras linhas do DataFrame PySpark\n",
        "pyspark_df.show()"
      ],
      "metadata": {
        "colab": {
          "base_uri": "https://localhost:8080/"
        },
        "id": "oD4-aBZxQB_G",
        "outputId": "ae932005-947c-430a-ed68-cd8c030dc3cc"
      },
      "execution_count": null,
      "outputs": [
        {
          "output_type": "stream",
          "name": "stdout",
          "text": [
            "+--------------------+--------------------+-----------+-----------+----------+-------------+\n",
            "|         Tipo Titulo|Vencimento do Titulo|Mes Estoque|         PU|Quantidade|Valor Estoque|\n",
            "+--------------------+--------------------+-----------+-----------+----------+-------------+\n",
            "|Tesouro IPCA+ com...|          15/05/2045|    12/2006|1177.096763|   11680.8|1.374943186E7|\n",
            "|Tesouro IGPM+ com...|          01/07/2017|    12/2006|1631.064966|   11019.6| 1.79736835E7|\n",
            "|Tesouro IPCA+ com...|          15/05/2015|    12/2006|1364.426939|   10408.6|1.420177424E7|\n",
            "|Tesouro IGPM+ com...|          01/01/2031|    12/2006| 2565.47434|   15951.2|4.092239429E7|\n",
            "|Tesouro IGPM+ com...|          01/04/2021|    12/2006|1532.573046|   11017.0|1.688435724E7|\n",
            "|Tesouro IPCA+ com...|          15/08/2024|    12/2006|1262.761762|    8685.6|1.096784355E7|\n",
            "|       Tesouro IPCA+|          15/05/2015|    12/2006| 787.117534|   46287.0|3.643330928E7|\n",
            "|       Tesouro IPCA+|          15/08/2024|    12/2006| 395.196198|   68711.8|2.715464209E7|\n",
            "|Tesouro IPCA+ com...|          15/05/2009|    01/2007|1521.803023|   25731.4| 3.91581223E7|\n",
            "|Tesouro IPCA+ com...|          15/05/2011|    01/2007|1467.786613|   13368.2|1.962166499E7|\n",
            "|Tesouro IPCA+ com...|          15/05/2007|    01/2007|1620.956863|   13948.6|2.261007889E7|\n",
            "|Tesouro IPCA+ com...|          15/08/2008|    01/2007| 1581.84693|   22662.4|3.584844786E7|\n",
            "|Tesouro IPCA+ com...|          15/08/2010|    01/2007|1502.665044|   16396.6|2.463859765E7|\n",
            "|Tesouro Prefixado...|          01/01/2008|    01/2007| 954.569364|   36150.2|3.450787343E7|\n",
            "|Tesouro Prefixado...|          01/01/2010|    01/2007| 911.329827|   23072.2|2.102638404E7|\n",
            "|Tesouro Prefixado...|          01/01/2012|    01/2007| 859.248849|   28067.6|2.411705299E7|\n",
            "|Tesouro IGPM+ com...|          01/04/2008|    01/2007|1883.623746|    8909.2|1.678158067E7|\n",
            "|Tesouro IGPM+ com...|          01/03/2011|    01/2007| 1790.41955|   16611.0|2.974065915E7|\n",
            "|       Tesouro Selic|          17/03/2010|    01/2007|2984.724451|   22143.6|6.609254434E7|\n",
            "|       Tesouro Selic|          18/06/2008|    01/2007|2982.852932|   15846.2|4.726688412E7|\n",
            "+--------------------+--------------------+-----------+-----------+----------+-------------+\n",
            "only showing top 20 rows\n",
            "\n"
          ]
        }
      ]
    },
    {
      "cell_type": "code",
      "source": [
        "# Definir quais funcões sql pyspark vamos importar\n",
        "from pyspark.sql.functions import *"
      ],
      "metadata": {
        "id": "RbxGDUUfQ5nE"
      },
      "execution_count": null,
      "outputs": []
    },
    {
      "cell_type": "markdown",
      "source": [
        "# Insights"
      ],
      "metadata": {
        "id": "xodbyVYbQLpg"
      }
    },
    {
      "cell_type": "code",
      "source": [
        "'''\n",
        "1. Qual é a média de preços unitários (PU) por tipo de título?\n",
        "'''\n",
        "\n",
        "media_pu_por_tipo = df.groupby('Tipo Titulo')['PU'].mean()\n",
        "\n",
        "display(media_pu_por_tipo)\n",
        "\n",
        "media_pu_por_tipo.to_csv('media_pu_por_tipo.csv')"
      ],
      "metadata": {
        "colab": {
          "base_uri": "https://localhost:8080/",
          "height": 366
        },
        "id": "52AZaFcCk24T",
        "outputId": "8934fd20-e2e3-474e-e0a2-6fc91bf83da4"
      },
      "execution_count": null,
      "outputs": [
        {
          "output_type": "display_data",
          "data": {
            "text/plain": [
              "Tipo Titulo\n",
              "Tesouro Educa+                            2270.570501\n",
              "Tesouro IGPM+ com Juros Semestrais        2572.146907\n",
              "Tesouro IPCA+                             1699.200741\n",
              "Tesouro IPCA+ com Juros Semestrais        2601.256658\n",
              "Tesouro Prefixado                          832.031723\n",
              "Tesouro Prefixado com Juros Semestrais     969.186299\n",
              "Tesouro RendA+                             752.067232\n",
              "Tesouro Selic                             6008.599062\n",
              "Name: PU, dtype: float64"
            ],
            "text/html": [
              "<div>\n",
              "<style scoped>\n",
              "    .dataframe tbody tr th:only-of-type {\n",
              "        vertical-align: middle;\n",
              "    }\n",
              "\n",
              "    .dataframe tbody tr th {\n",
              "        vertical-align: top;\n",
              "    }\n",
              "\n",
              "    .dataframe thead th {\n",
              "        text-align: right;\n",
              "    }\n",
              "</style>\n",
              "<table border=\"1\" class=\"dataframe\">\n",
              "  <thead>\n",
              "    <tr style=\"text-align: right;\">\n",
              "      <th></th>\n",
              "      <th>PU</th>\n",
              "    </tr>\n",
              "    <tr>\n",
              "      <th>Tipo Titulo</th>\n",
              "      <th></th>\n",
              "    </tr>\n",
              "  </thead>\n",
              "  <tbody>\n",
              "    <tr>\n",
              "      <th>Tesouro Educa+</th>\n",
              "      <td>2270.570501</td>\n",
              "    </tr>\n",
              "    <tr>\n",
              "      <th>Tesouro IGPM+ com Juros Semestrais</th>\n",
              "      <td>2572.146907</td>\n",
              "    </tr>\n",
              "    <tr>\n",
              "      <th>Tesouro IPCA+</th>\n",
              "      <td>1699.200741</td>\n",
              "    </tr>\n",
              "    <tr>\n",
              "      <th>Tesouro IPCA+ com Juros Semestrais</th>\n",
              "      <td>2601.256658</td>\n",
              "    </tr>\n",
              "    <tr>\n",
              "      <th>Tesouro Prefixado</th>\n",
              "      <td>832.031723</td>\n",
              "    </tr>\n",
              "    <tr>\n",
              "      <th>Tesouro Prefixado com Juros Semestrais</th>\n",
              "      <td>969.186299</td>\n",
              "    </tr>\n",
              "    <tr>\n",
              "      <th>Tesouro RendA+</th>\n",
              "      <td>752.067232</td>\n",
              "    </tr>\n",
              "    <tr>\n",
              "      <th>Tesouro Selic</th>\n",
              "      <td>6008.599062</td>\n",
              "    </tr>\n",
              "  </tbody>\n",
              "</table>\n",
              "</div><br><label><b>dtype:</b> float64</label>"
            ]
          },
          "metadata": {}
        }
      ]
    },
    {
      "cell_type": "code",
      "source": [
        "from google.cloud import storage\n",
        "# Inicialize o cliente\n",
        "client = storage.Client()\n",
        "\n",
        "# Defina o nome do bucket\n",
        "bucket_name = 'bootcamp_dados'\n",
        "bucket = client.bucket(bucket_name)\n",
        "\n",
        "# Caminho dentro do bucket (pasta_csv)\n",
        "destination_blob_path = 'dados_tratados/media_pu_por_tipo.csv'\n",
        "\n",
        "# Faça o upload de um arquivo CSV\n",
        "blob = bucket.blob(destination_blob_path)\n",
        "blob.upload_from_filename('/content/media_pu_por_tipo.csv')"
      ],
      "metadata": {
        "id": "cjW0KsDsra11"
      },
      "execution_count": null,
      "outputs": []
    },
    {
      "cell_type": "code",
      "source": [
        "'''\n",
        "2. Qual é o desvio padrão do Preço Unitário (PU) por tipo de título.\n",
        "'''\n",
        "\n",
        "desvio_padrao_tipo_titulo = pyspark_df.groupBy('Tipo Titulo').agg(round(stddev('PU')).alias('Desvio Padrão PU'))\n",
        "\n",
        "desvio_padrao_tipo_titulo.show()\n",
        "\n",
        "desvio_padrao_tipo_titulo = desvio_padrao_tipo_titulo.toPandas()\n",
        "desvio_padrao_tipo_titulo.to_csv('desvio_padrao_tipo_titulo.csv', index=False)"
      ],
      "metadata": {
        "id": "rDj2c1Zw_hzU",
        "colab": {
          "base_uri": "https://localhost:8080/"
        },
        "outputId": "9db3d87b-909f-44db-c2e0-06e82fc7b35a"
      },
      "execution_count": null,
      "outputs": [
        {
          "output_type": "stream",
          "name": "stdout",
          "text": [
            "+--------------------+----------------+\n",
            "|         Tipo Titulo|Desvio Padrão PU|\n",
            "+--------------------+----------------+\n",
            "|      Tesouro RendA+|           491.0|\n",
            "|      Tesouro Educa+|           597.0|\n",
            "|       Tesouro IPCA+|           957.0|\n",
            "|Tesouro IPCA+ com...|          1081.0|\n",
            "|Tesouro Prefixado...|            68.0|\n",
            "|Tesouro IGPM+ com...|          1451.0|\n",
            "|       Tesouro Selic|          3925.0|\n",
            "|   Tesouro Prefixado|           127.0|\n",
            "+--------------------+----------------+\n",
            "\n"
          ]
        }
      ]
    },
    {
      "cell_type": "code",
      "source": [
        "from google.cloud import storage\n",
        "# Inicialize o cliente\n",
        "client = storage.Client()\n",
        "\n",
        "# Defina o nome do bucket\n",
        "bucket_name = 'bootcamp_dados'\n",
        "bucket = client.bucket(bucket_name)\n",
        "\n",
        "# Caminho dentro do bucket (pasta_csv)\n",
        "destination_blob_path = 'dados_tratados/desvio_padrao_tipo_titulo.csv'\n",
        "\n",
        "# Faça o upload de um arquivo CSV\n",
        "blob = bucket.blob(destination_blob_path)\n",
        "blob.upload_from_filename('/content/desvio_padrao_tipo_titulo.csv')"
      ],
      "metadata": {
        "id": "XknNJIYesuqQ"
      },
      "execution_count": null,
      "outputs": []
    },
    {
      "cell_type": "code",
      "source": [
        "'''\n",
        "3 - Índice de Retorno Relativo (Retorno/PU):\n",
        "'''\n",
        "\n",
        "indice_retorno_relativo = pyspark_df.withColumn('Índice de Retorno Relativo', col('PU') / col('Valor Estoque'))\n",
        "\n",
        "indice_retorno_relativo.show()\n",
        "\n",
        "indice_retorno_relativo_pd = indice_retorno_relativo.toPandas()\n",
        "indice_retorno_relativo_pd.to_csv('indice_retorno_relativo.csv', index=False)"
      ],
      "metadata": {
        "colab": {
          "base_uri": "https://localhost:8080/"
        },
        "id": "j4tsZTI_WpAB",
        "outputId": "0a0bf423-03ed-4cda-f6e9-c4bef49b6f77"
      },
      "execution_count": null,
      "outputs": [
        {
          "output_type": "stream",
          "name": "stdout",
          "text": [
            "+--------------------+--------------------+-----------+-----------+----------+-------------+--------------------------+\n",
            "|         Tipo Titulo|Vencimento do Titulo|Mes Estoque|         PU|Quantidade|Valor Estoque|Índice de Retorno Relativo|\n",
            "+--------------------+--------------------+-----------+-----------+----------+-------------+--------------------------+\n",
            "|Tesouro IPCA+ com...|          15/05/2045|    12/2006|1177.096763|   11680.8|1.374943186E7|      8.561057467577428E-5|\n",
            "|Tesouro IGPM+ com...|          01/07/2017|    12/2006|1631.064966|   11019.6| 1.79736835E7|      9.074739554638313E-5|\n",
            "|Tesouro IPCA+ com...|          15/05/2015|    12/2006|1364.426939|   10408.6|1.420177424E7|       9.60743999969401E-5|\n",
            "|Tesouro IGPM+ com...|          01/01/2031|    12/2006| 2565.47434|   15951.2|4.092239429E7|       6.26912081883467E-5|\n",
            "|Tesouro IGPM+ com...|          01/04/2021|    12/2006|1532.573046|   11017.0|1.688435724E7|      9.076881187808841E-5|\n",
            "|Tesouro IPCA+ com...|          15/08/2024|    12/2006|1262.761762|    8685.6|1.096784355E7|      1.151330939617569...|\n",
            "|       Tesouro IPCA+|          15/05/2015|    12/2006| 787.117534|   46287.0|3.643330928E7|      2.160433816074146E-5|\n",
            "|       Tesouro IPCA+|          15/08/2024|    12/2006| 395.196198|   68711.8|2.715464209E7|      1.455354103693141...|\n",
            "|Tesouro IPCA+ com...|          15/05/2009|    01/2007|1521.803023|   25731.4| 3.91581223E7|      3.886302339374429...|\n",
            "|Tesouro IPCA+ com...|          15/05/2011|    01/2007|1467.786613|   13368.2|1.962166499E7|      7.480438656699337E-5|\n",
            "|Tesouro IPCA+ com...|          15/05/2007|    01/2007|1620.956863|   13948.6|2.261007889E7|      7.169178271717211E-5|\n",
            "|Tesouro IPCA+ com...|          15/08/2008|    01/2007| 1581.84693|   22662.4|3.584844786E7|      4.412595312850457E-5|\n",
            "|Tesouro IPCA+ com...|          15/08/2010|    01/2007|1502.665044|   16396.6|2.463859765E7|      6.098825368821265...|\n",
            "|Tesouro Prefixado...|          01/01/2008|    01/2007| 954.569364|   36150.2|3.450787343E7|      2.766236424091346...|\n",
            "|Tesouro Prefixado...|          01/01/2010|    01/2007| 911.329827|   23072.2|2.102638404E7|      4.334220402644182...|\n",
            "|Tesouro Prefixado...|          01/01/2012|    01/2007| 859.248849|   28067.6|2.411705299E7|      3.562826889986445E-5|\n",
            "|Tesouro IGPM+ com...|          01/04/2008|    01/2007|1883.623746|    8909.2|1.678158067E7|      1.122435236012842E-4|\n",
            "|Tesouro IGPM+ com...|          01/03/2011|    01/2007| 1790.41955|   16611.0|2.974065915E7|      6.020107156905432E-5|\n",
            "|       Tesouro Selic|          17/03/2010|    01/2007|2984.724451|   22143.6|6.609254434E7|      4.515977529395262E-5|\n",
            "|       Tesouro Selic|          18/06/2008|    01/2007|2982.852932|   15846.2|4.726688412E7|      6.310661232560214E-5|\n",
            "+--------------------+--------------------+-----------+-----------+----------+-------------+--------------------------+\n",
            "only showing top 20 rows\n",
            "\n"
          ]
        }
      ]
    },
    {
      "cell_type": "code",
      "source": [
        "from google.cloud import storage\n",
        "# Inicialize o cliente\n",
        "client = storage.Client()\n",
        "\n",
        "# Defina o nome do bucket\n",
        "bucket_name = 'bootcamp_dados'\n",
        "bucket = client.bucket(bucket_name)\n",
        "\n",
        "# Caminho dentro do bucket (pasta_csv)\n",
        "destination_blob_path = 'dados_tratados/indice_retorno_relativo.csv'\n",
        "\n",
        "# Faça o upload de um arquivo CSV\n",
        "blob = bucket.blob(destination_blob_path)\n",
        "blob.upload_from_filename('/content/indice_retorno_relativo.csv')"
      ],
      "metadata": {
        "id": "le_ctR1Isyow"
      },
      "execution_count": null,
      "outputs": []
    }
  ]
}