{
  "nbformat": 4,
  "nbformat_minor": 0,
  "metadata": {
    "colab": {
      "provenance": [],
      "authorship_tag": "ABX9TyMgUPdgk0CjvR5ogblj+mOz",
      "include_colab_link": true
    },
    "kernelspec": {
      "name": "python3",
      "display_name": "Python 3"
    },
    "language_info": {
      "name": "python"
    }
  },
  "cells": [
    {
      "cell_type": "markdown",
      "metadata": {
        "id": "view-in-github",
        "colab_type": "text"
      },
      "source": [
        "<a href=\"https://colab.research.google.com/github/carlosdqlima/Analista-Dados-Bootcamp-SoulCode/blob/main/exercicios-python/exercicio-04-pyspark-py/Exercicio_04_PySpark.ipynb\" target=\"_parent\"><img src=\"https://colab.research.google.com/assets/colab-badge.svg\" alt=\"Open In Colab\"/></a>"
      ]
    },
    {
      "cell_type": "markdown",
      "source": [
        "# Exercicio 04 - PySpark"
      ],
      "metadata": {
        "id": "j5GNrTk5DmX5"
      }
    },
    {
      "cell_type": "markdown",
      "source": [
        "\n",
        "\n",
        "1 - Baixe a base em sua máquina no formato .csv;\n",
        "\n",
        "2 - Abra um novo colab e crie uma nova seção PySpark;\n",
        "\n",
        "3 - Suba a base da máquina para seu ambiente Pyspark no Colab;\n",
        "\n",
        "4 - Elabore Análises com filtros e agrupamentos aprendidos em PySpark na aula de ontem;\n",
        "\n",
        "5 - Cada filtro ou agrupamento que você realizar deve estar acompanhado (no bloco de código do respectivo colab) de um comentário sobre qual  pergunta essas dados filtrados ou agrupados tentam responder sobre essa base;\n",
        "\n",
        "6 - Cada filtro ou agrupamento deverá ser salvo em um objeto PySpark e depois convertido em um objeto Pandas, ao longo\n",
        "do dia você deverá realizar no mínimo 20 tabelas resultantes dessas análises;\n",
        "\n",
        "7 - Após isso, as tabelas pandas deverão ser enviadas diretamente do colab para arquivos csv.\n",
        "\n",
        "8 - O formato de entrega é o próprio link, ou arquivo ypynb do colab"
      ],
      "metadata": {
        "id": "T3yRnQzPDhRM"
      }
    },
    {
      "cell_type": "markdown",
      "source": [
        "# Lista de exercícios\n",
        "\n"
      ],
      "metadata": {
        "id": "0b_wEjBfDbfR"
      }
    },
    {
      "cell_type": "code",
      "source": [
        "# 1 - Baixe a base em sua máquina no formato .csv;"
      ],
      "metadata": {
        "id": "o9j6GhU6CnOu"
      },
      "execution_count": null,
      "outputs": []
    },
    {
      "cell_type": "code",
      "source": [
        "# 2 - Abra um novo colab e crie uma nova seção PySpark;\n",
        "\n",
        "# Instalação dos requisitos para o PySpark\n",
        "!apt-get install openjdk-8-jdk-headless -qq > /dev/null\n",
        "!wget -q http://archive.apache.org/dist/spark/spark-3.1.1/spark-3.1.1-bin-hadoop3.2.tgz\n",
        "!tar xf spark-3.1.1-bin-hadoop3.2.tgz\n",
        "!pip install -q findspark\n",
        "\n",
        "# Configurar as variáveis de ambiente\n",
        "import os\n",
        "os.environ[\"JAVA_HOME\"] = \"/usr/lib/jvm/java-8-openjdk-amd64\"\n",
        "os.environ[\"SPARK_HOME\"] = \"/content/spark-3.1.1-bin-hadoop3.2\"\n",
        "# Torna o pyspark \"importável\"\n",
        "import findspark\n",
        "findspark.init()\n",
        "\n",
        "# iniciar uma sessão local\n",
        "from pyspark.sql import SparkSession\n",
        "spark = SparkSession.builder.appName(\"exercicio_04\").getOrCreate()\n",
        "\n",
        "# Verifica o SparkContext\n",
        "print(spark)\n",
        "\n",
        "# Exibe a Spark version\n",
        "print(spark.version)\n",
        "\n",
        "# Definir quais funcões sql pyspark vamos importar\n",
        "from pyspark.sql.functions import *"
      ],
      "metadata": {
        "colab": {
          "base_uri": "https://localhost:8080/"
        },
        "id": "KjsbGtAZEcyX",
        "outputId": "fcfe11e5-aad8-45d0-b4ef-a14d79e1a8af"
      },
      "execution_count": null,
      "outputs": [
        {
          "output_type": "stream",
          "name": "stdout",
          "text": [
            "<pyspark.sql.session.SparkSession object at 0x7c40202eaf20>\n",
            "3.1.1\n"
          ]
        }
      ]
    },
    {
      "cell_type": "code",
      "source": [
        "# 3 - Suba a base da máquina para seu ambiente Pyspark no Colab;\n",
        "\n",
        "from google.colab import files\n",
        "files.upload()\n",
        "\n",
        "df_spark = spark.read.csv('/content/Base de dados - Dados sobre desgaste de funcionarios.csv', header=True, inferSchema=True)\n",
        "\n",
        "df_spark.show()"
      ],
      "metadata": {
        "colab": {
          "base_uri": "https://localhost:8080/",
          "height": 544
        },
        "id": "jVV-eYLlFlva",
        "outputId": "d24d85be-3ad8-4474-ac3b-1a4c1020121a"
      },
      "execution_count": null,
      "outputs": [
        {
          "output_type": "display_data",
          "data": {
            "text/plain": [
              "<IPython.core.display.HTML object>"
            ],
            "text/html": [
              "\n",
              "     <input type=\"file\" id=\"files-d60a96da-20c9-47e4-85f3-56d969adac08\" name=\"files[]\" multiple disabled\n",
              "        style=\"border:none\" />\n",
              "     <output id=\"result-d60a96da-20c9-47e4-85f3-56d969adac08\">\n",
              "      Upload widget is only available when the cell has been executed in the\n",
              "      current browser session. Please rerun this cell to enable.\n",
              "      </output>\n",
              "      <script>// Copyright 2017 Google LLC\n",
              "//\n",
              "// Licensed under the Apache License, Version 2.0 (the \"License\");\n",
              "// you may not use this file except in compliance with the License.\n",
              "// You may obtain a copy of the License at\n",
              "//\n",
              "//      http://www.apache.org/licenses/LICENSE-2.0\n",
              "//\n",
              "// Unless required by applicable law or agreed to in writing, software\n",
              "// distributed under the License is distributed on an \"AS IS\" BASIS,\n",
              "// WITHOUT WARRANTIES OR CONDITIONS OF ANY KIND, either express or implied.\n",
              "// See the License for the specific language governing permissions and\n",
              "// limitations under the License.\n",
              "\n",
              "/**\n",
              " * @fileoverview Helpers for google.colab Python module.\n",
              " */\n",
              "(function(scope) {\n",
              "function span(text, styleAttributes = {}) {\n",
              "  const element = document.createElement('span');\n",
              "  element.textContent = text;\n",
              "  for (const key of Object.keys(styleAttributes)) {\n",
              "    element.style[key] = styleAttributes[key];\n",
              "  }\n",
              "  return element;\n",
              "}\n",
              "\n",
              "// Max number of bytes which will be uploaded at a time.\n",
              "const MAX_PAYLOAD_SIZE = 100 * 1024;\n",
              "\n",
              "function _uploadFiles(inputId, outputId) {\n",
              "  const steps = uploadFilesStep(inputId, outputId);\n",
              "  const outputElement = document.getElementById(outputId);\n",
              "  // Cache steps on the outputElement to make it available for the next call\n",
              "  // to uploadFilesContinue from Python.\n",
              "  outputElement.steps = steps;\n",
              "\n",
              "  return _uploadFilesContinue(outputId);\n",
              "}\n",
              "\n",
              "// This is roughly an async generator (not supported in the browser yet),\n",
              "// where there are multiple asynchronous steps and the Python side is going\n",
              "// to poll for completion of each step.\n",
              "// This uses a Promise to block the python side on completion of each step,\n",
              "// then passes the result of the previous step as the input to the next step.\n",
              "function _uploadFilesContinue(outputId) {\n",
              "  const outputElement = document.getElementById(outputId);\n",
              "  const steps = outputElement.steps;\n",
              "\n",
              "  const next = steps.next(outputElement.lastPromiseValue);\n",
              "  return Promise.resolve(next.value.promise).then((value) => {\n",
              "    // Cache the last promise value to make it available to the next\n",
              "    // step of the generator.\n",
              "    outputElement.lastPromiseValue = value;\n",
              "    return next.value.response;\n",
              "  });\n",
              "}\n",
              "\n",
              "/**\n",
              " * Generator function which is called between each async step of the upload\n",
              " * process.\n",
              " * @param {string} inputId Element ID of the input file picker element.\n",
              " * @param {string} outputId Element ID of the output display.\n",
              " * @return {!Iterable<!Object>} Iterable of next steps.\n",
              " */\n",
              "function* uploadFilesStep(inputId, outputId) {\n",
              "  const inputElement = document.getElementById(inputId);\n",
              "  inputElement.disabled = false;\n",
              "\n",
              "  const outputElement = document.getElementById(outputId);\n",
              "  outputElement.innerHTML = '';\n",
              "\n",
              "  const pickedPromise = new Promise((resolve) => {\n",
              "    inputElement.addEventListener('change', (e) => {\n",
              "      resolve(e.target.files);\n",
              "    });\n",
              "  });\n",
              "\n",
              "  const cancel = document.createElement('button');\n",
              "  inputElement.parentElement.appendChild(cancel);\n",
              "  cancel.textContent = 'Cancel upload';\n",
              "  const cancelPromise = new Promise((resolve) => {\n",
              "    cancel.onclick = () => {\n",
              "      resolve(null);\n",
              "    };\n",
              "  });\n",
              "\n",
              "  // Wait for the user to pick the files.\n",
              "  const files = yield {\n",
              "    promise: Promise.race([pickedPromise, cancelPromise]),\n",
              "    response: {\n",
              "      action: 'starting',\n",
              "    }\n",
              "  };\n",
              "\n",
              "  cancel.remove();\n",
              "\n",
              "  // Disable the input element since further picks are not allowed.\n",
              "  inputElement.disabled = true;\n",
              "\n",
              "  if (!files) {\n",
              "    return {\n",
              "      response: {\n",
              "        action: 'complete',\n",
              "      }\n",
              "    };\n",
              "  }\n",
              "\n",
              "  for (const file of files) {\n",
              "    const li = document.createElement('li');\n",
              "    li.append(span(file.name, {fontWeight: 'bold'}));\n",
              "    li.append(span(\n",
              "        `(${file.type || 'n/a'}) - ${file.size} bytes, ` +\n",
              "        `last modified: ${\n",
              "            file.lastModifiedDate ? file.lastModifiedDate.toLocaleDateString() :\n",
              "                                    'n/a'} - `));\n",
              "    const percent = span('0% done');\n",
              "    li.appendChild(percent);\n",
              "\n",
              "    outputElement.appendChild(li);\n",
              "\n",
              "    const fileDataPromise = new Promise((resolve) => {\n",
              "      const reader = new FileReader();\n",
              "      reader.onload = (e) => {\n",
              "        resolve(e.target.result);\n",
              "      };\n",
              "      reader.readAsArrayBuffer(file);\n",
              "    });\n",
              "    // Wait for the data to be ready.\n",
              "    let fileData = yield {\n",
              "      promise: fileDataPromise,\n",
              "      response: {\n",
              "        action: 'continue',\n",
              "      }\n",
              "    };\n",
              "\n",
              "    // Use a chunked sending to avoid message size limits. See b/62115660.\n",
              "    let position = 0;\n",
              "    do {\n",
              "      const length = Math.min(fileData.byteLength - position, MAX_PAYLOAD_SIZE);\n",
              "      const chunk = new Uint8Array(fileData, position, length);\n",
              "      position += length;\n",
              "\n",
              "      const base64 = btoa(String.fromCharCode.apply(null, chunk));\n",
              "      yield {\n",
              "        response: {\n",
              "          action: 'append',\n",
              "          file: file.name,\n",
              "          data: base64,\n",
              "        },\n",
              "      };\n",
              "\n",
              "      let percentDone = fileData.byteLength === 0 ?\n",
              "          100 :\n",
              "          Math.round((position / fileData.byteLength) * 100);\n",
              "      percent.textContent = `${percentDone}% done`;\n",
              "\n",
              "    } while (position < fileData.byteLength);\n",
              "  }\n",
              "\n",
              "  // All done.\n",
              "  yield {\n",
              "    response: {\n",
              "      action: 'complete',\n",
              "    }\n",
              "  };\n",
              "}\n",
              "\n",
              "scope.google = scope.google || {};\n",
              "scope.google.colab = scope.google.colab || {};\n",
              "scope.google.colab._files = {\n",
              "  _uploadFiles,\n",
              "  _uploadFilesContinue,\n",
              "};\n",
              "})(self);\n",
              "</script> "
            ]
          },
          "metadata": {}
        },
        {
          "output_type": "stream",
          "name": "stdout",
          "text": [
            "Saving Base de dados - Dados sobre desgaste de funcionarios.csv to Base de dados - Dados sobre desgaste de funcionarios (1).csv\n",
            "+-----+--------+--------------------+-----------------+--------------------+-----------------+------------+----------------+------------------------------------------+--------------+----------------------------------------------+---------+----------------+------------------------------------+-----------------+--------------------+-------------------------+------------+------------+--------------+---------------------------------+--------------+--------------+--------------------------------+--------------------+------------------------------------+--------------------------+--------------------------------------+-------------------------+---------------------------------------------+------------------------+------------------------------------+--------------------------------+----------------------------+-----------------------------------+\n",
            "|Idade|Demissão|  Viagem de negócios|Diárias recebidas|        Departamento|Distância de Casa|Escolaridade|Área de Formação|Número de contratos de trabalho na empresa|ID Funcionário|Nível de Satisfação com o ambiente de trabalho|   Gênero|Salário por hora|Nível de envolvimento com o trabalho|Nível hierárquico|               Cargo|Satisfação com o trabalho|Estado civil|Renda mensal|Salário Mensal|qtde de empresas que já trabalhou|Maior de idade|Faz hora extra|percentual de aumento de salário|score de performance|Satisfação nas relações Não trabalho|Jornada padrão de trabalho|opção de remaunração variável em ações|Total de anos trabalhados|Qtde de treinamentos realizados no último ano|Equilíbrio vida trabalho|Total de anos trabalhados na empresa|Anos trabalhados na função atual|Anos desde a última promoção|Anos trabalhando com o atual gestor|\n",
            "+-----+--------+--------------------+-----------------+--------------------+-----------------+------------+----------------+------------------------------------------+--------------+----------------------------------------------+---------+----------------+------------------------------------+-----------------+--------------------+-------------------------+------------+------------+--------------+---------------------------------+--------------+--------------+--------------------------------+--------------------+------------------------------------+--------------------------+--------------------------------------+-------------------------+---------------------------------------------+------------------------+------------------------------------+--------------------------------+----------------------------+-----------------------------------+\n",
            "|   41|     Sim|     Viaja raramente|             1102|              Vendas|                1|           2|Ciências Humanas|                                         1|             1|                                             2| Feminino|              94|                                   3|                2| Executivo de vendas|                        4|    Solteiro|        5993|         19479|                                8|           Sim|           Sim|                              11|                   3|                                   1|                        80|                                     0|                        8|                                            0|                       1|                                   6|                               4|                           0|                                  5|\n",
            "|   49|     Não|Viaja frequentemente|              279|Pesquisa e Desenv...|                8|           1|Ciências Humanas|                                         1|             2|                                             3|Masculino|              61|                                   2|                2|Pesquisador cient...|                        2|      Casado|        5130|         24907|                                1|           Sim|           Não|                              23|                   4|                                   4|                        80|                                     1|                       10|                                            3|                       3|                                  10|                               7|                           1|                                  7|\n",
            "|   37|     Sim|     Viaja raramente|             1373|Pesquisa e Desenv...|                2|           2|          Outras|                                         1|             4|                                             4|Masculino|              92|                                   2|                1|Técnico de Labora...|                        3|    Solteiro|        2090|          2396|                                6|           Sim|           Sim|                              15|                   3|                                   2|                        80|                                     0|                        7|                                            3|                       3|                                   0|                               0|                           0|                                  0|\n",
            "|   33|     Não|Viaja frequentemente|             1392|Pesquisa e Desenv...|                3|           4|Ciências Humanas|                                         1|             5|                                             4| Feminino|              56|                                   3|                1|Pesquisador cient...|                        3|      Casado|        2909|         23159|                                1|           Sim|           Sim|                              11|                   3|                                   3|                        80|                                     0|                        8|                                            3|                       3|                                   8|                               7|                           3|                                  0|\n",
            "|   27|     Não|     Viaja raramente|              591|Pesquisa e Desenv...|                2|           1|Ciências Médicas|                                         1|             7|                                             1|Masculino|              40|                                   3|                1|Técnico de Labora...|                        2|      Casado|        3468|         16632|                                9|           Sim|           Não|                              12|                   3|                                   4|                        80|                                     1|                        6|                                            3|                       3|                                   2|                               2|                           2|                                  2|\n",
            "|   32|     Não|Viaja frequentemente|             1005|Pesquisa e Desenv...|                2|           2|Ciências Humanas|                                         1|             8|                                             4|Masculino|              79|                                   3|                1|Técnico de Labora...|                        4|    Solteiro|        3068|         11864|                                0|           Sim|           Não|                              13|                   3|                                   3|                        80|                                     0|                        8|                                            2|                       2|                                   7|                               7|                           3|                                  6|\n",
            "|   59|     Não|     Viaja raramente|             1324|Pesquisa e Desenv...|                3|           3|Ciências Médicas|                                         1|            10|                                             3| Feminino|              81|                                   4|                1|Técnico de Labora...|                        1|      Casado|        2670|          9964|                                4|           Sim|           Sim|                              20|                   4|                                   1|                        80|                                     3|                       12|                                            3|                       2|                                   1|                               0|                           0|                                  0|\n",
            "|   30|     Não|     Viaja raramente|             1358|Pesquisa e Desenv...|               24|           1|Ciências Humanas|                                         1|            11|                                             4|Masculino|              67|                                   3|                1|Técnico de Labora...|                        3|  Divorciado|        2693|         13335|                                1|           Sim|           Não|                              22|                   4|                                   2|                        80|                                     1|                        1|                                            2|                       3|                                   1|                               0|                           0|                                  0|\n",
            "|   38|     Não|Viaja frequentemente|              216|Pesquisa e Desenv...|               23|           3|Ciências Humanas|                                         1|            12|                                             4|Masculino|              44|                                   2|                3|Diretor de manufa...|                        3|    Solteiro|        9526|          8787|                                0|           Sim|           Não|                              21|                   4|                                   2|                        80|                                     0|                       10|                                            2|                       3|                                   9|                               7|                           1|                                  8|\n",
            "|   36|     Não|     Viaja raramente|             1299|Pesquisa e Desenv...|               27|           3|Ciências Médicas|                                         1|            13|                                             3|Masculino|              94|                                   3|                2|Reprentante de saúde|                        3|      Casado|        5237|         16577|                                6|           Sim|           Não|                              13|                   3|                                   2|                        80|                                     2|                       17|                                            3|                       2|                                   7|                               7|                           7|                                  7|\n",
            "|   35|     Não|     Viaja raramente|              809|Pesquisa e Desenv...|               16|           3|Ciências Médicas|                                         1|            14|                                             1|Masculino|              84|                                   4|                1|Técnico de Labora...|                        2|      Casado|        2426|         16479|                                0|           Sim|           Não|                              13|                   3|                                   3|                        80|                                     1|                        6|                                            5|                       3|                                   5|                               4|                           0|                                  3|\n",
            "|   29|     Não|     Viaja raramente|              153|Pesquisa e Desenv...|               15|           2|Ciências Humanas|                                         1|            15|                                             4| Feminino|              49|                                   2|                2|Técnico de Labora...|                        3|    Solteiro|        4193|         12682|                                0|           Sim|           Sim|                              12|                   3|                                   4|                        80|                                     0|                       10|                                            3|                       3|                                   9|                               5|                           0|                                  8|\n",
            "|   31|     Não|     Viaja raramente|              670|Pesquisa e Desenv...|               26|           1|Ciências Humanas|                                         1|            16|                                             1|Masculino|              31|                                   3|                1|Pesquisador cient...|                        3|  Divorciado|        2911|         15170|                                1|           Sim|           Não|                              17|                   3|                                   4|                        80|                                     1|                        5|                                            1|                       2|                                   5|                               2|                           4|                                  3|\n",
            "|   34|     Não|     Viaja raramente|             1346|Pesquisa e Desenv...|               19|           2|Ciências Médicas|                                         1|            18|                                             2|Masculino|              93|                                   3|                1|Técnico de Labora...|                        4|  Divorciado|        2661|          8758|                                0|           Sim|           Não|                              11|                   3|                                   3|                        80|                                     1|                        3|                                            2|                       3|                                   2|                               2|                           1|                                  2|\n",
            "|   28|     Sim|     Viaja raramente|              103|Pesquisa e Desenv...|               24|           3|Ciências Humanas|                                         1|            19|                                             3|Masculino|              93|                                   2|                1|Técnico de Labora...|                        3|    Solteiro|        2028|         12947|                                5|           Sim|           Sim|                              14|                   3|                                   2|                        80|                                     0|                        6|                                            4|                       3|                                   4|                               2|                           0|                                  3|\n",
            "|   29|     Não|     Viaja raramente|             1389|Pesquisa e Desenv...|               21|           4|Ciências Humanas|                                         1|            20|                                             2| Feminino|              51|                                   4|                3|Diretor de manufa...|                        1|  Divorciado|        9980|         10195|                                1|           Sim|           Não|                              11|                   3|                                   3|                        80|                                     1|                       10|                                            1|                       3|                                  10|                               9|                           8|                                  8|\n",
            "|   32|     Não|     Viaja raramente|              334|Pesquisa e Desenv...|                5|           2|Ciências Humanas|                                         1|            21|                                             1|Masculino|              80|                                   4|                1|Pesquisador cient...|                        2|  Divorciado|        3298|         15053|                                0|           Sim|           Sim|                              12|                   3|                                   4|                        80|                                     2|                        7|                                            5|                       2|                                   6|                               2|                           0|                                  5|\n",
            "|   22|     Não|           Não Viaja|             1123|Pesquisa e Desenv...|               16|           2|Ciências Médicas|                                         1|            22|                                             4|Masculino|              96|                                   4|                1|Técnico de Labora...|                        4|  Divorciado|        2935|          7324|                                1|           Sim|           Sim|                              13|                   3|                                   2|                        80|                                     2|                        1|                                            2|                       2|                                   1|                               0|                           0|                                  0|\n",
            "|   53|     Não|     Viaja raramente|             1219|              Vendas|                2|           4|Ciências Humanas|                                         1|            23|                                             1| Feminino|              78|                                   2|                4|             Gerente|                        4|      Casado|       15427|         22021|                                2|           Sim|           Não|                              16|                   3|                                   3|                        80|                                     0|                       31|                                            3|                       3|                                  25|                               8|                           3|                                  7|\n",
            "|   38|     Não|     Viaja raramente|              371|Pesquisa e Desenv...|                2|           3|Ciências Humanas|                                         1|            24|                                             4|Masculino|              45|                                   3|                1|Pesquisador cient...|                        4|    Solteiro|        3944|          4306|                                5|           Sim|           Sim|                              11|                   3|                                   3|                        80|                                     0|                        6|                                            3|                       3|                                   3|                               2|                           1|                                  2|\n",
            "+-----+--------+--------------------+-----------------+--------------------+-----------------+------------+----------------+------------------------------------------+--------------+----------------------------------------------+---------+----------------+------------------------------------+-----------------+--------------------+-------------------------+------------+------------+--------------+---------------------------------+--------------+--------------+--------------------------------+--------------------+------------------------------------+--------------------------+--------------------------------------+-------------------------+---------------------------------------------+------------------------+------------------------------------+--------------------------------+----------------------------+-----------------------------------+\n",
            "only showing top 20 rows\n",
            "\n"
          ]
        }
      ]
    },
    {
      "cell_type": "code",
      "source": [
        "# 4 - Elabore Análises com filtros e agrupamentos aprendidos em PySpark na aula de ontem;\n",
        "\n",
        "# 5 - Cada filtro ou agrupamento que você realizar deve estar acompanhado (no bloco de código do respectivo colab) de um comentário sobre qual  pergunta essas dados filtrados ou agrupados tentam responder sobre essa base;\n",
        "\n",
        "# 6 - Cada filtro ou agrupamento deverá ser salvo em um objeto PySpark e depois convertido em um objeto Pandas, ao longo do dia você deverá realizar no mínimo 20 tabelas resultantes dessas análises;\n",
        "\n",
        "# 7 - Após isso, as tabelas pandas deverão ser enviadas diretamente do colab para arquivos csv.\n",
        "\n",
        "# 8 - O formato de entrega é o próprio link, ou arquivo ypynb do colab"
      ],
      "metadata": {
        "id": "NzNMnotjPvIa"
      },
      "execution_count": null,
      "outputs": []
    },
    {
      "cell_type": "code",
      "source": [
        "import pandas as pd\n",
        "import pyspark.sql.functions as F"
      ],
      "metadata": {
        "id": "YyyLrm0cPtGl"
      },
      "execution_count": null,
      "outputs": []
    },
    {
      "cell_type": "code",
      "source": [
        "# 1 - filtro de funcionarios maior ou igual 60 anos\n",
        "funcionarios_60_mais = df_spark.filter('Idade >= 60')\n",
        "funcionarios_60_mais.show()\n",
        "funcionarios_60_mais = funcionarios_60_mais.toPandas()\n",
        "funcionarios_60_mais.to_csv('funcionarios_60_mais.csv')"
      ],
      "metadata": {
        "colab": {
          "base_uri": "https://localhost:8080/"
        },
        "id": "iJmHGJ1xPyS_",
        "outputId": "dfc39e9f-0629-42c1-c687-61ece0978d26"
      },
      "execution_count": null,
      "outputs": [
        {
          "output_type": "stream",
          "name": "stdout",
          "text": [
            "+-----+--------+--------------------+-----------------+--------------------+-----------------+------------+----------------+------------------------------------------+--------------+----------------------------------------------+---------+----------------+------------------------------------+-----------------+--------------------+-------------------------+------------+------------+--------------+---------------------------------+--------------+--------------+--------------------------------+--------------------+------------------------------------+--------------------------+--------------------------------------+-------------------------+---------------------------------------------+------------------------+------------------------------------+--------------------------------+----------------------------+-----------------------------------+\n",
            "|Idade|Demissão|  Viagem de negócios|Diárias recebidas|        Departamento|Distância de Casa|Escolaridade|Área de Formação|Número de contratos de trabalho na empresa|ID Funcionário|Nível de Satisfação com o ambiente de trabalho|   Gênero|Salário por hora|Nível de envolvimento com o trabalho|Nível hierárquico|               Cargo|Satisfação com o trabalho|Estado civil|Renda mensal|Salário Mensal|qtde de empresas que já trabalhou|Maior de idade|Faz hora extra|percentual de aumento de salário|score de performance|Satisfação nas relações Não trabalho|Jornada padrão de trabalho|opção de remaunração variável em ações|Total de anos trabalhados|Qtde de treinamentos realizados no último ano|Equilíbrio vida trabalho|Total de anos trabalhados na empresa|Anos trabalhados na função atual|Anos desde a última promoção|Anos trabalhando com o atual gestor|\n",
            "+-----+--------+--------------------+-----------------+--------------------+-----------------+------------+----------------+------------------------------------------+--------------+----------------------------------------------+---------+----------------+------------------------------------+-----------------+--------------------+-------------------------+------------+------------+--------------+---------------------------------+--------------+--------------+--------------------------------+--------------------+------------------------------------+--------------------------+--------------------------------------+-------------------------+---------------------------------------------+------------------------+------------------------------------+--------------------------------+----------------------------+-----------------------------------+\n",
            "|   60|     Não|     Viaja raramente|              422|Pesquisa e Desenv...|                7|           3|Ciências Humanas|                                         1|           549|                                             1| Feminino|              41|                                   3|                5|             Gerente|                        1|      Casado|       19566|          3854|                                5|           Sim|           Não|                              11|                   3|                                   4|                        80|                                     0|                       33|                                            5|                       1|                                  29|                               8|                          11|                                 10|\n",
            "|   60|     Não|Viaja frequentemente|             1499|              Vendas|               28|           3|       Marketing|                                         1|           573|                                             3| Feminino|              80|                                   2|                3| Executivo de vendas|                        1|      Casado|       10266|          2845|                                4|           Sim|           Não|                              19|                   3|                                   4|                        80|                                     0|                       22|                                            5|                       4|                                  18|                              13|                          13|                                 11|\n",
            "|   60|     Não|     Viaja raramente|             1179|              Vendas|               16|           4|       Marketing|                                         1|           732|                                             1|Masculino|              84|                                   3|                2| Executivo de vendas|                        1|    Solteiro|        5405|         11924|                                8|           Sim|           Não|                              14|                   3|                                   4|                        80|                                     0|                       10|                                            1|                       3|                                   2|                               2|                           2|                                  2|\n",
            "|   60|     Não|     Viaja raramente|              696|              Vendas|                7|           4|       Marketing|                                         1|          1233|                                             2|Masculino|              52|                                   4|                2| Executivo de vendas|                        4|  Divorciado|        5220|         10893|                                0|           Sim|           Sim|                              18|                   3|                                   2|                        80|                                     1|                       12|                                            3|                       3|                                  11|                               7|                           1|                                  9|\n",
            "|   60|     Não|     Viaja raramente|              370|Pesquisa e Desenv...|                1|           4|Ciências Médicas|                                         1|          1697|                                             3|Masculino|              92|                                   1|                3|Reprentante de saúde|                        4|  Divorciado|       10883|         20467|                                3|           Sim|           Não|                              20|                   4|                                   3|                        80|                                     1|                       19|                                            2|                       4|                                   1|                               0|                           0|                                  0|\n",
            "+-----+--------+--------------------+-----------------+--------------------+-----------------+------------+----------------+------------------------------------------+--------------+----------------------------------------------+---------+----------------+------------------------------------+-----------------+--------------------+-------------------------+------------+------------+--------------+---------------------------------+--------------+--------------+--------------------------------+--------------------+------------------------------------+--------------------------+--------------------------------------+-------------------------+---------------------------------------------+------------------------+------------------------------------+--------------------------------+----------------------------+-----------------------------------+\n",
            "\n"
          ]
        }
      ]
    },
    {
      "cell_type": "code",
      "source": [
        "# 2 - Média salárial funcionarios 60 ou mais anos\n",
        "funcionarios_60_media = df_spark.filter('Idade >= 60').agg(avg('Salário Mensal').alias('Média Salarial'))\n",
        "funcionarios_60_media.show()\n",
        "funcionarios_60_media = funcionarios_60_media.toPandas()\n",
        "funcionarios_60_media.to_csv('funcionarios_60_media.csv')"
      ],
      "metadata": {
        "colab": {
          "base_uri": "https://localhost:8080/"
        },
        "id": "iZMMOYpaPzN_",
        "outputId": "c4aaf385-7ed7-45a9-a504-7f78d1d6c233"
      },
      "execution_count": null,
      "outputs": [
        {
          "output_type": "stream",
          "name": "stdout",
          "text": [
            "+--------------+\n",
            "|Média Salarial|\n",
            "+--------------+\n",
            "|        9996.6|\n",
            "+--------------+\n",
            "\n"
          ]
        }
      ]
    },
    {
      "cell_type": "code",
      "source": [
        "# 3 - Idade média dos funcionários que fazem hora extra\n",
        "\n",
        "idade_media_hora_extra = df_spark.filter(df_spark['Faz hora extra'] == 'Sim').agg(round(mean('Idade')).alias('Idade Média - Hora Extra'))\n",
        "idade_media_hora_extra.show()\n",
        "idade_media_hora_extra = idade_media_hora_extra.toPandas()\n",
        "idade_media_hora_extra.to_csv('idade_media_hora_extra.csv', index=False)"
      ],
      "metadata": {
        "colab": {
          "base_uri": "https://localhost:8080/"
        },
        "id": "vdosdJ1wP0TO",
        "outputId": "3c23c12c-d0c2-4332-ddeb-907218460e32"
      },
      "execution_count": null,
      "outputs": [
        {
          "output_type": "stream",
          "name": "stdout",
          "text": [
            "+------------------------+\n",
            "|Idade Média - Hora Extra|\n",
            "+------------------------+\n",
            "|                    37.0|\n",
            "+------------------------+\n",
            "\n"
          ]
        }
      ]
    },
    {
      "cell_type": "code",
      "source": [
        "# 4 - Distribuição de funcionários por nível de satisfação com o trabalho\n",
        "\n",
        "distribuicao_funcionarios_satisfacao = df_spark.groupBy('Departamento').agg(round(mean('Satisfação com o trabalho'),4).alias('Média Satisfação com o Trabalho'))\n",
        "distribuicao_funcionarios_satisfacao.show()\n",
        "distribuicao_funcionarios_satisfacao = distribuicao_funcionarios_satisfacao.toPandas()\n",
        "distribuicao_funcionarios_satisfacao.to_csv('distribuicao_funcionarios_satisfacao.csv', index=False)"
      ],
      "metadata": {
        "colab": {
          "base_uri": "https://localhost:8080/"
        },
        "id": "J7XNos9JP13Y",
        "outputId": "1440eb1b-2217-4d57-cca1-5f90ad62e2a7"
      },
      "execution_count": null,
      "outputs": [
        {
          "output_type": "stream",
          "name": "stdout",
          "text": [
            "+--------------------+-------------------------------+\n",
            "|        Departamento|Média Satisfação com o Trabalho|\n",
            "+--------------------+-------------------------------+\n",
            "|              Vendas|                         2.7511|\n",
            "|Pesquisa e Desenv...|                         2.7263|\n",
            "|   Recursos HumaNãos|                         2.6032|\n",
            "+--------------------+-------------------------------+\n",
            "\n"
          ]
        }
      ]
    },
    {
      "cell_type": "code",
      "source": [
        "# 5 - Média de salário por departamento\n",
        "\n",
        "media_salarial_dep = df_spark.groupBy('Departamento').agg(round(mean('Salário Mensal'),2).alias('Média Salarial (R$)'))\n",
        "media_salarial_dep.show()\n",
        "media_salarial_dep = media_salarial_dep.toPandas()\n",
        "media_salarial_dep.to_csv('media_salarial_dep.csv', index=False)"
      ],
      "metadata": {
        "colab": {
          "base_uri": "https://localhost:8080/"
        },
        "id": "UVaxjWqNP3CW",
        "outputId": "c953cfc2-446e-4e37-ae1b-4a145e831612"
      },
      "execution_count": null,
      "outputs": [
        {
          "output_type": "stream",
          "name": "stdout",
          "text": [
            "+--------------------+-------------------+\n",
            "|        Departamento|Média Salarial (R$)|\n",
            "+--------------------+-------------------+\n",
            "|              Vendas|           14489.79|\n",
            "|Pesquisa e Desenv...|           14284.87|\n",
            "|   Recursos HumaNãos|           13492.98|\n",
            "+--------------------+-------------------+\n",
            "\n"
          ]
        }
      ]
    },
    {
      "cell_type": "code",
      "source": [
        "# 6 - Funcionários que foram demitidos e número de anos trabalhados\n",
        "\n",
        "func_demitidos_ano_trabalho = df_spark.filter(df_spark['Demissão']=='Sim').agg(round(mean('Total de anos trabalhados')).alias('Média de Anos Trabalhados de Funcionário Demitidos'))\n",
        "func_demitidos_ano_trabalho.show()\n",
        "func_demitidos_ano_trabalho = func_demitidos_ano_trabalho.toPandas()\n",
        "func_demitidos_ano_trabalho.to_csv('func_demitidos_ano_trabalho.csv', index=False)"
      ],
      "metadata": {
        "colab": {
          "base_uri": "https://localhost:8080/"
        },
        "id": "dVdi3783P4e1",
        "outputId": "0f206856-5c96-4f5e-f673-ba4a9c33270a"
      },
      "execution_count": null,
      "outputs": [
        {
          "output_type": "stream",
          "name": "stdout",
          "text": [
            "+--------------------------------------------------+\n",
            "|Média de Anos Trabalhados de Funcionário Demitidos|\n",
            "+--------------------------------------------------+\n",
            "|                                               8.0|\n",
            "+--------------------------------------------------+\n",
            "\n"
          ]
        }
      ]
    },
    {
      "cell_type": "code",
      "source": [
        "# 7 - Funcionários que viajam frequentemente e satisfação com o trabalho\n",
        "\n",
        "func_viagem_frequente_satisfacao_trabalho = df_spark.filter(df_spark['Viagem de negócios'] == 'Viaja frequentemente').agg(round(mean('Satisfação com o trabalho'),4).alias('Média Satisfação com o trabalho (Funcionário que Viaja Frequentemente)'))\n",
        "func_viagem_frequente_satisfacao_trabalho.show()\n",
        "func_viagem_frequente_satisfacao_trabalho = func_viagem_frequente_satisfacao_trabalho.toPandas()\n",
        "func_viagem_frequente_satisfacao_trabalho.to_csv('func_viagem_frequente_satisfacao_trabalho.csv', index=False)"
      ],
      "metadata": {
        "colab": {
          "base_uri": "https://localhost:8080/"
        },
        "id": "B0FKyRdcP5pl",
        "outputId": "77e19af6-b11d-4a03-9cee-03fcdc9633f6"
      },
      "execution_count": null,
      "outputs": [
        {
          "output_type": "stream",
          "name": "stdout",
          "text": [
            "+----------------------------------------------------------------------+\n",
            "|Média Satisfação com o trabalho (Funcionário que Viaja Frequentemente)|\n",
            "+----------------------------------------------------------------------+\n",
            "|                                                                2.7906|\n",
            "+----------------------------------------------------------------------+\n",
            "\n"
          ]
        }
      ]
    },
    {
      "cell_type": "code",
      "source": [
        "# 8 - Média de salário mensal por nível hierárquico\n",
        "\n",
        "media_salarial_nivel_hieraquico = df_spark.groupBy('Nível hierárquico').agg(round(mean('Salário Mensal'),2).alias('Média Salarial'))\n",
        "media_salarial_nivel_hieraquico.show()\n",
        "media_salarial_nivel_hieraquico = media_salarial_nivel_hieraquico.toPandas()\n",
        "media_salarial_nivel_hieraquico.to_csv('media_salarial_nivel_hieraquico.csv', index=False)"
      ],
      "metadata": {
        "colab": {
          "base_uri": "https://localhost:8080/"
        },
        "id": "ki1v-tomP7bP",
        "outputId": "aed6c7f4-cb23-45ea-ec43-d2fc7077d0e4"
      },
      "execution_count": null,
      "outputs": [
        {
          "output_type": "stream",
          "name": "stdout",
          "text": [
            "+-----------------+--------------+\n",
            "|Nível hierárquico|Média Salarial|\n",
            "+-----------------+--------------+\n",
            "|                1|      13686.44|\n",
            "|                3|      14634.46|\n",
            "|                5|      14312.06|\n",
            "|                4|      14538.55|\n",
            "|                2|      14774.52|\n",
            "+-----------------+--------------+\n",
            "\n"
          ]
        }
      ]
    },
    {
      "cell_type": "code",
      "source": [
        "# 9 - Satisfação com o trabalho por estado civil\n",
        "\n",
        "satisfacao_trabalho_estado_civil = df_spark.groupBy('Estado civil').agg(round(mean('Satisfação com o trabalho'),4).alias('Nível Médio de Satisfação com o Trabalho'))\n",
        "satisfacao_trabalho_estado_civil.show()\n",
        "satisfacao_trabalho_estado_civil = satisfacao_trabalho_estado_civil.toPandas()\n",
        "satisfacao_trabalho_estado_civil.to_csv('satisfacao_trabalho_estado_civil.csv', index=False)"
      ],
      "metadata": {
        "colab": {
          "base_uri": "https://localhost:8080/"
        },
        "id": "sg0aS_M4P8_n",
        "outputId": "9e55512b-be7c-40bd-c54b-9fc20e29ed21"
      },
      "execution_count": null,
      "outputs": [
        {
          "output_type": "stream",
          "name": "stdout",
          "text": [
            "+------------+----------------------------------------+\n",
            "|Estado civil|Nível Médio de Satisfação com o Trabalho|\n",
            "+------------+----------------------------------------+\n",
            "|  Divorciado|                                  2.6972|\n",
            "|    Solteiro|                                  2.7681|\n",
            "|      Casado|                                  2.7162|\n",
            "+------------+----------------------------------------+\n",
            "\n"
          ]
        }
      ]
    },
    {
      "cell_type": "code",
      "source": [
        "# 10 - Funcionários que trabalham mais de uma empresa anteriormente e fazem hora extra\n",
        "\n",
        "empresas_anterior_hora_extra = df_spark.filter((df_spark['qtde de empresas que já trabalhou'] >= 2) & (df_spark['Faz hora extra'] == 'Sim' ))\n",
        "empresas_anterior_hora_extra.select('qtde de empresas que já trabalhou', 'Faz hora extra').show()\n",
        "empresas_anterior_hora_extra = empresas_anterior_hora_extra.toPandas()\n",
        "empresas_anterior_hora_extra.to_csv('mais_de_uma_empresa_anterior_faz_hora_extra.csv', index=False)"
      ],
      "metadata": {
        "colab": {
          "base_uri": "https://localhost:8080/"
        },
        "id": "wqZOoIo_P-A2",
        "outputId": "4a2fed13-19f0-4ca3-fe76-d348e7e42986"
      },
      "execution_count": null,
      "outputs": [
        {
          "output_type": "stream",
          "name": "stdout",
          "text": [
            "+---------------------------------+--------------+\n",
            "|qtde de empresas que já trabalhou|Faz hora extra|\n",
            "+---------------------------------+--------------+\n",
            "|                                8|           Sim|\n",
            "|                                6|           Sim|\n",
            "|                                4|           Sim|\n",
            "|                                5|           Sim|\n",
            "|                                5|           Sim|\n",
            "|                                2|           Sim|\n",
            "|                                2|           Sim|\n",
            "|                                9|           Sim|\n",
            "|                                4|           Sim|\n",
            "|                                9|           Sim|\n",
            "|                                5|           Sim|\n",
            "|                                2|           Sim|\n",
            "|                                7|           Sim|\n",
            "|                                3|           Sim|\n",
            "|                                5|           Sim|\n",
            "|                                2|           Sim|\n",
            "|                                4|           Sim|\n",
            "|                                8|           Sim|\n",
            "|                                7|           Sim|\n",
            "|                                2|           Sim|\n",
            "+---------------------------------+--------------+\n",
            "only showing top 20 rows\n",
            "\n"
          ]
        }
      ]
    },
    {
      "cell_type": "code",
      "source": [
        "# 11 - Relação entre o percentual de aumento de salário e a satisfação com o trabalho\n",
        "\n",
        "percentual_aumento_salarial_satisfacao = df_spark.groupby('Satisfação com o trabalho').agg(round(mean('percentual de aumento de salário'),4).alias('Média de Aumento Salarial (%)'))\n",
        "percentual_aumento_salarial_satisfacao.show()\n",
        "percentual_aumento_salarial_satisfacao = percentual_aumento_salarial_satisfacao.toPandas()\n",
        "percentual_aumento_salarial_satisfacao.to_csv('percentual_aumento_salarial_satisfacao.csv', index=False)"
      ],
      "metadata": {
        "colab": {
          "base_uri": "https://localhost:8080/"
        },
        "id": "p1WrHFfnP_B0",
        "outputId": "9f796d55-60eb-4248-a3e7-bb299f06ab02"
      },
      "execution_count": null,
      "outputs": [
        {
          "output_type": "stream",
          "name": "stdout",
          "text": [
            "+-------------------------+-----------------------------+\n",
            "|Satisfação com o trabalho|Média de Aumento Salarial (%)|\n",
            "+-------------------------+-----------------------------+\n",
            "|                        1|                      15.2318|\n",
            "|                        3|                      15.0136|\n",
            "|                        4|                      15.4401|\n",
            "|                        2|                      15.1179|\n",
            "+-------------------------+-----------------------------+\n",
            "\n"
          ]
        }
      ]
    },
    {
      "cell_type": "code",
      "source": [
        "# 20 - Funcionários por opção de remuneração variável em ações e total de anos trabalhados\n",
        "\n",
        "funcionarios_remuneracao_acoes_anos_trabalhados = df_spark.groupBy('opção de remaunração variável em ações').agg(round(mean('Total de Anos Trabalhados')).alias('Total de Anos Trabalhados'))\n",
        "funcionarios_remuneracao_acoes_anos_trabalhados.show()\n",
        "funcionarios_remuneracao_acoes_anos_trabalhados = funcionarios_remuneracao_acoes_anos_trabalhados.toPandas()\n",
        "funcionarios_remuneracao_acoes_anos_trabalhados.to_csv('funcionarios_remuneracao_acoes_anos_trabalhados.csv', index=False)"
      ],
      "metadata": {
        "colab": {
          "base_uri": "https://localhost:8080/"
        },
        "id": "mL59BcPJGVo4",
        "outputId": "90a14f12-d46a-4cdc-c5a3-b099d2a6130d"
      },
      "execution_count": null,
      "outputs": [
        {
          "output_type": "stream",
          "name": "stdout",
          "text": [
            "+--------------------------------------+-------------------------+\n",
            "|opção de remaunração variável em ações|Total de Anos Trabalhados|\n",
            "+--------------------------------------+-------------------------+\n",
            "|                                     1|                     12.0|\n",
            "|                                     3|                     11.0|\n",
            "|                                     2|                     10.0|\n",
            "|                                     0|                     11.0|\n",
            "+--------------------------------------+-------------------------+\n",
            "\n"
          ]
        }
      ]
    }
  ]
}