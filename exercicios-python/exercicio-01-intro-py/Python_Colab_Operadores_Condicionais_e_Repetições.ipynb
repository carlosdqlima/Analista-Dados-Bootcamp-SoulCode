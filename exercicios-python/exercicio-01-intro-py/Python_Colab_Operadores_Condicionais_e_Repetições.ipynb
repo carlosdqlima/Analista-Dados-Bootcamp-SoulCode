{
  "nbformat": 4,
  "nbformat_minor": 0,
  "metadata": {
    "colab": {
      "provenance": [],
      "collapsed_sections": [
        "4W_G2TP5Cl1i",
        "SvDONc3TEF7Y",
        "f1So_wnpHazb"
      ],
      "authorship_tag": "ABX9TyMbsvG2FY/VDGvdkkH1rfOl",
      "include_colab_link": true
    },
    "kernelspec": {
      "name": "python3",
      "display_name": "Python 3"
    },
    "language_info": {
      "name": "python"
    }
  },
  "cells": [
    {
      "cell_type": "markdown",
      "metadata": {
        "id": "view-in-github",
        "colab_type": "text"
      },
      "source": [
        "<a href=\"https://colab.research.google.com/github/carlosdqlima/Analista-Dados-Bootcamp-SoulCode/blob/main/Exerc%C3%ADcio_01_Python_Colab_Operadores_Condicionais_e_Repeti%C3%A7%C3%B5es.ipynb\" target=\"_parent\"><img src=\"https://colab.research.google.com/assets/colab-badge.svg\" alt=\"Open In Colab\"/></a>"
      ]
    },
    {
      "cell_type": "markdown",
      "source": [
        "##**Introdução ao Python**##"
      ],
      "metadata": {
        "id": "pHWG2GhbCejx"
      }
    },
    {
      "cell_type": "markdown",
      "source": [
        "# Lista de Exercicios"
      ],
      "metadata": {
        "id": "0F3Rc3SwDKSr"
      }
    },
    {
      "cell_type": "code",
      "source": [
        "'''1. Cálculo de Despesa com Desconto Progressivo\n",
        "Problema: Crie um programa que receba o custo de três produtos e calcule o valor total.\n",
        "Se o total exceder R$ 500, aplique um desconto progressivo\n",
        "10% se o total for entre R$ 500 e R$ 1.000 e 15% se for acima de R$ 1.000.\n",
        "Mostre o valor final após o desconto\n",
        "'''\n",
        "\n",
        "p1 = (float (input (\"Digite o custo do primeiro produto em reais: \")))\n",
        "p2 = (float (input (\"Digite o custo do segundo produto em reais: \")))\n",
        "p3 = (float (input (\"Digite o custo do terceiro produto em reais: \")))\n",
        "total = p1 + p2 + p3\n",
        "print (\"O valor total dos produtos sem descontos é: R$\", total)\n",
        "\n",
        "if (total >= 500 and total <= 1000 ):\n",
        "  desconto = total * 0.10\n",
        "  totaldesconto = total - desconto\n",
        "  print (\"O valor final com 10% de desconto é: R$\", totaldesconto)\n",
        "elif (total > 1000):\n",
        "  desconto = total * 0.15\n",
        "  totaldesconto = total - desconto\n",
        "  print (\"O valor final com 15% de desconto é: R$\", totaldesconto)\n",
        "else:\n",
        "  print (\"O valor final é: R$\", total)"
      ],
      "metadata": {
        "colab": {
          "base_uri": "https://localhost:8080/"
        },
        "id": "z8RRwqkzDP90",
        "outputId": "f256df42-d8ed-4f69-e524-ae0f865351bf"
      },
      "execution_count": null,
      "outputs": [
        {
          "output_type": "stream",
          "name": "stdout",
          "text": [
            "Digite o custo do primeiro produto em reais:500\n",
            "Digite o custo do segundo produto em reais:500\n",
            "Digite o custo do terceiro produto em reais:1\n",
            "O valor total dos produtos sem descontos é: R$ 1001.0\n",
            "O valor final com 15% de desconto é: R$ 850.85\n"
          ]
        }
      ]
    },
    {
      "cell_type": "code",
      "source": [
        "'''2. Classificação de Idade com Mensagens Personalizadas\n",
        "Desenvolva um programa que receba a idade de uma pessoa e determine sua categoria:\n",
        "\"Criança\" (0-12 anos). Exiba \"Você é uma criança cheia de energia!\", \"Adolescente\" (13-17 anos), \"Adulto\" (18-64 anos) ou \"Idoso\" (65 anos ou mais).\n",
        "Exiba \"Você tem muita sabedoria como idoso!\",\n",
        "'''\n",
        "\n",
        "idade = int(input(\"Digite a sua idade:\"))\n",
        "\n",
        "if (idade >= 0 and idade <= 12):\n",
        "  print(\"Você é uma criança cheia de energia e potencialidade!\")\n",
        "elif (idade >= 13 and idade <= 17):\n",
        "  print(\"Você é um adolescente e terá um futuro brilhante!\")\n",
        "elif (idade >= 18 and idade <=64):\n",
        "  print(\"Você é um adulto e está pronto para a vida!\")\n",
        "elif (idade >= 65 and idade <=150):\n",
        "  print(\"Você tem muita sabedoria como idoso!\")\n",
        "else:\n",
        "  print(\"Idade inválida\")\n"
      ],
      "metadata": {
        "colab": {
          "base_uri": "https://localhost:8080/"
        },
        "id": "h_-E4TJNH2Q7",
        "outputId": "357308bb-f58c-40e9-8e7a-7dae28d1f5ad"
      },
      "execution_count": null,
      "outputs": [
        {
          "output_type": "stream",
          "name": "stdout",
          "text": [
            "Digite a sua idade:200\n",
            "Idade inválida\n"
          ]
        }
      ]
    },
    {
      "cell_type": "code",
      "source": [
        "''' 3. Verificação de Número Par, Ímpar e Positivo/Negativo\n",
        "Crie um programa que receba um número inteiro e informe se ele é par ou ímpar\n",
        "Adicionalmente, se é positivo, negativo ou zero.\n",
        "Inclua uma mensagem especial para números que sejam múltiplos de 10.\n",
        "'''\n",
        "\n",
        "numero = int(input(\"Digite um número inteiro: \"))\n",
        "if (numero % 2 == 0):\n",
        "  print(\"O numero é par\")\n",
        "else:\n",
        "  print(\"O numero é impar\")\n",
        "\n",
        "if (numero > 0):\n",
        "  print (\"O numero é positivo\")\n",
        "if (numero < 0):\n",
        "  print (\"O numero é negativo\")\n",
        "if (numero == 0):\n",
        "  print (\"O numero é zero\")\n",
        "\n",
        "if (numero % 10 == 0):\n",
        "  print (\"O numero é multiplo de 10\")\n",
        "else:\n",
        "  print (\"O numero não é multiplo de 10\")\n"
      ],
      "metadata": {
        "colab": {
          "base_uri": "https://localhost:8080/"
        },
        "id": "aRY46G1XKL9v",
        "outputId": "a58bce73-15a7-4f45-82f7-5f372159bd71"
      },
      "execution_count": null,
      "outputs": [
        {
          "output_type": "stream",
          "name": "stdout",
          "text": [
            "Digite um número inteiro: -11\n",
            "O numero é impar\n",
            "O numero é negativo\n",
            "O numero não é multiplo de 10\n"
          ]
        }
      ]
    },
    {
      "cell_type": "code",
      "source": [
        "''' 4. Cálculo de Média com Condição de Recuperação\n",
        " Desenvolva um programa que receba as notas de quatro provas e calcule a média.\n",
        " Se a média for menor que 5, informe que o aluno está reprovado.\n",
        " Se estiver entre 5 e 7, informe que o aluno está em recuperação,\n",
        " e se for maior ou igual a 7, informe que o aluno está aprovado.\n",
        "'''\n",
        "\n",
        "prova1 = float(input(\"Digite a nota da primeira prova: \"))\n",
        "prova2 = float(input(\"Digite a nota da segunda prova: \"))\n",
        "prova3 = float(input(\"Digite a nota da terceira prova: \"))\n",
        "prova4 = float(input(\"Digite a nota da quarta prova: \"))\n",
        "media = (prova1 + prova2 + prova3 + prova4) / 4\n",
        "\n",
        "if (media < 5):\n",
        "  print(\"O aluno está reprovado\")\n",
        "elif (media >= 5 and media <= 7):\n",
        "  print(\"o aluno está de recuperação\")\n",
        "else:\n",
        "  print(\"O aluno está aprovado\")"
      ],
      "metadata": {
        "colab": {
          "base_uri": "https://localhost:8080/"
        },
        "id": "0GSybm8uX_Kz",
        "outputId": "be14a5e0-096e-4c61-e0fa-5673bdc8edec"
      },
      "execution_count": null,
      "outputs": [
        {
          "output_type": "stream",
          "name": "stdout",
          "text": [
            "Digite a nota da primeira prova: 10\n",
            "Digite a nota da segunda prova: 10\n",
            "Digite a nota da terceira prova: 10\n",
            "Digite a nota da quarta prova: 10\n",
            "O aluno está aprovado\n"
          ]
        }
      ]
    },
    {
      "cell_type": "code",
      "source": [
        "'''\n",
        "5. Classificação e Ajuste de Salário com Reajuste\n",
        " Crie um programa que receba o salário de um funcionário e determine sua faixa salarial:\n",
        " \"Baixa\" (até R$ 2.500). Aplique um reajuste de 7% para a faixa baixa,\n",
        " \"Média\" (de R$ 2.501 a R$ 5.000) 5% para a faixa média\n",
        " \"Alta\" (acima de R$ 5.000). 3% para a faixa alta.\n",
        " Mostre o salário reajustado.\n",
        "'''\n",
        "\n",
        "salario = float(input(\"Digite o salário do funcionário:\"))\n",
        "\n",
        "if (salario <= 2500):\n",
        "  print(\"A faixa salarial é baixa\")\n",
        "  reajustesalario = salario * 1.07\n",
        "  print(\"O salário reajustado é: R$\", reajustesalario)\n",
        "\n",
        "if (salario >= 2501 and salario <= 5000):\n",
        "  print(\"A faixa salarial é média\")\n",
        "  reajustesalario = salario * 1.05\n",
        "  print(\"O salário reajustado é: R$\", reajustesalario)\n",
        "\n",
        "if (salario > 5000):\n",
        "  print(\"A faixa salarial é alta\")\n",
        "  reajustesalario = salario * 1.03\n",
        "  print(\"O salário reajustado é: R$\", reajustesalario)\n"
      ],
      "metadata": {
        "colab": {
          "base_uri": "https://localhost:8080/"
        },
        "id": "tj0KCeVIazW0",
        "outputId": "06712d4a-e599-4fe3-d8a4-0746942d99a0"
      },
      "execution_count": null,
      "outputs": [
        {
          "output_type": "stream",
          "name": "stdout",
          "text": [
            "Digite o salário do funcionário:3001\n",
            "A faixa salarial é média\n",
            "O salário reajustado é: R$ 3151.05\n"
          ]
        }
      ]
    },
    {
      "cell_type": "code",
      "source": [
        "'''\n",
        " 6 Verificação de Ano Bissexto com Mensagens\n",
        " Desenvolva um programa que receba um ano e determine se ele é bissexto.\n",
        " Se for, informe que \"O ano é bissexto e possui 366 dias.\"\n",
        " Caso contrário, informe que \"O ano não é bissexto e possui 365 dias.\"\n",
        "'''\n",
        "\n",
        "ano = int(input(\"Digite um ano: \"))\n",
        "\n",
        "if (ano % 4 == 0 and ano % 100 != 0) or (ano % 400 == 0):\n",
        "  print(\"O ano é bissexto e possui 366 dias\")\n",
        "else:\n",
        "  print(\"O ano não é bissexto e possui 365 dias\")\n"
      ],
      "metadata": {
        "colab": {
          "base_uri": "https://localhost:8080/"
        },
        "id": "ARSwIZCXkP0q",
        "outputId": "3d9c53e5-e8a2-4fc1-ddd9-f5ecfe69c0a2"
      },
      "execution_count": null,
      "outputs": [
        {
          "output_type": "stream",
          "name": "stdout",
          "text": [
            "Digite um ano: 2023\n",
            "O ano não é bissexto e possui 365 dias\n"
          ]
        }
      ]
    },
    {
      "cell_type": "code",
      "source": [
        "''' 7 - Conversão e Comparação de Temperatura\n",
        "  Crie um programa que receba uma temperatura em graus Celsius e a converta para Fahrenheit.\n",
        "  Em seguida, verifique se a temperatura em Fahrenheit\n",
        "  é inferior a 32°F (fria)\n",
        "  entre 32°F e 68°F (amena)\n",
        "  superior a 68°F (quente)\n",
        "  Mostre a classificação junto com a temperatura convertida.\n",
        "'''\n",
        "\n",
        "from logging import fatal\n",
        "\n",
        "celsius = float(input(\"Digite a temperatura em graus Celsius:\"))\n",
        "fahrenheit = (celsius * 9/5) + 32\n",
        "print(\"A temperatura em Fahrenheit é:\" , fahrenheit, \"°F\")\n",
        "if (fahrenheit < 32):\n",
        "  print(\"A temperatura é fria\")\n",
        "elif (fahrenheit >= 32 and fahrenheit <= 68):\n",
        "  print(\"A temperatura é amena\")\n",
        "else:\n",
        "  print(\"A temperatura é quente\")\n",
        "\n"
      ],
      "metadata": {
        "colab": {
          "base_uri": "https://localhost:8080/"
        },
        "id": "QPPjNQXezM0c",
        "outputId": "0eafb625-f693-4fd2-cabe-957f3b4653e2"
      },
      "execution_count": null,
      "outputs": [
        {
          "output_type": "stream",
          "name": "stdout",
          "text": [
            "Digite a temperatura em graus Celsius:30\n",
            "A temperatura em Fahrenheit é: 86.0 °F\n",
            "A temperatura é quente\n"
          ]
        }
      ]
    },
    {
      "cell_type": "code",
      "source": [
        "''' 8 Comparação de Três Números com Verificação de Ordenação\n",
        " Desenvolva um programa que receba três números inteiros e determine qual é o maior e o menor.\n",
        " Além disso, verifique e informe se os números estão em ordem crescente, decrescente ou se não estão ordenados.\n",
        "'''\n",
        "\n",
        "numero1 = int(input(\"Digite o primeiro número inteiro:\"))\n",
        "numero2 = int(input(\"Diite o segundo número inteiro:\"))\n",
        "numero3 = int(input(\"Digite o terceiro numero inteiro:\"))\n",
        "\n",
        "maior = max(numero1, numero2, numero3)\n",
        "print(\"O maior número é: \", maior)\n",
        "menor = min(numero1, numero2, numero3)\n",
        "print(\"O menor número é: \", menor)\n",
        "\n",
        "if (numero1 < numero2 < numero3):\n",
        "  print(\"Os numeros estão em ordem crescente\")\n",
        "elif (numero1 > numero2 > numero3):\n",
        "  print(\"Os numeros estão em ordem decrescente\")\n",
        "else:\n",
        "  print(\"Os numeros não estão ordenados\")\n"
      ],
      "metadata": {
        "colab": {
          "base_uri": "https://localhost:8080/"
        },
        "id": "qgKELqp6zP4p",
        "outputId": "093d3f90-3bca-4f25-e798-e79c23bef255"
      },
      "execution_count": null,
      "outputs": [
        {
          "output_type": "stream",
          "name": "stdout",
          "text": [
            "Digite o primeiro número inteiro:5\n",
            "Diite o segundo número inteiro:9\n",
            "Digite o terceiro numero inteiro:10\n",
            "O maior número é:  10\n",
            "O menor número é:  5\n",
            "Os numeros estão em ordem crescente\n"
          ]
        }
      ]
    },
    {
      "cell_type": "code",
      "source": [
        "'''\n",
        " 9 - Calculadora de Desconto com Condição de Pagamento\n",
        " Crie um programa que receba o valor de uma compra e determine o desconto a ser aplicado.\n",
        " Aplique 20% de desconto para compras acima de R$ 1.500\n",
        " 10% para compras entre R$ 800 e R$ 1.500,\n",
        " e 5% para compras abaixo de R$ 800.\n",
        " Se o pagamento for à vista, aplique um desconto adicional de 5% sobre o valor final com desconto.\n",
        "'''\n",
        "\n",
        "valor_compra = float(input(\"Qual foi o valor da sua compra? \"))\n",
        "forma_pagamento = (input(\"Você pagou a vista? por favor responda com sim / não \"))\n",
        "\n",
        "if (valor_compra >=1500):\n",
        "  desconto = (valor_compra * 0.20)\n",
        "  print(\"Parabéns!! você ganhou um desconto de: R$\", desconto)\n",
        "  if (forma_pagamento == \"sim\"):\n",
        "    desconto_avista = (desconto * 0.05)\n",
        "    print(\"Você fez a compra a vista e ganhou um desconto adicional de: R$\", desconto_avista)\n",
        "elif (valor_compra >= 800 and valor_compra <= 1500):\n",
        "  desconto = (valor_compra * 0.10)\n",
        "  print(\"Parabéns!! você ganhou um desconto de: R$\", desconto)\n",
        "  if (forma_pagamento == \"sim\"):\n",
        "    desconto_avista = (desconto * 0.05)\n",
        "    print(\"Você fez a compra a vista e ganhou um desconto adicional de: R$\", desconto_avista)\n",
        "elif (valor_compra < 800):\n",
        "  desconto = (valor_compra * 0.5)\n",
        "  print(\"Parabéns!! você ganhou um desconto de: R$\", desconto )\n",
        "  if (forma_pagamento == \"sim\"):\n",
        "    desconto_avista = (desconto * 0.05)\n",
        "    print(\"Você fez a compra a vista e ganhou um desconto adicional de: R$\", desconto_avista)\n",
        "\n",
        "\n"
      ],
      "metadata": {
        "colab": {
          "base_uri": "https://localhost:8080/"
        },
        "id": "2pnFF8juzSpR",
        "outputId": "5d061488-35ad-4094-c13a-f4f2e5143317"
      },
      "execution_count": null,
      "outputs": [
        {
          "output_type": "stream",
          "name": "stdout",
          "text": [
            "Qual foi o valor da sua compra? 10\n",
            "Você pagou a vista? por favor responda com sim / não sim\n",
            "Parabéns!! você ganhou um desconto de: R$ 5.0\n",
            "Você fez a compra a vista e ganhou um desconto adicional de: R$ 0.25\n"
          ]
        }
      ]
    },
    {
      "cell_type": "code",
      "source": [
        "''' 10 Verificação de Senha Segura com Requisitos Adicionais\n",
        " Desenvolva um programa que receba uma senha e verifique se ela é segura.\n",
        " Uma senha é considerada segura se tiver pelo menos 8 caracteres,\n",
        " incluir pelo menos uma letra maiúscula, uma letra minúscula, um número e um caractere especial (como !, @, #).\n",
        " Informe se a senha é segura ou não e liste quais requisitos estão faltando.\n",
        "'''\n",
        "\n",
        "import re\n",
        "\n",
        "senha = input(\"Digite a senha: \")\n",
        "faltando = []\n",
        "if len(senha) < 8:\n",
        "    faltando.append(\"ter pelo menos 8 caracteres\")\n",
        "if not re.search(r'[A-Z]', senha):\n",
        "    faltando.append(\"incluir pelo menos uma letra maiúscula\")\n",
        "if not re.search(r'[a-z]', senha):\n",
        "    faltando.append(\"incluir pelo menos uma letra minúscula\")\n",
        "if not re.search(r'[0-9]', senha):\n",
        "    faltando.append(\"incluir pelo menos um número\")\n",
        "if not re.search(r'[!@#$%^&*(),.?\":{}|<>]', senha):\n",
        "    faltando.append(\"incluir pelo menos um caractere especial\")\n",
        "if not faltando:\n",
        "    print(\"Senha segura!\")\n",
        "else:\n",
        "    print(\"Senha insegura. Requisitos faltando: \" + \", \".join(faltando))\n",
        "\n",
        "\n",
        "\n",
        "\n"
      ],
      "metadata": {
        "colab": {
          "base_uri": "https://localhost:8080/"
        },
        "id": "jcGIHUAWzUbo",
        "outputId": "a644a13b-88ff-4939-c9d3-6ad3b8717283"
      },
      "execution_count": 5,
      "outputs": [
        {
          "output_type": "stream",
          "name": "stdout",
          "text": [
            "Digite a senha: Senha123!\n",
            "Senha segura!\n"
          ]
        }
      ]
    },
    {
      "cell_type": "code",
      "source": [
        "'''\n",
        " 11 - Contador de Números Ímpares\n",
        " Crie um programa que conte e imprima todos os números ímpares entre 1 e 100 usando um loop `for`.\n",
        "'''\n",
        "\n",
        "x = 1\n",
        "for x in range(1, 101):\n",
        "  if (x % 2 != 0):\n",
        "    print(x)"
      ],
      "metadata": {
        "colab": {
          "base_uri": "https://localhost:8080/"
        },
        "id": "F_Gr-VNdH6xs",
        "outputId": "edafbdd2-a69a-44bb-f5fe-ffe4f83ec5de"
      },
      "execution_count": null,
      "outputs": [
        {
          "output_type": "stream",
          "name": "stdout",
          "text": [
            "1\n",
            "3\n",
            "5\n",
            "7\n",
            "9\n",
            "11\n",
            "13\n",
            "15\n",
            "17\n",
            "19\n",
            "21\n",
            "23\n",
            "25\n",
            "27\n",
            "29\n",
            "31\n",
            "33\n",
            "35\n",
            "37\n",
            "39\n",
            "41\n",
            "43\n",
            "45\n",
            "47\n",
            "49\n",
            "51\n",
            "53\n",
            "55\n",
            "57\n",
            "59\n",
            "61\n",
            "63\n",
            "65\n",
            "67\n",
            "69\n",
            "71\n",
            "73\n",
            "75\n",
            "77\n",
            "79\n",
            "81\n",
            "83\n",
            "85\n",
            "87\n",
            "89\n",
            "91\n",
            "93\n",
            "95\n",
            "97\n",
            "99\n"
          ]
        }
      ]
    },
    {
      "cell_type": "code",
      "source": [
        "'''\n",
        " 12 - Soma de Números até um Limite\n",
        " Desenvolva um programa que receba um número inteiro positivo e use um loop `while` para calcular a soma de todos os números de 1 até o número fornecido.\n",
        "'''\n",
        "\n",
        "numero = int(input(\"Digite um número inteiro e positivo, por favor: \"))\n",
        "\n",
        "contador = 1\n",
        "soma = 0\n",
        "\n",
        "if (numero <= 0):\n",
        "  print(\"O número precisa ser positivo\")\n",
        "  while (numero <= 0):\n",
        "    numero = int(input(\"Digite um número inteiro e positivo, por favor: \"))\n",
        "    while (contador < numero):\n",
        "      soma += contador\n",
        "      contador += 1\n",
        "  print(\"A soma dos números de 1 até\", numero, \"é:\", soma)\n",
        "else:\n",
        "  while (contador < numero):\n",
        "    soma += contador\n",
        "    contador += 1\n",
        "  print(\"A soma dos números de 1 até\", numero, \"é:\", soma)\n"
      ],
      "metadata": {
        "colab": {
          "base_uri": "https://localhost:8080/"
        },
        "id": "zEf1idgqIAki",
        "outputId": "a10ea19a-7bf3-40ea-d126-a9bcce5b30a5"
      },
      "execution_count": null,
      "outputs": [
        {
          "output_type": "stream",
          "name": "stdout",
          "text": [
            "Digite um número inteiro e positivo, por favor: 5\n",
            "A soma dos números de 1 até 5 é: 10\n"
          ]
        }
      ]
    },
    {
      "cell_type": "code",
      "source": [
        "'''\n",
        " 13 - Número de Tentativas para Senha\n",
        " Crie um programa que limite o número de tentativas para digitar a senha correta.\n",
        " O usuário deve ter no máximo 3 tentativas. Use `while` e `if`.\n",
        "'''\n",
        "\n",
        "senha_correta = \"123\"\n",
        "tentativas_maximas = 3\n",
        "contar_tentativas = 0\n",
        "\n",
        "senha = input(\"Digite a sua senha: \")\n",
        "while (contar_tentativas < tentativas_maximas):\n",
        "  if (senha == senha_correta):\n",
        "    print (\"Acesso liberado\")\n",
        "    break\n",
        "  else:\n",
        "    contar_tentativas += 1\n",
        "    if (contar_tentativas < tentativas_maximas):\n",
        "      senha = input(\"Senha incorreta. Digite a sua senha novamente: \")\n",
        "    else: print(\"Número máximo de tentativas atingido. Acesso Bloqueado\")\n",
        "\n",
        "\n"
      ],
      "metadata": {
        "id": "0pfASh_ZUxMb",
        "outputId": "b3396a9c-2f56-4113-d982-0f3e7d8526b9",
        "colab": {
          "base_uri": "https://localhost:8080/"
        }
      },
      "execution_count": 1,
      "outputs": [
        {
          "output_type": "stream",
          "name": "stdout",
          "text": [
            "Digite a sua senha: 123\n",
            "Acesso liberado\n"
          ]
        }
      ]
    },
    {
      "cell_type": "code",
      "source": [
        "''' 14. Fatorial de um Número\n",
        " Calcule o fatorial de um número fornecido pelo usuário usando um loop `for`.\n",
        " O fatorial de um número `n` é o produto de todos os números de 1 até `n`.\n",
        "'''\n",
        "\n",
        "n = (int(input(\"Digite um número: \")))\n",
        "\n",
        "fatorial = 1\n",
        "\n",
        "for i in range (1, n + 1):\n",
        "  fatorial *= i\n",
        "\n",
        "print(\"O fatorial de,\", n, \"é:\", fatorial)\n",
        "\n",
        "\n",
        "\n"
      ],
      "metadata": {
        "id": "0gsTnPHZwBzg",
        "colab": {
          "base_uri": "https://localhost:8080/"
        },
        "outputId": "1c6dae99-9803-4e23-89f0-a9ec3f52b7e0"
      },
      "execution_count": null,
      "outputs": [
        {
          "output_type": "stream",
          "name": "stdout",
          "text": [
            "Digite um número: 10\n",
            "O fatorial de, 10 é: 3628800\n"
          ]
        }
      ]
    },
    {
      "cell_type": "code",
      "source": [
        "'''\n",
        " 15. Verificação de Primalidade\n",
        " Crie um programa que verifique se um número é primo.\n",
        " Use um loop `for` e condicionais para determinar se o número tem apenas dois divisores: 1 e ele mesmo.\n",
        "'''\n",
        "\n",
        "numero = int(input(\"Digite um numero: \"))\n",
        "\n",
        "if numero > 1:\n",
        "  primo = True\n",
        "  for i in range (2, numero):\n",
        "    if (numero % i == 0):\n",
        "      primo = False\n",
        "      break\n",
        "\n",
        "  if (primo):\n",
        "    print(\"É um numero primo\")\n",
        "  else:\n",
        "    print(\"Não é um numero primo\")\n",
        "else:\n",
        "    print(\"Não é um numero primo\")\n"
      ],
      "metadata": {
        "id": "EfQjMf78wNHV",
        "colab": {
          "base_uri": "https://localhost:8080/"
        },
        "outputId": "e99285cc-f51f-4adb-d418-b27ec48e95b7"
      },
      "execution_count": null,
      "outputs": [
        {
          "output_type": "stream",
          "name": "stdout",
          "text": [
            "Digite um numero: 97\n",
            "É um numero primo\n"
          ]
        }
      ]
    },
    {
      "cell_type": "code",
      "source": [
        "''' 16. Sequência de Fibonacci\n",
        " Gere a sequência de Fibonacci até um número máximo fornecido pelo usuário usando um loop `while`.\n",
        " A sequência começa com 0 e 1, e cada número subsequente é a soma dos dois anteriores.\n",
        "'''\n",
        "numero_maximo = int(input(\"Digite o número máximo para gerar a sequencia Fibonacci: \"))\n",
        "inicio_sequencia = 0\n",
        "inicio_sequencia2 = 1\n",
        "\n",
        "print (inicio_sequencia)\n",
        "print (inicio_sequencia2)\n",
        "\n",
        "while inicio_sequencia2 < numero_maximo:\n",
        "  fibonacci = inicio_sequencia + inicio_sequencia2\n",
        "  inicio_sequencia = inicio_sequencia2\n",
        "  inicio_sequencia2 = fibonacci\n",
        "  print (fibonacci)\n",
        "\n",
        "\n"
      ],
      "metadata": {
        "id": "ascIry29wluF",
        "colab": {
          "base_uri": "https://localhost:8080/"
        },
        "outputId": "376621cb-2595-4482-e931-0158aaac0b2f"
      },
      "execution_count": null,
      "outputs": [
        {
          "output_type": "stream",
          "name": "stdout",
          "text": [
            "Digite o número máximo para gerar a sequencia Fibonacci: 13\n",
            "0\n",
            "1\n",
            "1\n",
            "2\n",
            "3\n",
            "5\n",
            "8\n",
            "13\n"
          ]
        }
      ]
    },
    {
      "cell_type": "code",
      "source": [
        "''' 17. Contar Caracteres em uma String\n",
        "  Conte quantas vezes um caractere específico aparece em uma string fornecida pelo usuário usando um loop `for`.\n",
        "'''\n",
        "\n",
        "texto = input(\"Digite um texto ou frase: \")\n",
        "caractere = input(\"Digite um caractere que voce deseja contar: \")\n",
        "contador = 0\n",
        "\n",
        "for letra in texto:\n",
        "  if (letra == caractere):\n",
        "    contador += 1\n",
        "\n",
        "print (\"Existe\", contador, \"caractere\", caractere, \"no seu texto\")\n",
        "\n"
      ],
      "metadata": {
        "id": "hviCn2lHwyHr",
        "colab": {
          "base_uri": "https://localhost:8080/"
        },
        "outputId": "53038bb7-b3b9-46d1-bf07-00d4477a5f36"
      },
      "execution_count": null,
      "outputs": [
        {
          "output_type": "stream",
          "name": "stdout",
          "text": [
            "Digite um texto ou frase: 4\n",
            "Digite um caractere que voce deseja contar: 4\n",
            "Existe 1 caractere 4 no seu texto\n"
          ]
        }
      ]
    },
    {
      "cell_type": "code",
      "source": [
        "''' 18. Tabuada de um Número\n",
        " Crie um programa que exiba a tabuada (de 1 a 10) de um número fornecido pelo usuário usando um loop `for`.\n",
        "\n",
        "'''\n",
        "\n",
        "numero = int(input(\"Digite um número para ver a sua tabuada: \"))\n",
        "\n",
        "for i in range (1, 11):\n",
        "  resultado = numero * i\n",
        "  print(f\"{numero}x{i}={resultado}\")\n",
        "\n",
        "\n",
        "\n"
      ],
      "metadata": {
        "id": "0jcj-mrbw5nR",
        "colab": {
          "base_uri": "https://localhost:8080/"
        },
        "outputId": "1c7ad160-7768-4690-9745-d42f99a992d3"
      },
      "execution_count": null,
      "outputs": [
        {
          "output_type": "stream",
          "name": "stdout",
          "text": [
            "Digite um número para ver a sua tabuada: 1\n",
            "1x1=1\n",
            "1x2=2\n",
            "1x3=3\n",
            "1x4=4\n",
            "1x5=5\n",
            "1x6=6\n",
            "1x7=7\n",
            "1x8=8\n",
            "1x9=9\n",
            "1x10=10\n"
          ]
        }
      ]
    },
    {
      "cell_type": "code",
      "source": [
        "''' 19. Contador de Letras em Palavras\n",
        " Dada uma lista de palavras, conte quantas letras `a` existem em todas as palavras usando um loop `for` e condicionais.\n",
        "'''\n",
        "\n",
        "lista_palavras = [\"cachorro\", \"carro\", \"prédio\", \"macaco\", \"nove\"]\n",
        "contador = 0\n",
        "\n",
        "for palavra in lista_palavras:\n",
        "  for letra in palavra:\n",
        "    if (letra == \"a\"):\n",
        "      contador += 1\n",
        "\n",
        "print(\"Existem\", contador, \"letras 'a' nas palavras da lista\")"
      ],
      "metadata": {
        "id": "a69u3OKxw_oW",
        "colab": {
          "base_uri": "https://localhost:8080/"
        },
        "outputId": "a24eb627-4af9-4cb6-8e60-3f28f7ef228e"
      },
      "execution_count": null,
      "outputs": [
        {
          "output_type": "stream",
          "name": "stdout",
          "text": [
            "Existem 4 letras 'a' nas palavras da lista\n"
          ]
        }
      ]
    },
    {
      "cell_type": "code",
      "source": [
        "''' 20. Conversão de Temperatura\n",
        " Desenvolva um programa que converta temperaturas de Celsius para Fahrenheit e vice-versa.\n",
        " Use loops para permitir múltiplas conversões até que o usuário decida parar.\n",
        "'''\n",
        "\n",
        "while True:\n",
        "    print(\"\\nConversor de Temperatura\")\n",
        "    print(\"1. Celsius para Fahrenheit\")\n",
        "    print(\"2. Fahrenheit para Celsius\")\n",
        "    print(\"3. Sair\")\n",
        "\n",
        "    escolha = input(\"Escolha uma opção (1/2/3): \")\n",
        "\n",
        "    if escolha == '3':\n",
        "        print(\"Obrigado por usar o programa!\")\n",
        "        break\n",
        "\n",
        "    if escolha in ['1', '2']:\n",
        "        temperatura = float(input(\"Digite a temperatura: \"))\n",
        "\n",
        "        if escolha == '1':\n",
        "            resultado = (temperatura * 9/5) + 32\n",
        "            print(f\"{temperatura}°C é igual a {resultado:.2f}°F\")\n",
        "        else:\n",
        "            resultado = (temperatura - 32) * 5/9\n",
        "            print(f\"{temperatura}°F é igual a {resultado:.2f}°C\")\n",
        "    else:\n",
        "        print(\"Opção inválida. Por favor, escolha 1, 2 ou 3.\")\n"
      ],
      "metadata": {
        "id": "8sTj3Q1qxF65",
        "colab": {
          "base_uri": "https://localhost:8080/"
        },
        "outputId": "9e04dbea-f4b9-40db-92c4-6827750e0893"
      },
      "execution_count": 2,
      "outputs": [
        {
          "output_type": "stream",
          "name": "stdout",
          "text": [
            "\n",
            "Conversor de Temperatura\n",
            "1. Celsius para Fahrenheit\n",
            "2. Fahrenheit para Celsius\n",
            "3. Sair\n",
            "Escolha uma opção (1/2/3): 3\n",
            "Obrigado por usar o programa!\n"
          ]
        }
      ]
    },
    {
      "cell_type": "code",
      "source": [
        "''' 21. Média de Notas\n",
        " Crie um programa que calcule a média de uma série de notas fornecidas pelo usuário.\n",
        " O programa deve parar quando o usuário digitar um valor negativo.\n",
        "'''\n",
        "\n",
        "soma_notas = 0\n",
        "quantidade_notas = 0\n",
        "\n",
        "while True:\n",
        "    nota = float(input(\"Digite uma nota (ou um número negativo para encerrar): \"))\n",
        "\n",
        "    if nota < 0:\n",
        "        break\n",
        "\n",
        "    soma_notas += nota\n",
        "    quantidade_notas += 1\n",
        "\n",
        "if quantidade_notas > 0:\n",
        "    print(f\"A Média das notas é: {media}\")\n",
        "else:\n",
        "    print(\"\\nNenhuma nota válida foi inserida.\")"
      ],
      "metadata": {
        "id": "2EZo5kg0xPVY",
        "colab": {
          "base_uri": "https://localhost:8080/"
        },
        "outputId": "c47cb1fa-9b88-459a-a69d-49b9931c5882"
      },
      "execution_count": null,
      "outputs": [
        {
          "output_type": "stream",
          "name": "stdout",
          "text": [
            "Digite uma nota (ou um número negativo para encerrar): 10\n",
            "Digite uma nota (ou um número negativo para encerrar): 10\n",
            "Digite uma nota (ou um número negativo para encerrar): 10\n",
            "Digite uma nota (ou um número negativo para encerrar): 10\n",
            "Digite uma nota (ou um número negativo para encerrar): -1\n",
            "A Média das notas é: 20.0\n"
          ]
        }
      ]
    },
    {
      "cell_type": "code",
      "source": [
        "''' 22. Números Divisíveis por 3 e 5\n",
        " Crie um programa que liste todos os números entre 1 e 100 que são divisíveis por 3 e por 5 usando um loop `for` e condicionais.\n",
        "'''\n",
        "print(\"Números entre 1 e 100 divisíveis por 3 e por 5:\")\n",
        "\n",
        "for numero in range (1, 101):\n",
        "  if (numero % 3 == 0 and numero % 5 == 0):\n",
        "    print (numero)"
      ],
      "metadata": {
        "id": "C5NXykUsxW7w",
        "colab": {
          "base_uri": "https://localhost:8080/"
        },
        "outputId": "94176793-7068-4ae2-b828-b51831f79de6"
      },
      "execution_count": null,
      "outputs": [
        {
          "output_type": "stream",
          "name": "stdout",
          "text": [
            "Números entre 1 e 100 divisíveis por 3 e por 5:\n",
            "15\n",
            "30\n",
            "45\n",
            "60\n",
            "75\n",
            "90\n"
          ]
        }
      ]
    },
    {
      "cell_type": "code",
      "source": [
        "''' 23. Inverter uma String\n",
        " Crie um programa que inverta uma string fornecida pelo usuário sem usar funções embutidas, utilizando um loop `for`.\n",
        "'''\n",
        "texto_original = input(\"Digite uma string para ser invertida: \")\n"
      ],
      "metadata": {
        "id": "7za_iFNfxc4E",
        "colab": {
          "base_uri": "https://localhost:8080/"
        },
        "outputId": "aca19393-d7cc-4920-a672-e6327c1ffe43"
      },
      "execution_count": null,
      "outputs": [
        {
          "output_type": "stream",
          "name": "stdout",
          "text": [
            "Digite uma string para ser invertida: casa\n",
            "A string invertida é: asac\n"
          ]
        }
      ]
    },
    {
      "cell_type": "code",
      "source": [
        "''' 24. Verificar Palíndromo\n",
        " Desenvolva um programa que verifique se uma palavra é um palíndromo (ou seja, se pode ser lida da mesma forma de trás para frente). Use um loop `for` e condicionais.\n",
        "'''\n",
        "palavra = input(\"Digite uma palavra pra verificar se é um palíndromo: \")\n",
        "palavra = palavra.lower()\n",
        "palavra_inversa = \"\"\n",
        "\n",
        "for letra in palavra:\n",
        "    palavra_inversa = letra + palavra_inversa\n",
        "\n",
        "if palavra == palavra_inversa:\n",
        "    print(f\"{palavra} é um palíndromo.\")\n",
        "else:\n",
        "    print(f\"{palavra} não é um palíndromo.\")\n"
      ],
      "metadata": {
        "id": "5oF0GeoSxhgJ",
        "colab": {
          "base_uri": "https://localhost:8080/"
        },
        "outputId": "5a561881-59ef-44fe-d173-2b3a498b161a"
      },
      "execution_count": null,
      "outputs": [
        {
          "output_type": "stream",
          "name": "stdout",
          "text": [
            "Digite uma palavra pra verificar se é um palíndromo: ovo\n",
            "ovo é um palíndromo.\n"
          ]
        }
      ]
    },
    {
      "cell_type": "code",
      "source": [
        "''' 25. Múltiplos de um Número\n",
        " Crie um programa que encontre todos os múltiplos de um número fornecido pelo usuário até um valor máximo também fornecido pelo usuario\n",
        "'''\n",
        "\n",
        "numero = int(input(\"Digite um número: \"))\n",
        "numero_maximo = int(input(\"Digite um numero máximo: \"))\n",
        "\n",
        "for i in range (1, numero_maximo + 1):\n",
        "  if (i % numero == 0):\n",
        "    print(i)\n"
      ],
      "metadata": {
        "id": "RhkBRUoHxm89",
        "colab": {
          "base_uri": "https://localhost:8080/"
        },
        "outputId": "f876fd90-cdef-4bb7-a437-a484fab22e63"
      },
      "execution_count": null,
      "outputs": [
        {
          "output_type": "stream",
          "name": "stdout",
          "text": [
            "Digite um número: 10\n",
            "Digite um numero máximo: 100\n",
            "10\n",
            "20\n",
            "30\n",
            "40\n",
            "50\n",
            "60\n",
            "70\n",
            "80\n",
            "90\n",
            "100\n"
          ]
        }
      ]
    },
    {
      "cell_type": "code",
      "source": [
        "''' 26. Gerar Números Aleatórios\n",
        " Gere e exiba uma lista de 10 números aleatórios entre 1 e 100. Use um loop `for` e a biblioteca `random` para isso.\n",
        "'''\n",
        "\n",
        "import random\n",
        "\n",
        "lista = [ ]\n",
        "for i in range (10):\n",
        "  numero_aleatorio = random.randint(1,100)\n",
        "  lista.append(numero_aleatorio)\n",
        "\n",
        "print(lista)\n"
      ],
      "metadata": {
        "id": "4p-moMN5xsL2",
        "colab": {
          "base_uri": "https://localhost:8080/"
        },
        "outputId": "7bb53a04-6a65-4cf7-92e1-bcebb301de33"
      },
      "execution_count": null,
      "outputs": [
        {
          "output_type": "stream",
          "name": "stdout",
          "text": [
            "[36, 90, 41, 19, 92, 50, 36, 99, 44, 95]\n"
          ]
        }
      ]
    },
    {
      "cell_type": "code",
      "source": [
        "''' 27. Contar Palavras em uma Frase\n",
        " Crie um programa que conte o número de palavras em uma frase fornecida pelo usuário.\n",
        " Use um loop `for` para iterar sobre as palavras da frase.\n",
        "'''\n",
        "\n",
        "frase = input(\"Digite uma frase: \")\n",
        "palavras = frase.split()\n",
        "contador = 0\n",
        "\n",
        "for palavra in palavras:\n",
        "  contador += 1\n",
        "print(contador)\n"
      ],
      "metadata": {
        "id": "YAuilDDexxqM",
        "colab": {
          "base_uri": "https://localhost:8080/"
        },
        "outputId": "b1530d87-6e28-4ef5-8ee8-764d588ef583"
      },
      "execution_count": null,
      "outputs": [
        {
          "output_type": "stream",
          "name": "stdout",
          "text": [
            "Digite uma frase: amanha irei no bar\n",
            "4\n"
          ]
        }
      ]
    },
    {
      "cell_type": "code",
      "source": [
        "''' 28. Tabuada de 1 a 10\n",
        " Crie um programa que exiba a tabuada de 1 a 10 usando dois loops `for`: um para o número base e outro para o multiplicador.\n",
        "'''\n",
        "\n",
        "numero_base = 1\n",
        "numero_multiplicador = 1\n",
        "\n",
        "for numero_base in range (1,11):\n",
        "  for numero_multiplicador in range (1,11):\n",
        "    resultado = numero_base * numero_multiplicador\n",
        "    print(f\"{numero_base}x{numero_multiplicador}={resultado}\")\n"
      ],
      "metadata": {
        "id": "LyAlyqRQx5L_",
        "colab": {
          "base_uri": "https://localhost:8080/"
        },
        "outputId": "2179b544-eb79-4e96-a43f-dd75dfad0b9e"
      },
      "execution_count": null,
      "outputs": [
        {
          "output_type": "stream",
          "name": "stdout",
          "text": [
            "1x1=1\n",
            "1x2=2\n",
            "1x3=3\n",
            "1x4=4\n",
            "1x5=5\n",
            "1x6=6\n",
            "1x7=7\n",
            "1x8=8\n",
            "1x9=9\n",
            "1x10=10\n",
            "2x1=2\n",
            "2x2=4\n",
            "2x3=6\n",
            "2x4=8\n",
            "2x5=10\n",
            "2x6=12\n",
            "2x7=14\n",
            "2x8=16\n",
            "2x9=18\n",
            "2x10=20\n",
            "3x1=3\n",
            "3x2=6\n",
            "3x3=9\n",
            "3x4=12\n",
            "3x5=15\n",
            "3x6=18\n",
            "3x7=21\n",
            "3x8=24\n",
            "3x9=27\n",
            "3x10=30\n",
            "4x1=4\n",
            "4x2=8\n",
            "4x3=12\n",
            "4x4=16\n",
            "4x5=20\n",
            "4x6=24\n",
            "4x7=28\n",
            "4x8=32\n",
            "4x9=36\n",
            "4x10=40\n",
            "5x1=5\n",
            "5x2=10\n",
            "5x3=15\n",
            "5x4=20\n",
            "5x5=25\n",
            "5x6=30\n",
            "5x7=35\n",
            "5x8=40\n",
            "5x9=45\n",
            "5x10=50\n",
            "6x1=6\n",
            "6x2=12\n",
            "6x3=18\n",
            "6x4=24\n",
            "6x5=30\n",
            "6x6=36\n",
            "6x7=42\n",
            "6x8=48\n",
            "6x9=54\n",
            "6x10=60\n",
            "7x1=7\n",
            "7x2=14\n",
            "7x3=21\n",
            "7x4=28\n",
            "7x5=35\n",
            "7x6=42\n",
            "7x7=49\n",
            "7x8=56\n",
            "7x9=63\n",
            "7x10=70\n",
            "8x1=8\n",
            "8x2=16\n",
            "8x3=24\n",
            "8x4=32\n",
            "8x5=40\n",
            "8x6=48\n",
            "8x7=56\n",
            "8x8=64\n",
            "8x9=72\n",
            "8x10=80\n",
            "9x1=9\n",
            "9x2=18\n",
            "9x3=27\n",
            "9x4=36\n",
            "9x5=45\n",
            "9x6=54\n",
            "9x7=63\n",
            "9x8=72\n",
            "9x9=81\n",
            "9x10=90\n",
            "10x1=10\n",
            "10x2=20\n",
            "10x3=30\n",
            "10x4=40\n",
            "10x5=50\n",
            "10x6=60\n",
            "10x7=70\n",
            "10x8=80\n",
            "10x9=90\n",
            "10x10=100\n"
          ]
        }
      ]
    },
    {
      "cell_type": "code",
      "source": [
        "''' 29. Verificar Paridade de Números\n",
        " Dado um número máximo fornecido pelo usuário,\n",
        " crie um programa que exiba todos os números de 1 até o máximo e informe se cada um é par ou ímpar.\n",
        "'''\n",
        "\n",
        "numero_maximo = int(input(\"Digite um número máximo: \"))\n",
        "\n",
        "for numero in range (1, numero_maximo + 1):\n",
        "  if (numero % 2 == 0):\n",
        "    print (f\"{numero} é par\")\n",
        "  else:\n",
        "    print (f\"{numero} é impar\")"
      ],
      "metadata": {
        "id": "12caATFFx7or",
        "colab": {
          "base_uri": "https://localhost:8080/"
        },
        "outputId": "f8d952de-c8f3-4732-f5b5-bcb4496bde05"
      },
      "execution_count": null,
      "outputs": [
        {
          "output_type": "stream",
          "name": "stdout",
          "text": [
            "Digite um número máximo: 5\n",
            "1 é impar\n",
            "2 é par\n",
            "3 é impar\n",
            "4 é par\n",
            "5 é impar\n"
          ]
        }
      ]
    },
    {
      "cell_type": "code",
      "source": [
        "''' 30. Somar Números em uma Lista\n",
        " **Descrição:** Crie uma lista de números e calcule a soma de todos os números positivos usando um loop `for`.\n",
        "'''\n",
        "\n",
        "lista_numeros = [10,1,1,1,10]\n",
        "total = 0\n",
        "\n",
        "for soma_numeros in lista_numeros:\n",
        "  total += soma_numeros\n",
        "print (total)\n"
      ],
      "metadata": {
        "id": "bMJxh5ZTyDdl",
        "colab": {
          "base_uri": "https://localhost:8080/"
        },
        "outputId": "6c62ecd1-7bf5-4b69-a08b-4554c605d4af"
      },
      "execution_count": null,
      "outputs": [
        {
          "output_type": "stream",
          "name": "stdout",
          "text": [
            "23\n"
          ]
        }
      ]
    }
  ]
}
