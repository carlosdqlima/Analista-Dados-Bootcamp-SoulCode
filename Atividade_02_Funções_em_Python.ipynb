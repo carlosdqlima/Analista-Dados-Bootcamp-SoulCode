{
  "nbformat": 4,
  "nbformat_minor": 0,
  "metadata": {
    "colab": {
      "provenance": [],
      "authorship_tag": "ABX9TyOjYIjB2aTGJfLzKbew+hJI",
      "include_colab_link": true
    },
    "kernelspec": {
      "name": "python3",
      "display_name": "Python 3"
    },
    "language_info": {
      "name": "python"
    }
  },
  "cells": [
    {
      "cell_type": "markdown",
      "metadata": {
        "id": "view-in-github",
        "colab_type": "text"
      },
      "source": [
        "<a href=\"https://colab.research.google.com/github/carlosdqlima/Analista-Dados-Bootcamp-SoulCode/blob/main/Atividade_02_Fun%C3%A7%C3%B5es_em_Python.ipynb\" target=\"_parent\"><img src=\"https://colab.research.google.com/assets/colab-badge.svg\" alt=\"Open In Colab\"/></a>"
      ]
    },
    {
      "cell_type": "markdown",
      "source": [
        "# Atividades 02 - Funções em Python"
      ],
      "metadata": {
        "id": "ojHxrTYd-rpi"
      }
    },
    {
      "cell_type": "markdown",
      "source": [
        "1. **Função de Saudação**:\n",
        "   - Crie uma função chamada `saudacao` que receba um nome como argumento e exiba uma mensagem de saudação no console."
      ],
      "metadata": {
        "id": "s3JHNtJWEEEy"
      }
    },
    {
      "cell_type": "code",
      "source": [
        "def saudacao(nome):\n",
        "  print (f\"Olá, {nome}. Seja bem-vindo!\")\n",
        "\n",
        "saudacao(\"Carlos\")"
      ],
      "metadata": {
        "colab": {
          "base_uri": "https://localhost:8080/"
        },
        "id": "_VhUcWvQ-qmv",
        "outputId": "21a12f95-a49d-49a4-bef8-3398a58472c5"
      },
      "execution_count": null,
      "outputs": [
        {
          "output_type": "stream",
          "name": "stdout",
          "text": [
            "Olá, Carlos. Seja bem-vindo!\n"
          ]
        }
      ]
    },
    {
      "cell_type": "markdown",
      "source": [
        "2. **Função de Soma**:\n",
        "   - Crie uma função chamada `soma` que receba dois números como argumentos e retorne a soma deles."
      ],
      "metadata": {
        "id": "EXsvTO0pLr9X"
      }
    },
    {
      "cell_type": "code",
      "source": [
        "def soma(a,b):\n",
        "  return a + b\n",
        "soma(1,2)"
      ],
      "metadata": {
        "colab": {
          "base_uri": "https://localhost:8080/"
        },
        "id": "IelDeFuzLy48",
        "outputId": "085057b1-331c-438c-cb4d-4010d7c973d3"
      },
      "execution_count": null,
      "outputs": [
        {
          "output_type": "execute_result",
          "data": {
            "text/plain": [
              "3"
            ]
          },
          "metadata": {},
          "execution_count": 13
        }
      ]
    },
    {
      "cell_type": "markdown",
      "source": [
        "3. **Função de Subtração**:\n",
        "   - Crie uma função chamada `subtracao` que receba dois números como argumentos e retorne a subtração do segundo número pelo primeiro."
      ],
      "metadata": {
        "id": "h8tSO2VeMO2l"
      }
    },
    {
      "cell_type": "code",
      "source": [
        "def subtracao (a,b):\n",
        "  return b - a\n",
        "resultado = (subtracao (4,5))\n",
        "print (f\"O resultado da subtração é: {resultado}\")"
      ],
      "metadata": {
        "colab": {
          "base_uri": "https://localhost:8080/"
        },
        "id": "ztrO_nG4MSca",
        "outputId": "77f17430-aab8-4f88-d918-b58a75bcfdad"
      },
      "execution_count": null,
      "outputs": [
        {
          "output_type": "stream",
          "name": "stdout",
          "text": [
            "O resultado da subtração é: 1\n"
          ]
        }
      ]
    },
    {
      "cell_type": "markdown",
      "source": [
        "4. **Função de Multiplicação**:\n",
        "   - Crie uma função chamada `multiplicacao` que receba dois números como argumentos e retorne a multiplicação deles."
      ],
      "metadata": {
        "id": "e6rPo5VZNYhG"
      }
    },
    {
      "cell_type": "code",
      "source": [
        "def multiplicacao (a,b):\n",
        "  return a * b\n",
        "resultado = (multiplicacao(10,5))\n",
        "print (f\"O resultado da multiplicação é: {resultado}\")"
      ],
      "metadata": {
        "colab": {
          "base_uri": "https://localhost:8080/"
        },
        "id": "P4s8y8CNNbal",
        "outputId": "2d271cb0-6a44-48d0-8b33-7b5fa1bad89a"
      },
      "execution_count": null,
      "outputs": [
        {
          "output_type": "stream",
          "name": "stdout",
          "text": [
            "O resultado da multiplicação é: 50\n"
          ]
        }
      ]
    },
    {
      "cell_type": "markdown",
      "source": [
        "5. **Função de Divisão**:\n",
        "   - Crie uma função chamada `divisao` que receba dois números como argumentos e retorne a divisão do primeiro pelo segundo."
      ],
      "metadata": {
        "id": "IkPFeoc1NcL1"
      }
    },
    {
      "cell_type": "code",
      "source": [
        "def divisao (a,b):\n",
        "  return a / b\n",
        "resultado = (divisao(10,2))\n",
        "print (f\"O resultado da divisão é: {resultado}\")"
      ],
      "metadata": {
        "colab": {
          "base_uri": "https://localhost:8080/"
        },
        "id": "q7a0_G0DN911",
        "outputId": "7b692529-30ae-49ce-bd34-616b3a149e89"
      },
      "execution_count": null,
      "outputs": [
        {
          "output_type": "stream",
          "name": "stdout",
          "text": [
            "O resultado da divisão é: 5.0\n"
          ]
        }
      ]
    },
    {
      "cell_type": "markdown",
      "source": [
        "6. **Função de Fatorial**:\n",
        "   - Crie uma função chamada `fatorial` que receba um número como argumento e retorne o fatorial desse número."
      ],
      "metadata": {
        "id": "7dnFNYOoSynu"
      }
    },
    {
      "cell_type": "code",
      "source": [
        "def fatorial(n):\n",
        "    resultado = 1\n",
        "    if n <= 0:\n",
        "        return 1\n",
        "\n",
        "    for i in range(1, n + 1):\n",
        "        resultado *= i\n",
        "\n",
        "    return resultado\n",
        "\n",
        "print(fatorial(6))\n"
      ],
      "metadata": {
        "colab": {
          "base_uri": "https://localhost:8080/"
        },
        "id": "9LugwQK9S2n3",
        "outputId": "ffd17cbd-f92f-401a-fc12-320763037f98"
      },
      "execution_count": null,
      "outputs": [
        {
          "output_type": "stream",
          "name": "stdout",
          "text": [
            "720\n"
          ]
        }
      ]
    },
    {
      "cell_type": "markdown",
      "source": [
        "7. **Função para Verificar Número Primo**:\n",
        "   - Crie uma função chamada `ePrimo` que receba um número como argumento e retorne `true` se o número for primo e `false` caso contrário."
      ],
      "metadata": {
        "id": "bBQmXNtHS3CJ"
      }
    },
    {
      "cell_type": "code",
      "source": [
        "def ePrimo(a):\n",
        "  if (a < 2):\n",
        "    return False\n",
        "  for i in range(2, a):\n",
        "    if (a % i == 0):\n",
        "      return False\n",
        "  return True\n",
        "\n",
        "ePrimo(7)\n"
      ],
      "metadata": {
        "colab": {
          "base_uri": "https://localhost:8080/"
        },
        "id": "rXpFSoiZS3XW",
        "outputId": "82e0dada-d623-46da-d25f-5ddbbb023772"
      },
      "execution_count": null,
      "outputs": [
        {
          "output_type": "execute_result",
          "data": {
            "text/plain": [
              "True"
            ]
          },
          "metadata": {},
          "execution_count": 49
        }
      ]
    },
    {
      "cell_type": "markdown",
      "source": [
        "8. **Função para Calcular Média**:\n",
        "   - Crie uma função chamada `media` que receba um array de números como argumento e retorne a média dos números."
      ],
      "metadata": {
        "id": "A7ahJfo9WZlS"
      }
    },
    {
      "cell_type": "code",
      "source": [
        "def media(*numeros: int ) -> float:\n",
        "  return sum(numeros) / len(numeros)\n",
        "\n",
        "resultado = media(1,2,4)\n",
        "\n",
        "print (f\"A média é: {resultado:.2f} \")"
      ],
      "metadata": {
        "colab": {
          "base_uri": "https://localhost:8080/"
        },
        "id": "3VYrkwu2WZ4L",
        "outputId": "319b9869-7bab-4a02-d949-723d0da9c128"
      },
      "execution_count": null,
      "outputs": [
        {
          "output_type": "stream",
          "name": "stdout",
          "text": [
            "A média é: 2.33 \n"
          ]
        }
      ]
    },
    {
      "cell_type": "markdown",
      "source": [
        "9. **Função para Inverter String**:\n",
        "   - Crie uma função chamada `inverterString` que receba uma string como argumento e retorne a string invertida."
      ],
      "metadata": {
        "id": "SVFR6n53dyXB"
      }
    },
    {
      "cell_type": "code",
      "source": [
        "def inverterString(string_invertida):\n",
        "  return string_invertida[::-1]\n",
        "inverterString(\"carlos\")"
      ],
      "metadata": {
        "id": "GirSb7Tbdyzo",
        "colab": {
          "base_uri": "https://localhost:8080/",
          "height": 36
        },
        "outputId": "daec9dfb-3a9d-4675-9bf0-2306f82c346c"
      },
      "execution_count": null,
      "outputs": [
        {
          "output_type": "execute_result",
          "data": {
            "text/plain": [
              "'solrac'"
            ],
            "application/vnd.google.colaboratory.intrinsic+json": {
              "type": "string"
            }
          },
          "metadata": {},
          "execution_count": 86
        }
      ]
    },
    {
      "cell_type": "markdown",
      "source": [
        "10. **Função para Contar Caracteres**:\n",
        "    - Crie uma função chamada `contarCaracteres` que receba uma string e um caractere como argumentos e retorne o número de vezes que o caractere aparece na string."
      ],
      "metadata": {
        "id": "hGBUFUcTmulZ"
      }
    },
    {
      "cell_type": "code",
      "source": [
        "def contarCaracteres(string, contar_string):\n",
        "  return string.count(contar_string)\n",
        "contarCaracteres(\"carlos lima\", \"a\")"
      ],
      "metadata": {
        "colab": {
          "base_uri": "https://localhost:8080/"
        },
        "id": "ZmxwqdHRmu45",
        "outputId": "6d9575e7-f5bf-4fa2-ee27-2b7b6efbd479"
      },
      "execution_count": null,
      "outputs": [
        {
          "output_type": "execute_result",
          "data": {
            "text/plain": [
              "2"
            ]
          },
          "metadata": {},
          "execution_count": 89
        }
      ]
    },
    {
      "cell_type": "markdown",
      "source": [
        "11. **Função Anônima**:\n",
        "    - Crie uma função anônima e atribua-a a uma variável chamada `multiplicar`. A função deve receber dois números como argumentos e retornar a multiplicação deles."
      ],
      "metadata": {
        "id": "iOgxnUBU7AWj"
      }
    },
    {
      "cell_type": "code",
      "source": [
        "multiplicar = lambda a,b: a * b\n",
        "\n",
        "print (multiplicar(2,5))\n"
      ],
      "metadata": {
        "colab": {
          "base_uri": "https://localhost:8080/"
        },
        "id": "QwpYRQm67AvE",
        "outputId": "ea9f1790-e7fe-44f9-a319-9e9a1b5e3d89"
      },
      "execution_count": null,
      "outputs": [
        {
          "output_type": "stream",
          "name": "stdout",
          "text": [
            "10\n"
          ]
        }
      ]
    },
    {
      "cell_type": "markdown",
      "source": [
        "12. **Função de Ordem Superior**:\n",
        "    - Crie uma função chamada `operacao` que receba dois números e uma função como argumentos. A função deve aplicar a função fornecida aos dois números e retornar o resultado.\n"
      ],
      "metadata": {
        "id": "lVhVsLLy9yjU"
      }
    },
    {
      "cell_type": "code",
      "source": [
        "def operacao(a, b, funcao):\n",
        "    return funcao(a, b)\n",
        "\n",
        "def multiplicacao(x, y):\n",
        "    return x * y\n",
        "\n",
        "x = 2\n",
        "y = 4\n",
        "\n",
        "resultados = operacao(x, y, multiplicacao)\n",
        "\n",
        "print(resultados)\n"
      ],
      "metadata": {
        "id": "bz4Rt6hc921m",
        "colab": {
          "base_uri": "https://localhost:8080/"
        },
        "outputId": "d121f817-bcab-46f2-84ea-1bfd5cbbef5b"
      },
      "execution_count": null,
      "outputs": [
        {
          "output_type": "stream",
          "name": "stdout",
          "text": [
            "8\n"
          ]
        }
      ]
    },
    {
      "cell_type": "markdown",
      "source": [
        "13. **Função de Retorno**:\n",
        "    - Crie uma função chamada `criarSaudacao` que receba uma saudação como argumento e retorne uma nova função. A função retornada deve receber um nome como argumento e exibir a saudação seguida pelo nome.\n"
      ],
      "metadata": {
        "id": "Vw9nCR7aRq0t"
      }
    },
    {
      "cell_type": "code",
      "source": [
        "def criarSaudacao(saudacao):\n",
        "  def saudacao_nome(nome):\n",
        "    return f\"{saudacao}, {nome}!\"\n",
        "  return saudacao_nome\n",
        "\n",
        "saudacao_bom_dia = criarSaudacao(\"Bom dia\")\n",
        "saudacao(\"Carlos\")"
      ],
      "metadata": {
        "colab": {
          "base_uri": "https://localhost:8080/"
        },
        "id": "_g-omsBpRw0R",
        "outputId": "9427e44a-6ef7-4cf8-d665-e01b56a81ba1"
      },
      "execution_count": null,
      "outputs": [
        {
          "output_type": "stream",
          "name": "stdout",
          "text": [
            "Olá, Carlos. Seja bem-vindo!\n"
          ]
        }
      ]
    },
    {
      "cell_type": "markdown",
      "source": [
        "14. **Função Recursiva**:\n",
        "    - Crie uma função chamada `contagemRegressiva` que receba um número como argumento e exiba uma contagem regressiva a partir desse número até 0, usando recursão.\n"
      ],
      "metadata": {
        "id": "XikfLFx4XG_K"
      }
    },
    {
      "cell_type": "code",
      "source": [
        "def contagemRegressiva(a: int) -> int:\n",
        "\n",
        "  if (a > 0):\n",
        "    print (a)\n",
        "    contagemRegressiva(a - 1)\n",
        "  else:\n",
        "    return None\n",
        "\n",
        "contagemRegressiva(5)\n"
      ],
      "metadata": {
        "colab": {
          "base_uri": "https://localhost:8080/"
        },
        "id": "DXHX5i0_XHW3",
        "outputId": "9a05fb9b-8e07-4d39-94a9-91d6177058f8"
      },
      "execution_count": null,
      "outputs": [
        {
          "output_type": "stream",
          "name": "stdout",
          "text": [
            "5\n",
            "4\n",
            "3\n",
            "2\n",
            "1\n"
          ]
        }
      ]
    },
    {
      "cell_type": "markdown",
      "source": [
        "15. **Função para Calcular Fibonacci**:\n",
        "    - Crie uma função chamada `fibonacci` que receba um número `n` como argumento e retorne o `n`-ésimo número da sequência de Fibonacci."
      ],
      "metadata": {
        "id": "GYhRivG7cDpl"
      }
    },
    {
      "cell_type": "code",
      "source": [
        "def fibonacci (n):\n",
        "  if (n == 0):\n",
        "    return 0\n",
        "  elif (n == 1):\n",
        "    return 1\n",
        "  else:\n",
        "    return fibonacci(n-1) + fibonacci(n-2)\n",
        "\n",
        "print(fibonacci(10))"
      ],
      "metadata": {
        "colab": {
          "base_uri": "https://localhost:8080/"
        },
        "id": "dnexPy7dcH1K",
        "outputId": "f77c7879-5922-476b-e7d9-0cfa5ee52024"
      },
      "execution_count": null,
      "outputs": [
        {
          "output_type": "stream",
          "name": "stdout",
          "text": [
            "55\n"
          ]
        }
      ]
    },
    {
      "cell_type": "markdown",
      "source": [
        "16. **Função para Converter Celsius para Fahrenheit**:\n",
        "    - Crie uma função chamada `celsiusParaFahrenheit` que receba uma temperatura em Celsius e retorne a temperatura convertida para Fahrenheit."
      ],
      "metadata": {
        "id": "VfsL3kuGe2y1"
      }
    },
    {
      "cell_type": "code",
      "source": [
        "def celsiusParaFahrenheit(celsius):\n",
        "  fahrenheit = (celsius * 9/5) + 32\n",
        "  return fahrenheit\n",
        "\n",
        "resultado = celsiusParaFahrenheit(10)\n",
        "print(f\"A temperatura em Fahrenheit é: {resultado:.2f}°F\")"
      ],
      "metadata": {
        "colab": {
          "base_uri": "https://localhost:8080/"
        },
        "id": "s8tfTfNtfD4i",
        "outputId": "f7d4d616-5409-4f31-b8f1-1adab8a78511"
      },
      "execution_count": null,
      "outputs": [
        {
          "output_type": "stream",
          "name": "stdout",
          "text": [
            "A temperatura em Fahrenheit é: 50.0°F\n"
          ]
        }
      ]
    },
    {
      "cell_type": "markdown",
      "source": [
        "17. **Função para Converter Fahrenheit para Celsius**:\n",
        "    - Crie uma função chamada `fahrenheitParaCelsius` que receba uma temperatura em Fahrenheit e retorne a temperatura convertida para Celsius."
      ],
      "metadata": {
        "id": "rxg-mY3hiMoV"
      }
    },
    {
      "cell_type": "code",
      "source": [
        "def fahrenheitParaCelsius(fahrenheit):\n",
        "  celsius = (fahrenheit - 32) * 5/9\n",
        "  return celsius\n",
        "\n",
        "resultado = fahrenheitParaCelsius(50)\n",
        "print(f\"A temperatura em Celsius é: {resultado:.2f}°C\")"
      ],
      "metadata": {
        "colab": {
          "base_uri": "https://localhost:8080/"
        },
        "id": "Wp4JelwdiPPI",
        "outputId": "dd6034a4-a00f-4eb8-eb0b-69fdfc322d57"
      },
      "execution_count": null,
      "outputs": [
        {
          "output_type": "stream",
          "name": "stdout",
          "text": [
            "A temperatura em Celsius é: 10.00°C\n"
          ]
        }
      ]
    },
    {
      "cell_type": "markdown",
      "source": [
        "18. **Função para Verificar Paridade**:\n",
        "    - Crie uma função chamada `ePar` que receba um número como argumento e retorne `true` se o número for par e `false` caso contrário."
      ],
      "metadata": {
        "id": "ErZG_TkmkIOA"
      }
    },
    {
      "cell_type": "code",
      "source": [
        "def ePar(a):\n",
        "  if (a % 2 == 0):\n",
        "    return True\n",
        "  else:\n",
        "    return False\n",
        "ePar(5)\n"
      ],
      "metadata": {
        "colab": {
          "base_uri": "https://localhost:8080/"
        },
        "id": "6kUGDKaSkJKd",
        "outputId": "ad8cdc4e-aeae-4cb9-9b4a-37b09a1a2069"
      },
      "execution_count": null,
      "outputs": [
        {
          "output_type": "execute_result",
          "data": {
            "text/plain": [
              "False"
            ]
          },
          "metadata": {},
          "execution_count": 164
        }
      ]
    },
    {
      "cell_type": "markdown",
      "source": [
        "19. **Função para Calcular Quadrado**:\n",
        "    - Crie uma função chamada `quadrado` que receba um número como argumento e retorne o quadrado desse número."
      ],
      "metadata": {
        "id": "KAQpjHCpkbH-"
      }
    },
    {
      "cell_type": "code",
      "source": [
        "def quadrado(a):\n",
        "  return a * a\n",
        "quadrado(10)"
      ],
      "metadata": {
        "colab": {
          "base_uri": "https://localhost:8080/"
        },
        "id": "EYS8o2r6kb0u",
        "outputId": "62f52fff-40b8-4f01-bbfe-de1812523be0"
      },
      "execution_count": null,
      "outputs": [
        {
          "output_type": "execute_result",
          "data": {
            "text/plain": [
              "100"
            ]
          },
          "metadata": {},
          "execution_count": 174
        }
      ]
    },
    {
      "cell_type": "markdown",
      "source": [
        "20. **Função para Calcular Raiz Quadrada**:\n",
        "    - Crie uma função chamada `raizQuadrada` que receba um número como argumento e retorne a raiz quadrada desse número."
      ],
      "metadata": {
        "id": "wVq07fMbmSNS"
      }
    },
    {
      "cell_type": "code",
      "source": [
        "def raizQuadrada(a):\n",
        "  return a ** 0.5\n",
        "raizQuadrada(100)"
      ],
      "metadata": {
        "colab": {
          "base_uri": "https://localhost:8080/"
        },
        "id": "0YdyWb2ImSrJ",
        "outputId": "dfb94761-6444-49c6-db48-4406d980f4f5"
      },
      "execution_count": null,
      "outputs": [
        {
          "output_type": "execute_result",
          "data": {
            "text/plain": [
              "10.0"
            ]
          },
          "metadata": {},
          "execution_count": 175
        }
      ]
    },
    {
      "cell_type": "markdown",
      "source": [
        "21. **Função para Contar Vogais**:\n",
        "    - Crie uma função chamada `contarVogais` que receba uma string como argumento e retorne o número de vogais na string."
      ],
      "metadata": {
        "id": "yKNzlrdVmVLY"
      }
    },
    {
      "cell_type": "code",
      "source": [
        "def contarVogais(string):\n",
        "  vogais = [\"a\", \"e\", \"i\", \"o\", \"u\", \"A\", \"E\", \"I\", \"O\", \"U\"]\n",
        "  contador = 0\n",
        "  for vogal in (string):\n",
        "    if vogal in vogais:\n",
        "      contador += 1\n",
        "  return contador\n",
        "\n",
        "contarVogais(\"banana\")"
      ],
      "metadata": {
        "colab": {
          "base_uri": "https://localhost:8080/"
        },
        "id": "qAW0krIZmX-H",
        "outputId": "0f0436bc-f6bf-4052-eca1-0025e8dc103a"
      },
      "execution_count": null,
      "outputs": [
        {
          "output_type": "execute_result",
          "data": {
            "text/plain": [
              "3"
            ]
          },
          "metadata": {},
          "execution_count": 190
        }
      ]
    },
    {
      "cell_type": "markdown",
      "source": [
        "22. **Função para Verificar Palíndromo**:\n",
        "    - Crie uma função chamada `ePalindromo` que receba uma string como argumento e retorne `true` se a string for um palíndromo e `false` caso contrário."
      ],
      "metadata": {
        "id": "hBrXJuTlxabN"
      }
    },
    {
      "cell_type": "code",
      "source": [
        "def ePalindromo(string):\n",
        "\n",
        "  if (string == string[::-1]):\n",
        "    return True\n",
        "  else:\n",
        "    return False\n",
        "ePalindromo(\"socorram me subi no onibus em marrocos\")"
      ],
      "metadata": {
        "colab": {
          "base_uri": "https://localhost:8080/"
        },
        "id": "QHEYlSPFe-bG",
        "outputId": "adcd5a8a-9687-4b11-e300-3b9ceb64b87e"
      },
      "execution_count": null,
      "outputs": [
        {
          "output_type": "execute_result",
          "data": {
            "text/plain": [
              "False"
            ]
          },
          "metadata": {},
          "execution_count": 194
        }
      ]
    },
    {
      "cell_type": "markdown",
      "source": [
        "23. **Função para Encontrar o Maior Número em um Array**:\n",
        "    - Crie uma função chamada `maiorNumero` que receba um array de números como argumento e retorne o maior número do array."
      ],
      "metadata": {
        "id": "zWpIK3lEynj0"
      }
    },
    {
      "cell_type": "code",
      "source": [
        "def maiorNumero(*args):\n",
        "  maior_numero = max(args)\n",
        "  return(maior_numero)\n",
        "maiorNumero(1,2,300,900)"
      ],
      "metadata": {
        "colab": {
          "base_uri": "https://localhost:8080/"
        },
        "id": "W2GR32bAypsv",
        "outputId": "4dcad450-cf06-4819-c925-f630f77c7de8"
      },
      "execution_count": null,
      "outputs": [
        {
          "output_type": "execute_result",
          "data": {
            "text/plain": [
              "900"
            ]
          },
          "metadata": {},
          "execution_count": 197
        }
      ]
    },
    {
      "cell_type": "markdown",
      "source": [
        "24. **Função para Ordenar um Array em Ordem Crescente**:\n",
        "    - Crie uma função chamada `ordenarArray` que receba um array de números como argumento e retorne o array ordenado em ordem crescente."
      ],
      "metadata": {
        "id": "NqAAnl_D1ZdW"
      }
    },
    {
      "cell_type": "code",
      "source": [
        "def ordenarArray(*args):\n",
        "  arrays = [args]\n",
        "  return sorted(args)\n",
        "ordenarArray(1,2,3,-4,80,100,-1,-2)"
      ],
      "metadata": {
        "id": "P4I240Xf1Z3S",
        "colab": {
          "base_uri": "https://localhost:8080/"
        },
        "outputId": "7806dbda-f6b1-4af2-cde7-ecdfdd98e68a"
      },
      "execution_count": null,
      "outputs": [
        {
          "output_type": "execute_result",
          "data": {
            "text/plain": [
              "[-4, -2, -1, 1, 2, 3, 80, 100]"
            ]
          },
          "metadata": {},
          "execution_count": 6
        }
      ]
    },
    {
      "cell_type": "markdown",
      "source": [
        "25. **Função para Filtrar Números Pares**:\n",
        "    - Crie uma função chamada `filtrarPares` que receba um array de números como argumento e retorne um novo array contendo apenas os números pares."
      ],
      "metadata": {
        "id": "gjxawuuU1cg_"
      }
    },
    {
      "cell_type": "code",
      "source": [
        "def filtrarPares(*args):\n",
        "  numeros = list(args)\n",
        "  pares = filter(lambda x: x % 2 == 0, numeros)\n",
        "  return list(pares)\n",
        "filtrarPares(2,3,4,5,6,7)"
      ],
      "metadata": {
        "id": "ea0oLYKd1cw1",
        "colab": {
          "base_uri": "https://localhost:8080/"
        },
        "outputId": "d058aaaf-d4c0-43b5-949f-2bd8dd2cebf8"
      },
      "execution_count": 14,
      "outputs": [
        {
          "output_type": "execute_result",
          "data": {
            "text/plain": [
              "[2, 4, 6]"
            ]
          },
          "metadata": {},
          "execution_count": 14
        }
      ]
    },
    {
      "cell_type": "markdown",
      "source": [
        "26. **Função para Concatenar Arrays**:\n",
        "    - Crie uma função chamada `concatenarArrays` que receba dois arrays como argumentos e retorne um novo array que seja a concatenação dos dois arrays."
      ],
      "metadata": {
        "id": "HVFPMhbM1dJO"
      }
    },
    {
      "cell_type": "code",
      "source": [
        "def concatenarArrays(array1,array2):\n",
        "  return (array1 + array2)\n",
        "concatenarArrays([3,4,5],[6,7,8,9])"
      ],
      "metadata": {
        "id": "akjzwctP1dZm",
        "colab": {
          "base_uri": "https://localhost:8080/"
        },
        "outputId": "1f49756d-6571-41e9-d233-05e25af760c8"
      },
      "execution_count": 26,
      "outputs": [
        {
          "output_type": "execute_result",
          "data": {
            "text/plain": [
              "[3, 4, 5, 6, 7, 8, 9]"
            ]
          },
          "metadata": {},
          "execution_count": 26
        }
      ]
    },
    {
      "cell_type": "markdown",
      "source": [
        "27. **Função de Memoização para Fatorial**:\n",
        "    - Crie uma função chamada `memoFatorial` que usa memoização para otimizar o cálculo do fatorial."
      ],
      "metadata": {
        "id": "0xxJKXbM1jTo"
      }
    },
    {
      "cell_type": "code",
      "source": [
        "memo = {}\n",
        "\n",
        "def memoFatorial(n):\n",
        "    if n == 0 or n == 1:\n",
        "        return 1\n",
        "    if n in memo:\n",
        "        return memo[n]\n",
        "    resultado = n * memoFatorial(n - 1)\n",
        "    memo[n] = resultado\n",
        "    return resultado\n"
      ],
      "metadata": {
        "id": "PGedSM9d1jlM"
      },
      "execution_count": null,
      "outputs": []
    },
    {
      "cell_type": "markdown",
      "source": [
        "28. **Função para Verificar Substring**:\n",
        "    - Crie uma função chamada `contemSubstring` que receba duas strings como argumentos e retorne `true` se a primeira string contiver a segunda string, e `false` caso contrário."
      ],
      "metadata": {
        "id": "v7AM_i0i1j71"
      }
    },
    {
      "cell_type": "code",
      "source": [
        "def contemSubstring(string1,string2):\n",
        "  if string2 in string1:\n",
        "    return True\n",
        "  else:\n",
        "    return False\n",
        "contemSubstring(\"ola, meu nome é carlos\", \"carlos\")"
      ],
      "metadata": {
        "colab": {
          "base_uri": "https://localhost:8080/"
        },
        "id": "xfJGGlfBRy3E",
        "outputId": "f51d53f4-491b-41c3-9971-feb39777845e"
      },
      "execution_count": 34,
      "outputs": [
        {
          "output_type": "execute_result",
          "data": {
            "text/plain": [
              "True"
            ]
          },
          "metadata": {},
          "execution_count": 34
        }
      ]
    },
    {
      "cell_type": "markdown",
      "source": [
        "29. **Função de Curry**:\n",
        "    - Crie uma função chamada `currySoma` que usa currying para somar três números. A função deve ser chamada assim: `currySoma(a)(b)(c)`."
      ],
      "metadata": {
        "id": "WrsxMgr81n6K"
      }
    },
    {
      "cell_type": "code",
      "source": [
        "def currySoma(a):\n",
        "    def soma_b(b):\n",
        "        def soma_c(c):\n",
        "            return a + b + c\n",
        "        return soma_c\n",
        "    return soma_b\n",
        "\n",
        "resultado = currySoma(4)(4)(5)\n",
        "print(resultado)\n"
      ],
      "metadata": {
        "id": "ZA1Iw4HD1kPP",
        "colab": {
          "base_uri": "https://localhost:8080/"
        },
        "outputId": "5a5c8c8f-31b1-48bb-9667-36bc800a8dab"
      },
      "execution_count": 35,
      "outputs": [
        {
          "output_type": "stream",
          "name": "stdout",
          "text": [
            "13\n"
          ]
        }
      ]
    },
    {
      "cell_type": "markdown",
      "source": [
        "30. **Função para Reduzir um Array**:\n",
        "    - Crie uma função chamada `reduzirArray` que receba um array de números e uma função de redução (callback) como argumentos e retorne o valor reduzido."
      ],
      "metadata": {
        "id": "kXyz8Nd01o3h"
      }
    },
    {
      "cell_type": "code",
      "source": [
        "def reduzirArray(numeros,callback):\n",
        "  resultado = numeros[0]\n",
        "  for i in numeros[1:]:\n",
        "    resultado = callback(resultado,i)\n",
        "  return resultado\n",
        "def somar(a, b):\n",
        "    return a + b\n",
        "\n",
        "print(reduzirArray([1, 2, 3, 4], somar))\n"
      ],
      "metadata": {
        "id": "O-yJdtMU1oT3",
        "colab": {
          "base_uri": "https://localhost:8080/"
        },
        "outputId": "38990712-980f-44e5-b6b8-be83138a6f4b"
      },
      "execution_count": 39,
      "outputs": [
        {
          "output_type": "stream",
          "name": "stdout",
          "text": [
            "10\n"
          ]
        }
      ]
    },
    {
      "cell_type": "markdown",
      "source": [
        "31. **Função para Remover Duplicatas de um Array**:\n",
        "    - Crie uma função chamada `removerDuplicatas` que receba um array como argumento e retorne um novo array sem duplicatas."
      ],
      "metadata": {
        "id": "tTWKrM2M1r7S"
      }
    },
    {
      "cell_type": "code",
      "source": [
        "def removerDuplicatas(array):\n",
        "  duplicatas = set()\n",
        "  novo_array = []\n",
        "\n",
        "  for i in array:\n",
        "    if i not in duplicatas:\n",
        "      duplicatas.add(i)\n",
        "      novo_array.append(i)\n",
        "  return (novo_array)\n",
        "\n",
        "removerDuplicatas([1,2,2,2,2,2,2])"
      ],
      "metadata": {
        "id": "DRC72uBV1pJM",
        "colab": {
          "base_uri": "https://localhost:8080/"
        },
        "outputId": "10b95427-347a-4986-9c7d-b2eba852ea2a"
      },
      "execution_count": 50,
      "outputs": [
        {
          "output_type": "execute_result",
          "data": {
            "text/plain": [
              "[1, 2]"
            ]
          },
          "metadata": {},
          "execution_count": 50
        }
      ]
    },
    {
      "cell_type": "markdown",
      "source": [
        "32. **Função de Composição**:\n",
        "    - Crie uma função chamada `compor` que receba duas funções como argumentos e retorne uma nova função que é a composição das duas."
      ],
      "metadata": {
        "id": "bbltNt3B12FI"
      }
    },
    {
      "cell_type": "code",
      "source": [
        "def subtrair_cinco(a):\n",
        "  return a - 5\n",
        "def multiplicar_dois(a):\n",
        "  return a * 2\n",
        "def compor(funcao1,funcao2):\n",
        "  return lambda x: funcao2(funcao1(x))\n",
        "\n",
        "nova_funcao = compor(subtrair_cinco, multiplicar_dois)\n",
        "\n",
        "print(nova_funcao(10))"
      ],
      "metadata": {
        "id": "jY6iNFxh11Jg",
        "colab": {
          "base_uri": "https://localhost:8080/"
        },
        "outputId": "7b56848c-bd21-4bad-8586-c3dba4bf7614"
      },
      "execution_count": 57,
      "outputs": [
        {
          "output_type": "stream",
          "name": "stdout",
          "text": [
            "10\n"
          ]
        }
      ]
    },
    {
      "cell_type": "markdown",
      "source": [
        "33. **Função para Mapear um Array**:\n",
        "    - Crie uma função chamada `mapearArray` que receba um array e uma função de mapeamento (callback) como argumentos e retorne um novo array com os resultados da função de mapeamento aplicada a cada elemento."
      ],
      "metadata": {
        "id": "xLNuPP6z12y1"
      }
    },
    {
      "cell_type": "code",
      "source": [
        "def mapearArray(array, callback):\n",
        "    return [callback(i) for i in array]\n",
        "\n",
        "# Testando a função\n",
        "resultado = mapearArray([1, 2, 3, 4], lambda x: x * 2)\n",
        "print(resultado)\n"
      ],
      "metadata": {
        "id": "YM_g9Ecn13KF",
        "colab": {
          "base_uri": "https://localhost:8080/"
        },
        "outputId": "0f08fed5-7b93-4a37-a97b-c2b2d6cefbf1"
      },
      "execution_count": 59,
      "outputs": [
        {
          "output_type": "stream",
          "name": "stdout",
          "text": [
            "[2, 4, 6, 8]\n"
          ]
        }
      ]
    },
    {
      "cell_type": "markdown",
      "source": [
        "34. **Função de Ordenação Personalizada**:\n",
        "    - Crie uma função chamada `ordenarPersonalizado` que receba um array de objetos e uma função de comparação (callback) como argumentos e retorne o array ordenado."
      ],
      "metadata": {
        "id": "2xRa96OW13gj"
      }
    },
    {
      "cell_type": "code",
      "source": [
        "def ordenarPersonalizado(array, comparacao):\n",
        "    n = len(array)\n",
        "    for i in range(n):\n",
        "        for j in range(0, n-i-1):\n",
        "            if comparacao(array[j], array[j+1]) > 0:\n",
        "                array[j], array[j+1] = array[j+1], array[j]\n",
        "    return array\n",
        "\n",
        "def comparacao_por_idade(obj1, obj2):\n",
        "    return obj1['idade'] - obj2['idade']\n",
        "\n",
        "pessoas = [\n",
        "    {\"nome\": \"Maria\", \"idade\": 25},\n",
        "    {\"nome\": \"Marcelo\", \"idade\": 22},\n",
        "    {\"nome\": \"Carlos\", \"idade\": 30}\n",
        "]\n",
        "\n",
        "resultado = ordenarPersonalizado(pessoas, comparacao_por_idade)\n",
        "print(resultado)\n"
      ],
      "metadata": {
        "id": "tybEcKWf13y4",
        "colab": {
          "base_uri": "https://localhost:8080/"
        },
        "outputId": "69293fa6-14dc-4a67-f926-6fcbdbf245a4"
      },
      "execution_count": 62,
      "outputs": [
        {
          "output_type": "stream",
          "name": "stdout",
          "text": [
            "[{'nome': 'Marcelo', 'idade': 22}, {'nome': 'Maria', 'idade': 25}, {'nome': 'Carlos', 'idade': 30}]\n"
          ]
        }
      ]
    }
  ]
}