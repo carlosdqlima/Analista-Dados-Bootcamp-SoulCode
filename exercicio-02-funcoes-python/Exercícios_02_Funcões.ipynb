{
  "nbformat": 4,
  "nbformat_minor": 0,
  "metadata": {
    "colab": {
      "provenance": [],
      "include_colab_link": true
    },
    "kernelspec": {
      "name": "python3",
      "display_name": "Python 3"
    },
    "language_info": {
      "name": "python"
    }
  },
  "cells": [
    {
      "cell_type": "markdown",
      "metadata": {
        "id": "view-in-github",
        "colab_type": "text"
      },
      "source": [
        "<a href=\"https://colab.research.google.com/github/carlosdqlima/Analista-Dados-Bootcamp-SoulCode/blob/main/exercicio-02-funcoes-python/Exerc%C3%ADcios_02_Func%C3%B5es.ipynb\" target=\"_parent\"><img src=\"https://colab.research.google.com/assets/colab-badge.svg\" alt=\"Open In Colab\"/></a>"
      ]
    },
    {
      "cell_type": "markdown",
      "source": [
        "# Lista de exercícios"
      ],
      "metadata": {
        "id": "_gev0XmdrDaC"
      }
    },
    {
      "cell_type": "markdown",
      "source": [
        "1. Calculadora Científica\n",
        "   - Escreva uma função que simule uma calculadora científica, capaz de realizar operações básicas como adição, subtração, multiplicação, e divisão, além de funções trigonométricas, exponenciação, e logaritmos."
      ],
      "metadata": {
        "id": "0XEQFqnx_jw6"
      }
    },
    {
      "cell_type": "code",
      "source": [
        "import math\n",
        "\n",
        "def calculadora_cientifica():\n",
        "  print(\"Bem-vindo à calculadora Científica!\")\n",
        "  print(\"Operações disponíveis: +, -, *, /, sin, cos, tan, log, sqrt, exp, pow\")\n",
        "  print(\"Digite a operação correta, por exemplo: '2+3' ou 'sin(pi/2)' ou 'log(10)'\")\n",
        "\n",
        "  while True:\n",
        "    expressao = input(\"Digite a expressão matemática (ou sair) para encerrar: \")\n",
        "    if expressao.lower() == 'sair':\n",
        "      print(\"Encerrando a calculadora.\")\n",
        "      break\n",
        "    try:\n",
        "      resultado = eval (expressao, {\n",
        "        \"sin\": math.sin,\n",
        "        \"cos\": math.cos,\n",
        "        \"tan\": math.tan,\n",
        "        \"log\": math.log,\n",
        "        \"sqrt\": math.sqrt,\n",
        "        \"exp\": math.exp,\n",
        "        \"pow\": math.pow,\n",
        "        \"pi\": math.pi,\n",
        "        \"e\": math.e\n",
        "      })\n",
        "      return resultado\n",
        "    except Exception as erro:\n",
        "      return f\"Erro: {erro}\"\n",
        "\n",
        "calculadora_cientifica()\n"
      ],
      "metadata": {
        "id": "RzDoY6evrSMQ",
        "colab": {
          "base_uri": "https://localhost:8080/"
        },
        "outputId": "5988d5a2-9d41-4e65-b79c-ff0899efca0f"
      },
      "execution_count": 106,
      "outputs": [
        {
          "name": "stdout",
          "output_type": "stream",
          "text": [
            "Bem-vindo à calculadora Científica!\n",
            "Operações disponíveis: +, -, *, /, sin, cos, tan, log, sqrt, exp, pow\n",
            "Digite a operação correta, por exemplo: '2+3' ou 'sin(pi/2)' ou 'log(10)'\n",
            "Digite a expressão matemática (ou sair) para encerrar: 2+3\n"
          ]
        },
        {
          "output_type": "execute_result",
          "data": {
            "text/plain": [
              "5"
            ]
          },
          "metadata": {},
          "execution_count": 106
        }
      ]
    },
    {
      "cell_type": "markdown",
      "source": [
        "2. Conversor de Unidades\n",
        "   - Crie uma função que converta entre diferentes unidades de medida (por exemplo, metros para quilômetros, Celsius para Fahrenheit, etc.). A função deve receber a unidade original e a unidade desejada como parâmetros."
      ],
      "metadata": {
        "id": "FKrcwZJkEp9A"
      }
    },
    {
      "cell_type": "code",
      "source": [
        "def conversor_medidas(celsius,fahrenheit):\n",
        "  unidade_original = celsius\n",
        "  undade_desejada = fahrenheit\n",
        "  fahrenheit = (celsius * 9/5) + 32\n",
        "  return fahrenheit\n",
        "print (conversor_medidas(10,15))"
      ],
      "metadata": {
        "colab": {
          "base_uri": "https://localhost:8080/"
        },
        "id": "lIozo354EqzX",
        "outputId": "9099b1d4-04a6-4dca-cc7e-02c5256d15f3"
      },
      "execution_count": 107,
      "outputs": [
        {
          "output_type": "stream",
          "name": "stdout",
          "text": [
            "50.0\n"
          ]
        }
      ]
    },
    {
      "cell_type": "markdown",
      "source": [
        "3. Verificador de Palíndromo\n",
        "   - Escreva uma função que verifique se uma determinada palavra ou frase é um palíndromo (lê-se da mesma forma de frente para trás). A função deve ignorar espaços e pontuações."
      ],
      "metadata": {
        "id": "ssBkKK62ANRU"
      }
    },
    {
      "cell_type": "code",
      "source": [
        "import re\n",
        "def definicao_palindromo(palavra):\n",
        "    palavra = re.sub(r'[\\W_]', '', palavra).lower()\n",
        "    palavra_invertida = palavra[::-1]\n",
        "\n",
        "    if palavra_invertida == palavra:\n",
        "        return \"é um palíndromo\"\n",
        "    else:\n",
        "        return \"não é um palíndromo\"\n",
        "\n",
        "resultado = definicao_palindromo(\"Socorram-me subi no onibus em marrocos\")\n",
        "print(resultado)\n"
      ],
      "metadata": {
        "colab": {
          "base_uri": "https://localhost:8080/"
        },
        "id": "FPTISPeCHPCX",
        "outputId": "680ed351-3c67-4b6c-d139-c1592b7feb26"
      },
      "execution_count": 108,
      "outputs": [
        {
          "output_type": "stream",
          "name": "stdout",
          "text": [
            "é um palíndromo\n"
          ]
        }
      ]
    },
    {
      "cell_type": "markdown",
      "source": [
        "4. Gerador de Senhas Seguras\n",
        "   - Desenvolva uma função que gere uma senha segura com um comprimento especificado. A senha deve conter letras maiúsculas e minúsculas, números e símbolos especiais."
      ],
      "metadata": {
        "id": "I6SRNLwZIwrG"
      }
    },
    {
      "cell_type": "code",
      "source": [
        "import random\n",
        "\n",
        "def gerador_senha():\n",
        "  lista_maiuscula = ['A','B','C','D','E','F','G','H','I','J','K','L','M','N','O','P','Q','R','S','T','U','V','W','X','Y','Z']\n",
        "  lista_minuscula = ['a','b','c','d','e','f','g','h','i','j','k','l','m','n','o','p','q','r','s','t','u','v','w','x','y','z']\n",
        "  lista_numeros = ['0','1','2','3','4','5','6','7','8','9']\n",
        "  lista_simbolos = ['!','@','#','$','%','&','*','(',')','_','-','+','=','{','}']\n",
        "  lista_senha = []\n",
        "\n",
        "  for i in range(2):\n",
        "    lista_senha.append(random.choice(lista_maiuscula))\n",
        "    lista_senha.append(random.choice(lista_minuscula))\n",
        "    lista_senha.append(random.choice(lista_numeros))\n",
        "    lista_senha.append(random.choice(lista_simbolos))\n",
        "    random.shuffle(lista_senha)\n",
        "    senha = ''.join(lista_senha)\n",
        "  return senha\n",
        "print(gerador_senha())"
      ],
      "metadata": {
        "colab": {
          "base_uri": "https://localhost:8080/"
        },
        "id": "JKDb9lQxIzZ8",
        "outputId": "89232fb9-d29a-4916-ce36-cd9f9aacb125"
      },
      "execution_count": 109,
      "outputs": [
        {
          "output_type": "stream",
          "name": "stdout",
          "text": [
            "G4*Ec$k0\n"
          ]
        }
      ]
    },
    {
      "cell_type": "markdown",
      "source": [
        "5. Ordenação de Listas\n",
        "   - Implemente uma função que receba uma lista de números ou strings e a ordene usando um algoritmo de ordenação de sua escolha (por exemplo, QuickSort, MergeSort). A função deve permitir escolher entre ordem crescente ou decrescente."
      ],
      "metadata": {
        "id": "ffj7gr-mI7he"
      }
    },
    {
      "cell_type": "code",
      "source": [
        "def ordenacao():\n",
        "    lista_numeros = ['0', '1', '2', '8', '9', '5', '6', '7', '8', '9']\n",
        "    escolha = input(\"Escolha a ordem crescente ou decrescente (c/d): \")\n",
        "\n",
        "    for i in range(len(lista_numeros)):\n",
        "        for j in range(0, len(lista_numeros) - i - 1):\n",
        "            if (escolha == 'c' and lista_numeros[j] > lista_numeros[j + 1]) or \\\n",
        "               (escolha == 'd' and lista_numeros[j] < lista_numeros[j + 1]):\n",
        "\n",
        "                lista_numeros[j], lista_numeros[j + 1] = lista_numeros[j + 1], lista_numeros[j]\n",
        "\n",
        "    print(lista_numeros)\n",
        "\n",
        "ordenacao()\n"
      ],
      "metadata": {
        "colab": {
          "base_uri": "https://localhost:8080/"
        },
        "id": "e8NcDiaTI7-d",
        "outputId": "f6977d15-9cee-4d2e-c080-bdbaf52e5125"
      },
      "execution_count": 110,
      "outputs": [
        {
          "output_type": "stream",
          "name": "stdout",
          "text": [
            "Escolha a ordem crescente ou decrescente (c/d): d\n",
            "['9', '9', '8', '8', '7', '6', '5', '2', '1', '0']\n"
          ]
        }
      ]
    },
    {
      "cell_type": "markdown",
      "source": [
        "6. Validador de CPF\n",
        "   - Crie uma função que valide um CPF (Cadastro de Pessoas Físicas) de acordo com as regras brasileiras, verificando se o CPF é válido ou não."
      ],
      "metadata": {
        "id": "2rVkXa5qLXmf"
      }
    },
    {
      "cell_type": "code",
      "source": [
        "def validacao_cpf():\n",
        "  print(    '''Bem-vindo ao validador de CPF''')\n",
        "  cpf = (input(\"Digite um CPF para verificação: \"))\n",
        "  cpf = ''.join(filter(str.isdigit, cpf))\n",
        "  if (len(cpf) != 11):\n",
        "    print (f\"{cpf} Não é um CPF válido\")\n",
        "  elif (cpf == cpf[0] * 11):\n",
        "    print (f\"{cpf} Não é um CPF válido\")\n",
        "  else:\n",
        "    print (f\"{cpf} é um CPF válido\")\n",
        "validacao_cpf()\n",
        "\n"
      ],
      "metadata": {
        "colab": {
          "base_uri": "https://localhost:8080/"
        },
        "id": "r1pbcLz-LX9R",
        "outputId": "7d27e466-4e5b-4725-9d22-c2bd65d6dbae"
      },
      "execution_count": 111,
      "outputs": [
        {
          "output_type": "stream",
          "name": "stdout",
          "text": [
            "Bem-vindo ao validador de CPF\n",
            "Digite um CPF para verificação: 45785987158\n",
            "45785987158 é um CPF válido\n"
          ]
        }
      ]
    },
    {
      "cell_type": "markdown",
      "source": [
        "7. Jogo da Velha\n",
        "   - Escreva funções para implementar o jogo da velha, incluindo a verificação de vitória, empate, e a atualização do tabuleiro com cada jogada."
      ],
      "metadata": {
        "id": "yiYN1jmgLo-o"
      }
    },
    {
      "cell_type": "code",
      "source": [
        "def imprime_tabuleiro():\n",
        "    global tabuleiro\n",
        "    for linha in tabuleiro:\n",
        "        print(\"|\".join(linha))\n",
        "        print(\"-\" * 5)\n",
        "\n",
        "def jogo_acabou():\n",
        "    # Verifica se alguém ganhou\n",
        "    for linha in tabuleiro:\n",
        "        if linha[0] == linha[1] == linha[2] != ' ':\n",
        "            return True\n",
        "    for col in range(3):\n",
        "        if tabuleiro[0][col] == tabuleiro[1][col] == tabuleiro[2][col] != ' ':\n",
        "            return True\n",
        "    if tabuleiro[0][0] == tabuleiro[1][1] == tabuleiro[2][2] != ' ':\n",
        "        return True\n",
        "    if tabuleiro[0][2] == tabuleiro[1][1] == tabuleiro[2][0] != ' ':\n",
        "        return True\n",
        "\n",
        "    # Verifica se o tabuleiro está cheio\n",
        "    for linha in tabuleiro:\n",
        "        if ' ' in linha:\n",
        "            return False\n",
        "    return True\n",
        "\n",
        "tabuleiro = [[' ', ' ', ' '], [' ', ' ', ' '], [' ', ' ', ' ']]\n",
        "jogador = 'X'\n",
        "\n",
        "while not jogo_acabou():\n",
        "    try:\n",
        "        print(f\"Jogador {jogador}, em qual linha deseja jogar? (1, 2, 3)\")\n",
        "        linha = int(input()) - 1\n",
        "        print(f\"Jogador {jogador}, em qual coluna deseja jogar? (1, 2, 3)\")\n",
        "        coluna = int(input()) - 1\n",
        "\n",
        "        if tabuleiro[linha][coluna] != ' ':\n",
        "            print(\"Posição já ocupada! Tente novamente.\")\n",
        "            continue\n",
        "\n",
        "        tabuleiro[linha][coluna] = jogador\n",
        "        imprime_tabuleiro()\n",
        "\n",
        "        if jogador == 'X':\n",
        "            jogador = 'O'\n",
        "        else:\n",
        "            jogador = 'X'\n",
        "\n",
        "    except (IndexError, ValueError):\n",
        "        print(\"Entrada inválida! Escolha uma linha e coluna entre 1 e 3.\")\n",
        "\n",
        "print(\"O jogo acabou!\")\n"
      ],
      "metadata": {
        "id": "7lgcmzEfLpM3",
        "colab": {
          "base_uri": "https://localhost:8080/"
        },
        "outputId": "6d8cdcdf-cc1e-46c9-a485-19cc15b7314d"
      },
      "execution_count": 112,
      "outputs": [
        {
          "output_type": "stream",
          "name": "stdout",
          "text": [
            "Jogador X, em qual linha deseja jogar? (1, 2, 3)\n",
            "1\n",
            "Jogador X, em qual coluna deseja jogar? (1, 2, 3)\n",
            "1\n",
            "X| | \n",
            "-----\n",
            " | | \n",
            "-----\n",
            " | | \n",
            "-----\n",
            "Jogador O, em qual linha deseja jogar? (1, 2, 3)\n",
            "1\n",
            "Jogador O, em qual coluna deseja jogar? (1, 2, 3)\n",
            "2\n",
            "X|O| \n",
            "-----\n",
            " | | \n",
            "-----\n",
            " | | \n",
            "-----\n",
            "Jogador X, em qual linha deseja jogar? (1, 2, 3)\n",
            "1\n",
            "Jogador X, em qual coluna deseja jogar? (1, 2, 3)\n",
            "1\n",
            "Posição já ocupada! Tente novamente.\n",
            "Jogador X, em qual linha deseja jogar? (1, 2, 3)\n",
            "2\n",
            "Jogador X, em qual coluna deseja jogar? (1, 2, 3)\n",
            "1\n",
            "X|O| \n",
            "-----\n",
            "X| | \n",
            "-----\n",
            " | | \n",
            "-----\n",
            "Jogador O, em qual linha deseja jogar? (1, 2, 3)\n",
            "2\n",
            "Jogador O, em qual coluna deseja jogar? (1, 2, 3)\n",
            "2\n",
            "X|O| \n",
            "-----\n",
            "X|O| \n",
            "-----\n",
            " | | \n",
            "-----\n",
            "Jogador X, em qual linha deseja jogar? (1, 2, 3)\n",
            "3\n",
            "Jogador X, em qual coluna deseja jogar? (1, 2, 3)\n",
            "1\n",
            "X|O| \n",
            "-----\n",
            "X|O| \n",
            "-----\n",
            "X| | \n",
            "-----\n",
            "O jogo acabou!\n"
          ]
        }
      ]
    },
    {
      "cell_type": "markdown",
      "source": [
        "8. Análise de Sentimento\n",
        "   - Desenvolva uma função que analise uma frase ou texto e determine se o sentimento é positivo, negativo ou neutro, usando uma abordagem simples baseada em palavras-chave."
      ],
      "metadata": {
        "id": "SokcQhKmM-Gy"
      }
    },
    {
      "cell_type": "code",
      "source": [
        "def analisar_sentimento(texto):\n",
        "  palavras_positivas = [\"feliz\", \"bom\", \"ótimo\", \"maravilhoso\", \"incrível\", \"adoro\", \"amo\"]\n",
        "  palavras_negativas = [\"triste\", \"ruim\", \"péssimo\", \"horrível\", \"odeio\", \"detesto\"]\n",
        "\n",
        "  texto = texto.lower()\n",
        "  palavras = texto.split()\n",
        "\n",
        "  contagem_positiva = sum(1 for palavra in palavras if palavra in palavras_positivas)\n",
        "  contagem_negativa = sum(1 for palavra in palavras if palavra in palavras_negativas)\n",
        "\n",
        "  if contagem_positiva > contagem_negativa:\n",
        "    return \"Sentimento positivo\"\n",
        "  elif contagem_negativa > contagem_positiva:\n",
        "    return \"Sentimento negativo\"\n",
        "  else:\n",
        "    return \"Sentimento neutro\"\n",
        "\n",
        "texto = input('Digite uma frase ou palavra para analisar o sentimento: ')\n",
        "sentimento = analisar_sentimento(texto)\n",
        "print(sentimento)"
      ],
      "metadata": {
        "id": "0MUxnpM5M-ls",
        "colab": {
          "base_uri": "https://localhost:8080/"
        },
        "outputId": "a52fbe88-fef4-48be-c411-01a7f86a2210"
      },
      "execution_count": 113,
      "outputs": [
        {
          "output_type": "stream",
          "name": "stdout",
          "text": [
            "Digite uma frase ou palavra para analisar o sentimento: Bom dia, hoje estou feliz\n",
            "Sentimento positivo\n"
          ]
        }
      ]
    },
    {
      "cell_type": "markdown",
      "source": [
        "\n",
        "9. Sistema de Votação\n",
        "   - Crie um sistema de votação simples em que os usuários podem votar em diferentes opções. A função deve calcular e exibir o vencedor com base nos votos."
      ],
      "metadata": {
        "id": "-xxz44PwNAwo"
      }
    },
    {
      "cell_type": "code",
      "source": [
        "def sistema_votacao():\n",
        "  opcoes = {}\n",
        "  while True:\n",
        "    opcao = input(\"Digite uma opção para votar (ou 'parar' para encerrar):\\n \")\n",
        "    if opcao.lower() == 'parar':\n",
        "      break\n",
        "    if opcao in opcoes:\n",
        "      opcoes[opcao] += 1\n",
        "    else:\n",
        "      opcoes[opcao] = 1\n",
        "\n",
        "  vencedor = max(opcoes, key=opcoes.get)\n",
        "  print(f\"O vencedor é: {vencedor} com {opcoes[vencedor]} votos!\")\n",
        "\n",
        "sistema_votacao()\n"
      ],
      "metadata": {
        "colab": {
          "base_uri": "https://localhost:8080/"
        },
        "id": "dDatwQxpWwK_",
        "outputId": "b4eb9b08-7a5c-4f68-8306-0cf5932d3649"
      },
      "execution_count": 114,
      "outputs": [
        {
          "output_type": "stream",
          "name": "stdout",
          "text": [
            "Digite uma opção para votar (ou 'parar' para encerrar):\n",
            " 1\n",
            "Digite uma opção para votar (ou 'parar' para encerrar):\n",
            " 2\n",
            "Digite uma opção para votar (ou 'parar' para encerrar):\n",
            " 77\n",
            "Digite uma opção para votar (ou 'parar' para encerrar):\n",
            " 1\n",
            "Digite uma opção para votar (ou 'parar' para encerrar):\n",
            " parar\n",
            "O vencedor é: 1 com 2 votos!\n"
          ]
        }
      ]
    },
    {
      "cell_type": "markdown",
      "source": [
        "\n",
        "\n",
        "10. Simulação de Dados de Temperatura\n",
        "   - Escreva uma função que simule a coleta de dados de temperatura de diferentes cidades ao longo de uma semana e, em seguida, calcule a média, a temperatura mais alta e mais baixa."
      ],
      "metadata": {
        "id": "M3GmwbOSNCs4"
      }
    },
    {
      "cell_type": "code",
      "source": [
        "def simulacao_temp():\n",
        "  temperaturas = {}\n",
        "  for i in range(4):\n",
        "    cidade = input(\"Digite o nome da cidade: \")\n",
        "    temperatura = float(input(\"Digite a temperatura: \"))\n",
        "    temperaturas[cidade] = temperatura\n",
        "  media = sum(temperaturas.values()) / len(temperaturas)\n",
        "  temperatura_maxima = max(temperaturas.values())\n",
        "  temperatura_minima = min(temperaturas.values())\n",
        "  print(f\"A temperatura média é: {media}\")\n",
        "  print(f\"A temperatura máxima é: {temperatura_maxima}\")\n",
        "  print(f\"A temperatura mínima é: {temperatura_minima}\")\n",
        "\n",
        "simulacao_temp()"
      ],
      "metadata": {
        "id": "yaFa3XPCNEDG",
        "colab": {
          "base_uri": "https://localhost:8080/"
        },
        "outputId": "1154e7b4-83f1-4757-d420-18b610a8c78e"
      },
      "execution_count": 115,
      "outputs": [
        {
          "output_type": "stream",
          "name": "stdout",
          "text": [
            "Digite o nome da cidade: xique-xique\n",
            "Digite a temperatura: 20\n",
            "Digite o nome da cidade: sao paulo\n",
            "Digite a temperatura: 31\n",
            "Digite o nome da cidade: sao jose do rio preto\n",
            "Digite a temperatura: 40\n",
            "Digite o nome da cidade: rio de janeiro\n",
            "Digite a temperatura: 32\n",
            "A temperatura média é: 30.75\n",
            "A temperatura máxima é: 40.0\n",
            "A temperatura mínima é: 20.0\n"
          ]
        }
      ]
    },
    {
      "cell_type": "markdown",
      "source": [
        "11. Gerador de Números Aleatórios\n",
        "   - Desenvolva uma função que gere uma lista de números aleatórios dentro de um intervalo específico e calcule a média, mediana, e moda dos números gerados."
      ],
      "metadata": {
        "id": "gAW6VDFfNFQV"
      }
    },
    {
      "cell_type": "code",
      "source": [
        "def gerador_numeros():\n",
        "  import random\n",
        "  numeros = [ ]\n",
        "  for i in range(10):\n",
        "    numeros.append(random.randint(1,100))\n",
        "  print(f\"A lista de números é: {numeros}\")\n",
        "\n",
        "  media = sum((numeros)) / len(numeros)\n",
        "  print(f\"A média dos números é: {media}\")\n",
        "\n",
        "  mediana = sorted(numeros)[len(numeros) // 2]\n",
        "  print(f\"A mediana dos números é: {mediana}\")\n",
        "\n",
        "  moda = max(set(numeros), key=numeros.count)\n",
        "  print(f\"A moda dos números é: {moda}\")\n",
        "gerador_numeros()"
      ],
      "metadata": {
        "colab": {
          "base_uri": "https://localhost:8080/"
        },
        "id": "DxHxXRoVNG45",
        "outputId": "c5bf31b4-1cbd-4ee1-fb1f-dd60c6fcf3e6"
      },
      "execution_count": 116,
      "outputs": [
        {
          "output_type": "stream",
          "name": "stdout",
          "text": [
            "A lista de números é: [35, 71, 56, 25, 25, 37, 98, 34, 51, 52]\n",
            "A média dos números é: 48.4\n",
            "A mediana dos números é: 51\n",
            "A moda dos números é: 25\n"
          ]
        }
      ]
    },
    {
      "cell_type": "markdown",
      "source": [
        "12. Analisador de Texto\n",
        "   - Crie uma função que receba um texto e retorne o número de palavras, frases, e caracteres, além de calcular a frequência de cada palavra no texto."
      ],
      "metadata": {
        "id": "xIMsFrNSNPSY"
      }
    },
    {
      "cell_type": "code",
      "source": [
        "def analise_texto(texto):\n",
        "  texto = texto.lower()\n",
        "  palavras = texto.split()\n",
        "  numero_palavras = len(palavras)\n",
        "  numero_frases = texto.count('.') + texto.count('!') + texto.count('?')\n",
        "  numero_caracteres = len(texto)\n",
        "\n",
        "  frequencia_palavras = {}\n",
        "  for palavra in palavras:\n",
        "    palavra = palavra.strip('.,!?\"')\n",
        "    if palavra:\n",
        "      if palavra in frequencia_palavras:\n",
        "        frequencia_palavras[palavra] += 1\n",
        "      else:\n",
        "        frequencia_palavras[palavra] = 1\n",
        "\n",
        "  print(f\"Frequência de cada palavra: {frequencia_palavras} \")\n",
        "  print(f\"Número de palavras: {numero_palavras}\")\n",
        "  print(f\"Número de frases: {numero_frases}\")\n",
        "  print(f\"Número de caracteres: {numero_caracteres}\")\n",
        "analise_texto('Tenha um bom-dia! Bom-dia!')"
      ],
      "metadata": {
        "id": "6-eHn1ptNPj_",
        "colab": {
          "base_uri": "https://localhost:8080/"
        },
        "outputId": "db74e576-f9f7-4c60-839d-fc6ec16debd1"
      },
      "execution_count": 117,
      "outputs": [
        {
          "output_type": "stream",
          "name": "stdout",
          "text": [
            "Frequência de cada palavra: {'tenha': 1, 'um': 1, 'bom-dia': 2} \n",
            "Número de palavras: 4\n",
            "Número de frases: 2\n",
            "Número de caracteres: 26\n"
          ]
        }
      ]
    },
    {
      "cell_type": "markdown",
      "source": [
        "13. Cálculo de Juros Compostos\n",
        "   - Escreva uma função que calcule o valor futuro de um investimento com base nos juros compostos. A função deve permitir a personalização do principal, taxa de juros, e número de períodos."
      ],
      "metadata": {
        "id": "jGTST60ZNQIR"
      }
    },
    {
      "cell_type": "code",
      "source": [
        "def calculo_juros_compostos():\n",
        "  principal = float(input(\"Digite o valor principal do investimento (R$): \"))\n",
        "  taxa_juros = float(input(\"Digite a taxa de juros anual (ex. 0.05): \"))\n",
        "  numero_periodos = int(input(\"Por favor, digite o números de periodos (a.a): \"))\n",
        "  for i in range(numero_periodos):\n",
        "    valor_futuro = principal * (1 + taxa_juros) ** numero_periodos\n",
        "  print(f\"O valor futuro do investimento é: R$ {valor_futuro:.2f}\")\n",
        "calculo_juros_compostos()"
      ],
      "metadata": {
        "id": "Ff3tCn2jNQZY",
        "colab": {
          "base_uri": "https://localhost:8080/"
        },
        "outputId": "c3972e33-bd6a-489e-9fa0-13642ee467d5"
      },
      "execution_count": 124,
      "outputs": [
        {
          "output_type": "stream",
          "name": "stdout",
          "text": [
            "Digite o valor principal do investimento (R$): 100\n",
            "Digite a taxa de juros anual (ex. 0.05): 0.05\n",
            "Por favor, digite o números de periodos (a.a): 5\n",
            "O valor futuro do investimento é: R$ 127.63\n"
          ]
        }
      ]
    },
    {
      "cell_type": "markdown",
      "source": [
        "14. Conversor de Data\n",
        "   - Desenvolva uma função que converta datas entre diferentes formatos (por exemplo, de \"DD/MM/YYYY\" para \"YYYY-MM-DD\") e que valide se a data inserida é válida."
      ],
      "metadata": {
        "id": "jXqiL2s8NQn_"
      }
    },
    {
      "cell_type": "code",
      "source": [
        "def converter_datas(data):\n",
        "  from datetime import datetime\n",
        "  data_convertida = datetime.strptime(data, \"%d/%m/%Y\").strftime(\"%Y-%m-%d\")\n",
        "  return data_convertida\n",
        "converter_datas(\"23/06/2003\")"
      ],
      "metadata": {
        "id": "t8_Q0Qd1NQ_3",
        "colab": {
          "base_uri": "https://localhost:8080/",
          "height": 36
        },
        "outputId": "8cfa544f-c793-48c2-acdf-d85dfb074695"
      },
      "execution_count": 126,
      "outputs": [
        {
          "output_type": "execute_result",
          "data": {
            "text/plain": [
              "'2003-06-23'"
            ],
            "application/vnd.google.colaboratory.intrinsic+json": {
              "type": "string"
            }
          },
          "metadata": {},
          "execution_count": 126
        }
      ]
    },
    {
      "cell_type": "markdown",
      "source": [
        "15. Simulador de Lançamento de Dados\n",
        "   - Crie uma função que simule o lançamento de um dado (ou múltiplos dados) um número específico de vezes e exiba a frequência de cada face."
      ],
      "metadata": {
        "id": "c9vlfTrSNYh-"
      }
    },
    {
      "cell_type": "code",
      "source": [
        "def simulador_dados(num_dados, num_lancamentos):\n",
        "  resultados = {}\n",
        "  for i in range(num_lancamentos):\n",
        "    lancamento = sum(random.randint(1, 6) for i in range(num_dados))\n",
        "    if lancamento in resultados:\n",
        "      resultados[lancamento] += 1\n",
        "    else:\n",
        "      resultados[lancamento] = 1\n",
        "\n",
        "  for face, frequencia in resultados.items():\n",
        "    print(f\"Face {face}: {frequencia} vezes ({frequencia / num_lancamentos * 100:.2f}%)\")\n",
        "\n",
        "num_dados = int(input(\"Quantos dados você quer lançar? \"))\n",
        "num_lancamentos = int(input(\"Quantos lançamentos você quer fazer? \"))\n",
        "simulador_dados(num_dados, num_lancamentos)\n"
      ],
      "metadata": {
        "colab": {
          "base_uri": "https://localhost:8080/"
        },
        "id": "1hhvz4Fhr_AR",
        "outputId": "cccda076-c392-402e-b95b-804034a11804"
      },
      "execution_count": 129,
      "outputs": [
        {
          "output_type": "stream",
          "name": "stdout",
          "text": [
            "Quantos dados você quer lançar? 2\n",
            "Quantos lançamentos você quer fazer? 1\n",
            "Face 7: 1 vezes (100.00%)\n"
          ]
        }
      ]
    }
  ]
}