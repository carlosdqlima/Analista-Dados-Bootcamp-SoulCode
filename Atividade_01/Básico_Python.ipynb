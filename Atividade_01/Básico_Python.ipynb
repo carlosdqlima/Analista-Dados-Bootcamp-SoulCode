{
  "nbformat": 4,
  "nbformat_minor": 0,
  "metadata": {
    "colab": {
      "provenance": [],
      "include_colab_link": true
    },
    "kernelspec": {
      "name": "python3",
      "display_name": "Python 3"
    },
    "language_info": {
      "name": "python"
    }
  },
  "cells": [
    {
      "cell_type": "markdown",
      "metadata": {
        "id": "view-in-github",
        "colab_type": "text"
      },
      "source": [
        "<a href=\"https://colab.research.google.com/github/carlosdqlima/Analista-Dados-Bootcamp-SoulCode/blob/main/Lista_de_Atividades_de_Python_B%C3%A1sico_Semana_01.ipynb\" target=\"_parent\"><img src=\"https://colab.research.google.com/assets/colab-badge.svg\" alt=\"Open In Colab\"/></a>"
      ]
    },
    {
      "cell_type": "markdown",
      "source": [
        "# 1 - Variáveis e Tipos de Dados"
      ],
      "metadata": {
        "id": "uxGISqtR2yNT"
      }
    },
    {
      "cell_type": "code",
      "execution_count": null,
      "metadata": {
        "id": "tLS0FEGj2rS7"
      },
      "outputs": [],
      "source": [
        "'''\n",
        "1.1. Crie variáveis para armazenar o nome, idade, peso e altura de uma pessoa.\n",
        "Imprima os valores e os tipos de dados dessas variáveis.\n",
        "'''\n",
        "\n",
        "nome = input(\"Por favor, digite o seu nome: \")\n",
        "idade = int(input(\"Qual é a sua idade? \"))\n",
        "peso = float(input(\"Quanto você pesa? \"))\n",
        "altura = float(input(\"Qual é a sua altura? \"))\n",
        "\n",
        "print (f\"{nome} {type (nome)}\")\n",
        "print (f\"{idade} {type (idade)}\")\n",
        "print (f\"{peso} {type(peso)}\")\n",
        "print (f\"{altura} {type(altura)}\")\n"
      ]
    },
    {
      "cell_type": "code",
      "source": [
        "'''\n",
        "1.2. Atualize a variável de peso para um valor diferente e imprima o novo valor.\n",
        "'''\n",
        "\n",
        "nome = input(\"Por favor, digite o seu nome: \")\n",
        "idade = int(input(\"Qual é a sua idade? \"))\n",
        "peso = float(input(\"Quanto você pesa? \"))\n",
        "altura = float(input(\"Qual é a sua altura? \"))\n",
        "\n",
        "print (f\"{nome} {type (nome)}\")\n",
        "print (f\"{idade} {type (idade)}\")\n",
        "print (f\"{peso} {type(peso)}\")\n",
        "print (f\"{altura} {type(altura)}\")\n",
        "\n",
        "peso2 = float(input(\"Qual é o seu peso atualizado? \"))\n",
        "peso = peso2\n",
        "print (f\"Seu peso atualizado é: {peso} kg\")\n"
      ],
      "metadata": {
        "id": "VFVgrodF27TT",
        "colab": {
          "base_uri": "https://localhost:8080/"
        },
        "outputId": "97d04cfa-2757-4b2f-d4a7-e405fb9e720d"
      },
      "execution_count": null,
      "outputs": [
        {
          "output_type": "stream",
          "name": "stdout",
          "text": [
            "Por favor, digite o seu nome: carl\n",
            "Qual é a sua idade? 21\n",
            "Quanto você pesa?80\n",
            "Qual é a sua altura? 1.80\n",
            "carl <class 'str'>\n",
            "21 <class 'int'>\n",
            "80.0 <class 'float'>\n",
            "1.8 <class 'float'>\n",
            "Qual é o seu peso atualizado? 70\n",
            "Seu peso atualizado é: 70.0 kg\n"
          ]
        }
      ]
    },
    {
      "cell_type": "markdown",
      "source": [
        "# 2 - Operadores Matemáticos"
      ],
      "metadata": {
        "id": "RRRbkSkr3Ajw"
      }
    },
    {
      "cell_type": "code",
      "source": [
        "'''\n",
        "2.1. Crie uma variável a com valor 10 e uma variável b com valor 3. Realize as\n",
        "seguintes operações e imprima os resultados:\n",
        "Soma\n",
        "Subtração\n",
        "Multiplicação\n",
        "Divisão\n",
        "Parte inteira da divisão\n",
        "Resto da divisão\n",
        "Exponenciação\n",
        "'''\n",
        "\n",
        "a = 10\n",
        "b = 3\n",
        "\n",
        "print (f\" Soma = {a + b}\")\n",
        "print (f\" Subtração = {a - b}\")\n",
        "print (f\" Multiplicação = {a * b}\")\n",
        "print (f\" Divisao = {a / b}\")\n",
        "print (f\" Parte Inteira da Divisao = {a // b}\")\n",
        "print (f\" Resto da Divisao = {a % b}\")\n",
        "print (f\" Exponenciacao = {a ** b}\")"
      ],
      "metadata": {
        "id": "hHAztIDU3AJP",
        "colab": {
          "base_uri": "https://localhost:8080/"
        },
        "outputId": "22fdad69-a10d-4499-f048-173357e50c09"
      },
      "execution_count": null,
      "outputs": [
        {
          "output_type": "stream",
          "name": "stdout",
          "text": [
            " Soma = 13\n",
            " Subtração = 7\n",
            " Multiplicação = 30\n",
            " Divisao = 3.3333333333333335\n",
            " Parte Inteira da Divisao = 3\n",
            " Resto da Divisao = 1\n",
            " Exponenciacao = 1000\n"
          ]
        }
      ]
    },
    {
      "cell_type": "markdown",
      "source": [
        "# 3 - Entrada de Dados pelo Usuário\n"
      ],
      "metadata": {
        "id": "jWJt5Ep23OFd"
      }
    },
    {
      "cell_type": "code",
      "source": [
        "'''\n",
        "3.1. Peça ao usuário para digitar seu nome e armazene em uma variável. Imprima\n",
        "uma mensagem de boas-vindas usando o nome fornecido.\n",
        "'''\n",
        "\n",
        "nome = input(\"Por favor, digite seu nome: \")\n",
        "\n",
        "print (f\"Boas-vindas, {nome}!\")"
      ],
      "metadata": {
        "id": "IiD6jUJh3eiD",
        "colab": {
          "base_uri": "https://localhost:8080/"
        },
        "outputId": "087a87d5-7ae1-4900-b655-f907b546e89d"
      },
      "execution_count": null,
      "outputs": [
        {
          "output_type": "stream",
          "name": "stdout",
          "text": [
            "Por favor, digite seu nome: Carl\n",
            "Boas-vindas Carl!\n"
          ]
        }
      ]
    },
    {
      "cell_type": "code",
      "source": [
        "'''\n",
        "3.2. Peça ao usuário para digitar sua idade, peso e altura. Calcule o IMC e\n",
        "imprima o resultado arredondado para três casas decimais.\n",
        "'''\n",
        "\n",
        "print (f\"Boas-vindas, ao calculador de IMC!\")\n",
        "\n",
        "idade = int(input(\"Quantos anos você tem? \"))\n",
        "peso = float(input(\"Por favor, digite seu peso (kg): \"))\n",
        "altura = float(input(\"Qual é a sua altura (m)? \"))\n",
        "\n",
        "imc = peso / (altura ** 2)\n",
        "\n",
        "print (f\"Seu IMC é: {imc:.3f}\")\n",
        "\n"
      ],
      "metadata": {
        "id": "Y4kz72aR3k8d",
        "colab": {
          "base_uri": "https://localhost:8080/"
        },
        "outputId": "e117f4a9-f610-4232-ed91-1646d5d47e36"
      },
      "execution_count": null,
      "outputs": [
        {
          "output_type": "stream",
          "name": "stdout",
          "text": [
            "Boas-vindas, ao calculador de IMC!\n",
            "Quantos anos você tem? 21\n",
            "Por favor, digite seu peso (kg): 70\n",
            "Qual é a sua altura (m) ? 1.84\n",
            "Seu IMC é: 20.676\n"
          ]
        }
      ]
    },
    {
      "cell_type": "markdown",
      "source": [
        "# 4 - Função de Impressão"
      ],
      "metadata": {
        "id": "zqRV3Plv3pjL"
      }
    },
    {
      "cell_type": "code",
      "source": [
        "'''\n",
        "4.1. Peça ao usuário para digitar um número e imprima o número digitado.\n",
        "'''\n",
        "\n",
        "numero = int(input(\"Por favor, digite um número: \"))\n",
        "\n",
        "print (f\"O número digitado é: {numero}\")\n",
        "\n"
      ],
      "metadata": {
        "id": "N5AbRV3i3vYV",
        "colab": {
          "base_uri": "https://localhost:8080/"
        },
        "outputId": "c170dba7-f4f4-431c-93e6-18665b5d8a85"
      },
      "execution_count": null,
      "outputs": [
        {
          "output_type": "stream",
          "name": "stdout",
          "text": [
            "Por favor, digite um número: 40\n",
            "O número digitado é: 40\n"
          ]
        }
      ]
    },
    {
      "cell_type": "code",
      "source": [
        "'''\n",
        "4.2. Peça ao usuário para digitar dois números e imprima a soma deles.\n",
        "'''\n",
        "\n",
        "print (f\"Boas-vindas, ao somador!\")\n",
        "\n",
        "numero1 = float(input(\"Digite o primeiro número: \"))\n",
        "numero2 = float(input(\"Digite o segundo número: \"))\n",
        "\n",
        "print (f\"A soma de '{numero1}' e '{numero2}' é igual a {numero1 + numero2}\")"
      ],
      "metadata": {
        "id": "qM2ocOFl3vpB",
        "colab": {
          "base_uri": "https://localhost:8080/"
        },
        "outputId": "c927fb90-a1eb-415c-a0cd-839039b06f91"
      },
      "execution_count": null,
      "outputs": [
        {
          "output_type": "stream",
          "name": "stdout",
          "text": [
            "Boas-vindas, ao somador!\n",
            "Digite o primeiro número: 1\n",
            "Digite o segundo número: 1.8\n",
            "A soma de '1.0' e '1.8' é igual a 2.8\n"
          ]
        }
      ]
    },
    {
      "cell_type": "markdown",
      "source": [
        "# 5 - Métodos de Strings"
      ],
      "metadata": {
        "id": "RWwlLaOu35jq"
      }
    },
    {
      "cell_type": "code",
      "source": [
        "'''\n",
        "5.1. Peça ao usuário para digitar um e-mail e verifique se o e-mail contém o\n",
        "caractere '@'. Imprima uma mensagem indicando se é um e-mail válido ou não.\n",
        "'''\n",
        "\n",
        "email = input(\"Por favor, digite seu email: \")\n",
        "\n",
        "if \"@\" in email:\n",
        "  print (\"Email válido\")\n",
        "else:\n",
        "  print (\"Email inválido\")"
      ],
      "metadata": {
        "id": "PnAPaeXY3-dA",
        "colab": {
          "base_uri": "https://localhost:8080/"
        },
        "outputId": "4e50098b-8cfc-454c-94bf-822103b8c0ca"
      },
      "execution_count": null,
      "outputs": [
        {
          "output_type": "stream",
          "name": "stdout",
          "text": [
            "Por favor, digite seu email: treze.com.br\n",
            "Email inválido\n"
          ]
        }
      ]
    },
    {
      "cell_type": "code",
      "source": [
        "'''\n",
        "5.2. Peça ao usuário para digitar uma frase e:\n",
        "Converta a frase para maiúsculas.\n",
        "Converta a frase para minúsculas.\n",
        "Converta a primeira letra de cada palavra para maiúscula.\n",
        "Verifique se a frase começa com uma determinada palavra (ex.: 'Olá').\n",
        "'''\n",
        "\n",
        "frase = input(\"Por favor, digite uma frase: \")\n",
        "\n",
        "print (frase.upper())\n",
        "print (frase.lower())\n",
        "print (frase.title())\n",
        "if (frase.startswith('olá')):\n",
        "  print (\"A frase começa com 'olá'\")\n",
        "else:\n",
        "  print (\"A frase não começa com 'olá'\")\n"
      ],
      "metadata": {
        "id": "nkwe0I9c3-w-",
        "colab": {
          "base_uri": "https://localhost:8080/"
        },
        "outputId": "036d7924-8277-4962-a85a-d77c9e6d3748"
      },
      "execution_count": null,
      "outputs": [
        {
          "output_type": "stream",
          "name": "stdout",
          "text": [
            "Por favor, digite uma frase: olá mundo, hello\n",
            "OLÁ MUNDO, HELLO\n",
            "olá mundo, hello\n",
            "Olá Mundo, Hello\n",
            "A frase começa com 'olá'\n"
          ]
        }
      ]
    },
    {
      "cell_type": "markdown",
      "source": [
        "# 6 - Listas"
      ],
      "metadata": {
        "id": "HZQlB-8K4snX"
      }
    },
    {
      "cell_type": "code",
      "source": [
        "'''\n",
        "6.1. Crie uma lista com os nomes de cinco amigos. Imprima o nome do terceiro\n",
        "amigo na lista.\n",
        "'''\n",
        "amigos = [\"Guilherme\",\"Rafael\",\"José\",\"Victor\",\"Welinton\"]\n",
        "\n",
        "print (amigos[2])\n"
      ],
      "metadata": {
        "id": "3_3JLvXZ4sBG",
        "colab": {
          "base_uri": "https://localhost:8080/"
        },
        "outputId": "a8c68bac-bb09-4ba0-8f79-19b279023da3"
      },
      "execution_count": null,
      "outputs": [
        {
          "output_type": "stream",
          "name": "stdout",
          "text": [
            "José\n"
          ]
        }
      ]
    },
    {
      "cell_type": "code",
      "source": [
        "'''\n",
        "6.2. Adicione um novo nome à lista de amigos e remova o primeiro nome.\n",
        "Imprima a lista atualizada.\n",
        "'''\n",
        "\n",
        "amigos = [\"Guilherme\",\"Rafael\",\"José\",\"Victor\",\"Welinton\"]\n",
        "amigos.append(\"Rickelme\")\n",
        "amigos.remove(\"Guilherme\")\n",
        "\n",
        "print(amigos)"
      ],
      "metadata": {
        "id": "ppcjLqMb4yDu",
        "colab": {
          "base_uri": "https://localhost:8080/"
        },
        "outputId": "d9598c3f-f6a1-4182-c712-1db8f47b64aa"
      },
      "execution_count": null,
      "outputs": [
        {
          "output_type": "stream",
          "name": "stdout",
          "text": [
            "['Rafael', 'José', 'Victor', 'Welinton', 'Rickelme']\n"
          ]
        }
      ]
    },
    {
      "cell_type": "code",
      "source": [
        "'''\n",
        "6.3. Crie uma lista com as idades dos seus amigos e:\n",
        "Imprima a idade do amigo mais velho.\n",
        "Imprima a idade do amigo mais novo.\n",
        "Calcule e imprima a soma das idades.\n",
        "'''\n",
        "\n",
        "idade_amigos = [22,30,20,21]\n",
        "\n",
        "print (max(idade_amigos))\n",
        "print (min(idade_amigos))\n",
        "print (sum(idade_amigos))"
      ],
      "metadata": {
        "id": "Hoz7RcUW4zc4",
        "colab": {
          "base_uri": "https://localhost:8080/"
        },
        "outputId": "cf4fd818-c4d3-48ed-94f4-c8175f91ae5d"
      },
      "execution_count": null,
      "outputs": [
        {
          "output_type": "stream",
          "name": "stdout",
          "text": [
            "30\n",
            "20\n",
            "93\n"
          ]
        }
      ]
    },
    {
      "cell_type": "markdown",
      "source": [
        "# 7 - Tuplas"
      ],
      "metadata": {
        "id": "9WTzsCNH4-tT"
      }
    },
    {
      "cell_type": "code",
      "source": [
        "'''\n",
        "7.1 Crie uma tupla com as informações de um cliente (nome, idade, peso, altura).\n",
        "Imprima todas as informações.\n",
        "'''\n",
        "\n",
        "nome = input(\"Digite o nome do cliente: \")\n",
        "idade = int(input(\"Digite a idade do cliente: \"))\n",
        "peso = float(input(\"Digite o peso do cliente: \"))\n",
        "altura = float(input(\"Digite a altura do cliente: \"))\n",
        "\n",
        "dados_clientes = (nome, idade, peso, altura)\n",
        "\n",
        "print (dados_clientes)"
      ],
      "metadata": {
        "id": "XpWW7G-p5BOJ",
        "colab": {
          "base_uri": "https://localhost:8080/"
        },
        "outputId": "a06ce3cb-7e5d-4837-d152-5a6cab1335a1"
      },
      "execution_count": null,
      "outputs": [
        {
          "output_type": "stream",
          "name": "stdout",
          "text": [
            "Digite o nome do cliente: Carlos\n",
            "Digite a idade do cliente: 21\n",
            "Digite o peso do cliente: 70\n",
            "Digite a altura do cliente: 1.84\n",
            "('Carlos', 21, 70.0, 1.84)\n"
          ]
        }
      ]
    },
    {
      "cell_type": "code",
      "source": [
        "'''\n",
        "7.2. Crie uma nova tupla concatenando a tupla do exercício anterior com o e-mail\n",
        "do cliente. Imprima a nova tupla.\n",
        "'''\n",
        "\n",
        "nome = input(\"Digite o nome do cliente: \")\n",
        "email = input(\"Digite o email do cliente: \")\n",
        "idade = int(input(\"Digite a idade do cliente: \"))\n",
        "peso = float(input(\"Digite o peso em kg do cliente: \"))\n",
        "altura = float(input(\"Digite a altura do cliente: \"))\n",
        "\n",
        "dados_clientes = (nome, idade, peso, altura)\n",
        "dados_clientes_email = (dados_clientes) + (email,)\n",
        "\n",
        "print (dados_clientes_email)"
      ],
      "metadata": {
        "id": "tIzWFwzc5GQ8",
        "colab": {
          "base_uri": "https://localhost:8080/"
        },
        "outputId": "70e6956c-a25b-46f6-d126-eec208cc8b8f"
      },
      "execution_count": null,
      "outputs": [
        {
          "output_type": "stream",
          "name": "stdout",
          "text": [
            "Digite o nome do cliente: carlos\n",
            "Digite o email do cliente: carlos.dq.lima@gmail.com\n",
            "Digite a idade do cliente: 21\n",
            "Digite o peso em kg do cliente: 70\n",
            "Digite a altura do cliente: 1.7\n",
            "('carlos', 21, 70.0, 1.7, 'carlos.dq.lima@gmail.com')\n"
          ]
        }
      ]
    },
    {
      "cell_type": "markdown",
      "source": [
        "# 8 - Dicionários"
      ],
      "metadata": {
        "id": "-zg06dPu5ZJC"
      }
    },
    {
      "cell_type": "code",
      "source": [
        "'''\n",
        "8.1. Crie um dicionário com informações de um cliente\n",
        "(nome, idade, peso, altura). Imprima o valor associado à chave 'nome'.\n",
        "'''\n",
        "\n",
        "dados_clientes = {\n",
        "    \"nome\": \"Carlos\",\n",
        "    \"idade\": 21,\n",
        "    \"peso\": 70,\n",
        "    \"altura\": 1.84\n",
        "}\n",
        "\n",
        "print (dados_clientes[\"nome\"])"
      ],
      "metadata": {
        "id": "E_wd3pdX5clA",
        "colab": {
          "base_uri": "https://localhost:8080/"
        },
        "outputId": "24dd5224-e21e-4a77-f39f-cf0350ccf8b8"
      },
      "execution_count": null,
      "outputs": [
        {
          "output_type": "stream",
          "name": "stdout",
          "text": [
            "Carlos\n"
          ]
        }
      ]
    },
    {
      "cell_type": "code",
      "source": [
        "'''\n",
        "8.2. Adicione uma nova chave 'email' ao dicionário do exercício anterior e\n",
        "imprima o dicionário atualizado.\n",
        "'''\n",
        "\n",
        "dados_clientes = {\n",
        "    \"nome\": \"Carlos\",\n",
        "    \"idade\": 21,\n",
        "    \"peso\": 70,\n",
        "    \"altura\": 1.84\n",
        "}\n",
        "\n",
        "dados_clientes[\"email\"] = \"carlos.dq.lima@gmail.com\"\n",
        "\n",
        "print (dados_clientes)"
      ],
      "metadata": {
        "id": "kM-tUW7o5eK7",
        "colab": {
          "base_uri": "https://localhost:8080/"
        },
        "outputId": "232df092-a6df-4462-934d-7fe84a2d6ea7"
      },
      "execution_count": null,
      "outputs": [
        {
          "output_type": "stream",
          "name": "stdout",
          "text": [
            "{'nome': 'Carlos', 'idade': 21, 'peso': 70, 'altura': 1.84, 'email': 'carlos.dq.lima@gmail.com'}\n"
          ]
        }
      ]
    },
    {
      "cell_type": "code",
      "source": [
        "'''\n",
        "8.3. Remova a chave 'peso' do dicionário e verifique se a chave 'endereço' está\n",
        "no dicionário. Imprima os resultados.\n",
        "'''\n",
        "\n",
        "dados_clientes = {\n",
        "    \"nome\": \"Carlos\",\n",
        "    \"idade\": 21,\n",
        "    \"peso\": 70,\n",
        "    \"altura\": 1.84\n",
        "}\n",
        "\n",
        "dados_clientes.pop(\"peso\")\n",
        "\n",
        "print (dados_clientes)\n",
        "\n",
        "if (\"endereço\" in dados_clientes):\n",
        "  print (\"A chave 'endereço' está no dicionario\")\n",
        "else:\n",
        "  print (\"A chave 'endereço' não está no dicionario\")"
      ],
      "metadata": {
        "id": "xFhFuFOV5ffs",
        "colab": {
          "base_uri": "https://localhost:8080/"
        },
        "outputId": "92dc96b2-13a6-424d-86bb-c85a1ea8e88d"
      },
      "execution_count": null,
      "outputs": [
        {
          "output_type": "stream",
          "name": "stdout",
          "text": [
            "{'nome': 'Carlos', 'idade': 21, 'altura': 1.84}\n",
            "A chave 'endereço' não está no dicionario\n"
          ]
        }
      ]
    },
    {
      "cell_type": "markdown",
      "source": [
        "# 9 - Controle de Fluxo"
      ],
      "metadata": {
        "id": "zDOsohbe5sjQ"
      }
    },
    {
      "cell_type": "code",
      "source": [
        "# Condicionais\n",
        "'''\n",
        "9.1. Peça ao usuário para digitar sua idade e verifique se ele é menor de idade,\n",
        " adulto ou idoso. Imprima uma mensagem correspondente.\n",
        "'''\n",
        "\n",
        "idade = int(input(\"Digite  a sua idade: \"))\n",
        "\n",
        "if (idade < 18):\n",
        "  print(\"Você é menor de idade\")\n",
        "elif (idade > 18 and idade < 60):\n",
        "  print(\"Você é adulto\")\n",
        "elif (idade > 60 and idade < 150):\n",
        "  print(\"Você é idoso\")\n",
        "else:\n",
        "  print(\"Idade inválida\")\n"
      ],
      "metadata": {
        "id": "efFgv5Xx5wFC",
        "colab": {
          "base_uri": "https://localhost:8080/"
        },
        "outputId": "d472b63e-85ba-49ac-f513-a9ec985583f3"
      },
      "execution_count": null,
      "outputs": [
        {
          "output_type": "stream",
          "name": "stdout",
          "text": [
            "Digite  a sua idade: 170\n",
            "Idade inválida\n"
          ]
        }
      ]
    },
    {
      "cell_type": "code",
      "source": [
        "# Condicionais\n",
        "'''\n",
        "9.2. Peça ao usuário para digitar uma nota (0 a 100) e imprima se ele foi\n",
        "aprovado (nota >= 60) ou reprovado.\n",
        "'''\n",
        "\n",
        "nota = int(input(\"Digite a sua nota, por favor: \"))\n",
        "\n",
        "if (nota >= 60 and nota <= 100):\n",
        "  print(\"Você foi aprovado, parabéns! \")\n",
        "elif (nota >= 0 and nota < 60):\n",
        "  print(\"Lamento, você não foi aprovado\")\n",
        "else:\n",
        "  print(\"Por favor, insira uma nota entre '0 e 100' \")"
      ],
      "metadata": {
        "id": "pse5b4NO52OP",
        "colab": {
          "base_uri": "https://localhost:8080/"
        },
        "outputId": "eab8a35d-1059-4e1e-a8a8-52450aa12313"
      },
      "execution_count": null,
      "outputs": [
        {
          "output_type": "stream",
          "name": "stdout",
          "text": [
            "Digite a sua nota, por favor: 101\n",
            "Por favor, insira uma nota entre '0 e 100' \n"
          ]
        }
      ]
    },
    {
      "cell_type": "code",
      "source": [
        "# Loop For\n",
        "'''\n",
        "9.3. Crie uma lista com os nomes de cinco cidades. Use um loop for para imprimir\n",
        "cada nome de cidade.\n",
        "'''\n",
        "\n",
        "cidades = [\"São José do Rio Preto\",\"São Paulo\", \"Salvador\", \"Rio de Janeiro\", \"Campinas\"]\n",
        "\n",
        "for nome_cidade in cidades:\n",
        "  print (nome_cidade)\n"
      ],
      "metadata": {
        "id": "inMnGHFy525K",
        "colab": {
          "base_uri": "https://localhost:8080/"
        },
        "outputId": "b55d2636-1310-4a94-b2a3-90f0352b10e3"
      },
      "execution_count": null,
      "outputs": [
        {
          "output_type": "stream",
          "name": "stdout",
          "text": [
            "São José do Rio Preto\n",
            "São Paulo\n",
            "Salvador\n",
            "Rio de Janeiro\n",
            "Campinas\n"
          ]
        }
      ]
    },
    {
      "cell_type": "code",
      "source": [
        "# Loop For\n",
        "'''\n",
        "9.4. Crie uma lista com os números de 1 a 10. Use um loop for para imprimir o\n",
        "quadrado de cada número.\n",
        "'''\n",
        "\n",
        "numeros = [1,2,3,4,5,6,7,8,9,10]\n",
        "\n",
        "for quadrado in numeros:\n",
        "  print (quadrado ** 2)\n"
      ],
      "metadata": {
        "id": "GitTfGfM539Y",
        "colab": {
          "base_uri": "https://localhost:8080/"
        },
        "outputId": "0b520188-a36d-4d18-f137-9935390e3890"
      },
      "execution_count": null,
      "outputs": [
        {
          "output_type": "stream",
          "name": "stdout",
          "text": [
            "1\n",
            "4\n",
            "9\n",
            "16\n",
            "25\n",
            "36\n",
            "49\n",
            "64\n",
            "81\n",
            "100\n"
          ]
        }
      ]
    },
    {
      "cell_type": "markdown",
      "source": [
        "# 10 - Estudo de caso 01"
      ],
      "metadata": {
        "id": "_vJUEjo_6mWX"
      }
    },
    {
      "cell_type": "code",
      "source": [
        "'''\n",
        "Contexto:\n",
        "Uma empresa precisa registrar informações sobre seus clientes e calcular o IMC\n",
        "(Índice de Massa Corporal) de cada um deles. As informações devem ser\n",
        "armazenadas em um dicionário e exibidas ao final.\n",
        "'''\n",
        "\n",
        "\n",
        "'''\n",
        "Requisitos:\n",
        "Peça ao usuário para inserir os seguintes dados de um cliente:\n",
        "Nome\n",
        "Idade\n",
        "Peso (em kg)\n",
        "Altura (em metros)\n",
        "E-mail\n",
        "Armazene essas informações em um dicionário.\n",
        "Calcule o IMC do cliente (IMC = Peso / (Altura * Altura)) e adicione esse valor ao dicionário.\n",
        "Exiba todas as informações do cliente, incluindo o IMC arredondado para duas casas decimais.\n",
        "\n",
        "'''\n",
        "\n",
        "nome = input(\"Digite o nome do cliente: \")\n",
        "email = input(\"Digite o email do cliente: \")\n",
        "idade = int(input(\"Digite a idade do cliente: \"))\n",
        "peso = float(input(\"Digite o peso (em kg) do cliente: \"))\n",
        "altura = float(input(\"Digite a altura (em metros) do cliente: \"))\n",
        "\n",
        "dados_cliente = {\n",
        "    \"nome\": nome,\n",
        "    \"email\": email,\n",
        "    \"idade\": idade,\n",
        "    \"peso\": peso,\n",
        "    \"altura\": altura\n",
        "}\n",
        "\n",
        "imc = (peso / (altura * altura ))\n",
        "\n",
        "dados_cliente[\"imc\"] = imc\n",
        "\n",
        "print(f\"Nome: {dados_cliente['nome']}, Email: {dados_cliente['email']}, Idade: {dados_cliente['idade']}, Peso: {dados_cliente['peso']}, Altura: {dados_cliente['altura']}, IMC: {dados_cliente['imc']:.2f}\")\n",
        "\n",
        "\n"
      ],
      "metadata": {
        "id": "llIsNhsG6l_z",
        "colab": {
          "base_uri": "https://localhost:8080/"
        },
        "outputId": "93e2ea44-5b01-4c4c-828a-ae80f59e099b"
      },
      "execution_count": null,
      "outputs": [
        {
          "output_type": "stream",
          "name": "stdout",
          "text": [
            "Digite o nome do cliente: carlos\n",
            "Digite o email do cliente: carlos.dq.lima@gmail.com\n",
            "Digite a idade do cliente: 21\n",
            "Digite o peso (em kg) do cliente: 70\n",
            "Digite a altura (em metros) do cliente: 1.84\n",
            "Nome: carlos, Email: carlos.dq.lima@gmail.com, Idade: 21, Peso: 70.0, Altura: 1.84, IMC: 20.68\n"
          ]
        }
      ]
    },
    {
      "cell_type": "markdown",
      "source": [
        "# 11 - Estudo de Caso 02"
      ],
      "metadata": {
        "id": "_Yi8lRKQ68B3"
      }
    },
    {
      "cell_type": "code",
      "source": [
        "'''\n",
        "Contexto:\n",
        "Uma escola precisa analisar as notas de seus alunos e determinar se cada aluno\n",
        "foi aprovado ou reprovado. As notas serão armazenadas em uma lista e a análise\n",
        "deve ser realizada em um loop.\n",
        "'''\n",
        "\n",
        "'''\n",
        "Requisitos:\n",
        "Peça ao usuário para inserir o nome e a nota de cinco alunos.\n",
        "Armazene os nomes e as notas em listas separadas.\n",
        "Para cada aluno, verifique se a nota é maior ou igual a 60. Se sim, o aluno está\n",
        "aprovado; caso contrário, está reprovado.\n",
        "Exiba uma mensagem para cada aluno informando seu nome, nota e se foi aprovado\n",
        "ou reprovado.\n",
        "'''\n",
        "\n",
        "nome1 = input(\"Digite o nome do primeiro aluno: \")\n",
        "nota1 =  float(input(f\"Digite a nota do {nome1}: \"))\n",
        "nome2 = input(\"Digite o nome do segundo aluno: \")\n",
        "nota2 =  float(input(f\"Digite a nota do {nome2}: \"))\n",
        "nome3 = input(\"Digite o nome do terceiro aluno: \")\n",
        "nota3 =  float(input(f\"Digite a nota do {nome3}: \"))\n",
        "nome4 = input(\"Digite o nome do quarto aluno: \")\n",
        "nota4 = float( input(f\"Digite a nota do {nome4}: \"))\n",
        "nome5 = input(\"Digite o nome do quinto aluno: \")\n",
        "nota5 = float(input(f\"Digite a nota do {nome5}: \"))\n",
        "\n",
        "lista_nome = [nome1, nome2, nome3, nome4, nome5]\n",
        "lista_nota = [nota1, nota2, nota3, nota4, nota5]\n",
        "\n",
        "for a in range(5):\n",
        "  nome = lista_nome[a]\n",
        "  nota = lista_nota[a]\n",
        "  if (nota >= 60):\n",
        "    situacao = \"Aprovado\"\n",
        "  else:\n",
        "    situacao = \"Reprovado\"\n",
        "  print (f\"O aluno {nome}, com a nota {nota} foi {situacao}\")\n"
      ],
      "metadata": {
        "id": "mrqCtmjg6_It",
        "colab": {
          "base_uri": "https://localhost:8080/"
        },
        "outputId": "23565103-50e4-4ad0-8575-309ac8895c65"
      },
      "execution_count": null,
      "outputs": [
        {
          "output_type": "stream",
          "name": "stdout",
          "text": [
            "Digite o nome do primeiro aluno: carlos\n",
            "Digite a nota do carlos: 66\n",
            "Digite o nome do segundo aluno: joao\n",
            "Digite a nota do joao: 11\n",
            "Digite o nome do terceiro aluno: victor\n",
            "Digite a nota do victor: 55\n",
            "Digite o nome do quarto aluno: rafael\n",
            "Digite a nota do rafael: 99\n",
            "Digite o nome do quinto aluno: gustavo\n",
            "Digite a nota do gustavo: 9\n",
            "O aluno carlos, com a nota 66.0 e foi Aprovado\n",
            "O aluno joao, com a nota 11.0 e foi Reprovado\n",
            "O aluno victor, com a nota 55.0 e foi Reprovado\n",
            "O aluno rafael, com a nota 99.0 e foi Aprovado\n",
            "O aluno gustavo, com a nota 9.0 e foi Reprovado\n"
          ]
        }
      ]
    },
    {
      "cell_type": "markdown",
      "source": [
        "# 12 - Estudo de caso 03"
      ],
      "metadata": {
        "id": "DoDAFqG37QWG"
      }
    },
    {
      "cell_type": "code",
      "source": [
        "'''\n",
        "Contexto\n",
        "Uma empresa deseja realizar uma pesquisa de opinião com cinco participantes\n",
        "sobre um novo produto. As respostas devem ser armazenadas e analisadas para\n",
        "verificar a satisfação dos clientes.\n",
        "'''\n",
        "\n",
        "'''\n",
        "Requisitos\n",
        "Peça ao usuário para inserir o nome e a opinião (satisfeito/insatisfeito) de\n",
        "cinco participantes.\n",
        "Armazene os nomes e as opiniões em um dicionário.\n",
        "Conte o número de participantes satisfeitos e insatisfeitos.\n",
        "Exiba a lista de participantes satisfeitos e insatisfeitos, bem como o número\n",
        "total de cada categoria.\n",
        "'''\n",
        "\n",
        "respostas = {}\n",
        "\n",
        "for i in range(5):\n",
        "  nome = input(\"Insira o seu nome: \")\n",
        "  satisfacao = (input(\"Qual a sua opinião sobre o produto (satisfeito/insatisfeito)? \"))\n",
        "  respostas[nome] = satisfacao\n",
        "\n",
        "total_satisfacao = 0\n",
        "total_insatisfacao = 0\n",
        "\n",
        "satisfeitos = []\n",
        "insatisfeitos = []\n",
        "\n",
        "for nome, satisfacao in respostas.items():\n",
        "    if satisfacao == \"satisfeito\":\n",
        "      total_satisfacao += 1\n",
        "      satisfeitos.append(nome)\n",
        "    elif satisfacao == \"insatisfeito\":\n",
        "      total_insatisfacao += 1\n",
        "      insatisfeitos.append(nome)\n",
        "\n",
        "print(\"Satisfeitos:\")\n",
        "for nome in satisfeitos:\n",
        "    print(nome)\n",
        "\n",
        "print(\"Insatisfeitos:\")\n",
        "for nome in insatisfeitos:\n",
        "    print(nome)\n",
        "\n",
        "print(f\"Total de satisfeitos: {total_satisfacao}\")\n",
        "\n",
        "print(f\"Total de insatisfeitos: {total_insatisfacao}\")\n"
      ],
      "metadata": {
        "id": "34JqxL0B7Tvj",
        "colab": {
          "base_uri": "https://localhost:8080/"
        },
        "outputId": "332de5ea-5874-406f-adad-5f8e7ce8b3c4"
      },
      "execution_count": null,
      "outputs": [
        {
          "output_type": "stream",
          "name": "stdout",
          "text": [
            "Insira o seu nome: carlos\n",
            "Qual a sua opinião sobre o produto (satisfeito/insatisfeito)? satisfeito\n",
            "Insira o seu nome: joana\n",
            "Qual a sua opinião sobre o produto (satisfeito/insatisfeito)? satisfeito\n",
            "Insira o seu nome: mariana\n",
            "Qual a sua opinião sobre o produto (satisfeito/insatisfeito)? insatisfeito\n",
            "Insira o seu nome: mario\n",
            "Qual a sua opinião sobre o produto (satisfeito/insatisfeito)? satisfeito\n",
            "Insira o seu nome: luigi\n",
            "Qual a sua opinião sobre o produto (satisfeito/insatisfeito)? satisfeito\n",
            "Satisfeitos:\n",
            "carlos\n",
            "joana\n",
            "mario\n",
            "luigi\n",
            "Insatisfeitos:\n",
            "mariana\n",
            "Total de satisfeitos: 4\n",
            "Total de insatisfeitos: 1\n"
          ]
        }
      ]
    }
  ]
}
