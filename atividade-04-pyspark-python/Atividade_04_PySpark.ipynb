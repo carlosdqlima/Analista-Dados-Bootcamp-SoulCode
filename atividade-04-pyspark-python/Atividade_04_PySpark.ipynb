{
  "nbformat": 4,
  "nbformat_minor": 0,
  "metadata": {
    "colab": {
      "provenance": [],
      "authorship_tag": "ABX9TyPv9qEsBaLHP+ECF5197EW1",
      "include_colab_link": true
    },
    "kernelspec": {
      "name": "python3",
      "display_name": "Python 3"
    },
    "language_info": {
      "name": "python"
    }
  },
  "cells": [
    {
      "cell_type": "markdown",
      "metadata": {
        "id": "view-in-github",
        "colab_type": "text"
      },
      "source": [
        "<a href=\"https://colab.research.google.com/github/carlosdqlima/Analista-Dados-Bootcamp-SoulCode/blob/main/atividade-04-pyspark-python/Atividade_04_PySpark.ipynb\" target=\"_parent\"><img src=\"https://colab.research.google.com/assets/colab-badge.svg\" alt=\"Open In Colab\"/></a>"
      ]
    },
    {
      "cell_type": "markdown",
      "source": [
        "# Atividade 04 - PySpark"
      ],
      "metadata": {
        "id": "2t1roVnQ7taE"
      }
    },
    {
      "cell_type": "markdown",
      "source": [
        "A PLANILHA BASE_SUJA.XLS CONTÉM AS SEGUINTES COLUNAS:\n",
        "1. ID: Identificação única de cada funcionário.\n",
        "2. Nome: Nome do funcionário.\n",
        "3. Idade: Idade do funcionário.\n",
        "4. Área: Departamento ou área em que o funcionário trabalha.\n",
        "5. Salário: Salário do funcionário.\n",
        "6. Data de Contratação: Data em que o funcionário foi contratado.\n",
        "7. Status de Emprego: Indica se o funcionário está \"Ativo\" ou \"ativo\".\n",
        "\n",
        "BASEADO NESSA ESTRUTURA, SEGUE UMA LISTA COM POUCOS (RSRS) DESAFIOS DE INSIGHTS QUE PODEM SER EXTRAÍDOS USANDO PYSPARK:\n",
        "1. Análise de Consistência de Dados: Identificar e corrigir inconsistências nos valores de \"Área\" e \"Status de Emprego\" (e.g., diferenças de maiúsculas/minúsculas).\n",
        "2. Limpeza de Dados Faltantes: Detectar e tratar os valores ausentes na coluna \"Idade\" e \"Área\".\n",
        "3. Distribuição de Idade: Analisar a distribuição da idade dos funcionários por departamento.\n",
        "4. Salário por Departamento: Calcular a média, mediana e desvio padrão dos salários por departamento.\n",
        "5. Análise de Outliers: Identificar salários que estão fora do padrão (outliers) para cada departamento.\n",
        "6. Correlação Idade-Salário: Analisar a correlação entre idade e salário dos funcionários.\n",
        "7. Tempo de Casa: Calcular o tempo de contratação dos funcionários e categorizá-los em grupos (e.g., 1-3 anos, 4-6 anos, etc.).\n",
        "8. Análise de Rotatividade: Identificar padrões entre os funcionários que estão ativos versus os que não estão.\n",
        "9. Análise de Desempenho por Data de Contratação: Verificar se existe uma correlação entre o ano de contratação e o nível de salário.\n",
        "10. Histograma de Salário: Criar um histograma de salários para visualizar a distribuição geral.\n",
        "11. Análise de Frequência: Quantificar a frequência dos nomes dos funcionários para identificar nomes comuns.\n",
        "12. Agrupamento de Departamentos: Analisar o impacto do departamento na variação salarial e na distribuição de idade.\n",
        "13. Normalização de Dados: Normalizar o salário e idade para comparações entre diferentes departamentos.\n",
        "14. Proporção de Gêneros: Analisar a proporção de gêneros entre os funcionários, caso houvesse uma coluna de gênero.\n",
        "15. Correção de Formato de Data: Uniformizar o formato das datas de contratação.\n",
        "16. Impacto de Status no Salário: Comparar salários médios entre funcionários ativos e não ativos.\n",
        "17. Data de Contratação e Demografia: Relacionar a data de contratação com a idade dos funcionários na época da contratação.\n",
        "18. Distribuição de Status de Emprego: Analisar a distribuição do status de emprego (ativo vs. não ativo).\n",
        "19. Criação de Coluna de Idade de Contratação: Criar uma coluna que calcule a idade do funcionário na época da contratação e analisar os dados.\n",
        "20. Análise de Promoções: Analisar possíveis promoções dentro da empresa ao comparar datas de contratação e aumentos salariais, se houvesse uma coluna histórica de salários.\n",
        "21. Análise de Desempenho Temporal: Verificar se o tempo de casa influencia o salário ou a permanência no emprego.\n",
        "22. Filtragem por Data de Contratação: Identificar funcionários contratados em períodos específicos (e.g., antes de 2019, entre 2019-2020).\n",
        "23. Análise de Status de Emprego e Tempo de Casa: Verificar a relação entre tempo de casa e status de emprego (ativo vs. não ativo).\n",
        "24. Identificação de Funcionários Veteranos: Encontrar os funcionários com maior tempo de casa e analisar seu impacto na empresa.\n",
        "25. Análise de Tendências de Contratação: Identificar padrões de contratação ao longo do tempo, como sazonalidade.\n",
        "26. Salário Máximo e Mínimo por Departamento: Determinar os salários mais altos e mais baixos dentro de cada departamento.\n",
        "27. Classificação de Funcionários por Salário: Criar rankings de funcionários por salário dentro de cada departamento.\n",
        "28. Projeção de Aposentadoria: Estimar o número de funcionários que podem se aposentar em breve com base na idade.\n",
        "29. Segmentação de Funcionários por Faixa Salarial: Agrupar funcionários em faixas salariais (e.g., 2000-3000, 3001-4000) e analisar a distribuição.\n",
        "30. Análise de Equidade Salarial: Verificar se há desigualdade salarial dentro de departamentos específicos.\n",
        "31. Comparação de Salários por Período de Contratação: Comparar os salários de funcionários contratados em diferentes anos para identificar tendências de aumento salarial.\n",
        "32. Criação de Coluna de Faixa Etária: Agrupar os funcionários em faixas etárias (e.g., 20-30 anos, 31-40 anos) e analisar diferenças entre elas.\n",
        "33. Relação Entre Área e Tempo de Contratação: Identificar se alguns departamentos tendem a manter seus funcionários por mais tempo do que outros.\n",
        "34. Previsão de Turnover: Usar dados históricos para prever quais funcionários têm maior probabilidade de deixar a empresa.\n",
        "35. Análise de Homogeneidade Salarial: Verificar a homogeneidade dos salários dentro de cada departamento.\n",
        "36. Detecção de Funcionários Com Anomalias: Identificar funcionários com salários e idades que destoam significativamente dos outros no mesmo departamento.\n",
        "37. Comparação de Salários por Região: Se houvesse uma coluna de localização, comparar os salários entre diferentes regiões.\n",
        "38. Criação de Métricas Personalizadas: Desenvolver novas métricas como \"salário ajustado pela idade\" ou \"tempo de casa ajustado pela idade\".\n",
        "39. Análise de Recrutamento Recente: Focar na análise dos funcionários contratados nos últimos 12 meses para ver tendências.\n",
        "40. Distribuição de Funcionários por Departamento: Quantificar o número de funcionários por departamento e comparar com a média salarial.\n",
        "41. Análise de Rotatividade por Departamento: Verificar se há departamentos com alta rotatividade de funcionários.\n",
        "42. Comparação de Salários por Gênero: Se houvesse uma coluna de gênero, comparar os salários médios entre homens e mulheres.\n",
        "43. Correlação Entre Status de Emprego e Desempenho Salarial: Avaliar se há diferença significativa de salários entre diferentes status de emprego.\n",
        "44. Análise de Impacto de Promoções: Se houvesse dados de promoções, analisar o impacto das promoções no salário ao longo do tempo.\n",
        "45. Projeção de Custos Salariais: Calcular o custo projetado para a empresa em termos de salários nos próximos anos.\n",
        "46. Análise de Desempenho por Escolaridade: Se houvesse uma coluna de escolaridade, analisar o impacto da escolaridade no salário.\n",
        "47. Comparação Entre Funcionários com Benefícios: Se houvesse dados de benefícios, comparar o salário entre funcionários que recebem ou não benefícios.\n",
        "48. Análise de Desempenho por Formação Acadêmica: Se houvesse uma coluna de formação, analisar como diferentes formações afetam o salário e tempo de casa.\n",
        "49. Previsão de Salários Futuros: Usar regressão linear ou outros modelos para prever o crescimento salarial futuro.\n",
        "50. Identificação de Padrões de Promoção Interna: Analisar os padrões de promoção dentro da empresa ao longo dos anos."
      ],
      "metadata": {
        "id": "ZBhSzC7G7vRw"
      }
    },
    {
      "cell_type": "markdown",
      "source": [
        "# Criando o ambiente e importando as bibliotecas"
      ],
      "metadata": {
        "id": "bJBYdNXA8Wob"
      }
    },
    {
      "cell_type": "code",
      "execution_count": null,
      "metadata": {
        "colab": {
          "base_uri": "https://localhost:8080/"
        },
        "id": "VIBdAiYG7pOA",
        "outputId": "efabf534-0127-4ff3-eed1-91ac84655983"
      },
      "outputs": [
        {
          "output_type": "stream",
          "name": "stdout",
          "text": [
            "Requirement already satisfied: pyspark in /usr/local/lib/python3.10/dist-packages (3.5.2)\n",
            "Requirement already satisfied: py4j==0.10.9.7 in /usr/local/lib/python3.10/dist-packages (from pyspark) (0.10.9.7)\n",
            "Requirement already satisfied: openpyxl in /usr/local/lib/python3.10/dist-packages (3.1.5)\n",
            "Requirement already satisfied: et-xmlfile in /usr/local/lib/python3.10/dist-packages (from openpyxl) (1.1.0)\n"
          ]
        }
      ],
      "source": [
        "# Instalar o PySpark\n",
        "!pip install pyspark\n",
        "\n",
        "# Instalar o findspark\n",
        "!pip install -q findspark\n",
        "\n",
        "# Instalar o openpyxl para leitura de arquivos Excel\n",
        "!pip install openpyxl\n",
        "\n",
        "import findspark\n",
        "\n",
        "# Inicializar o findspark\n",
        "findspark.init()\n",
        "\n",
        "import pyspark\n",
        "from pyspark.sql import SparkSession"
      ]
    },
    {
      "cell_type": "markdown",
      "source": [
        "# Importando Base de Dados"
      ],
      "metadata": {
        "id": "W-M4x8ll8oqU"
      }
    },
    {
      "cell_type": "code",
      "source": [
        "from google.colab import files\n",
        "import pandas as pd\n",
        "import findspark\n",
        "import pyspark\n",
        "from pyspark.sql import SparkSession\n",
        "from pyspark.ml.feature import VectorAssembler, OneHotEncoder\n",
        "from pyspark.ml.regression import LinearRegression\n",
        "\n",
        "# Inicializar findspark e criar uma sessão Spark\n",
        "findspark.init()\n",
        "spark = SparkSession.builder.appName(\"Atividade04\").getOrCreate()\n",
        "\n",
        "# Fazer o upload do arquivo\n",
        "uploaded = files.upload()\n",
        "\n",
        "# Verificar o nome do arquivo carregado\n",
        "filename = list(uploaded.keys())[0]\n",
        "\n",
        "# Carregar o arquivo Excel com pandas\n",
        "df_excel = pd.read_excel(filename)\n",
        "\n",
        "# Função para converter tipos de dados\n",
        "def convert_types(df):\n",
        "    for column in df.columns:\n",
        "        if df[column].dtype == 'object':\n",
        "            df[column] = df[column].astype(str)\n",
        "        elif pd.api.types.is_integer_dtype(df[column]):\n",
        "            df[column] = df[column].astype(int)\n",
        "        elif pd.api.types.is_float_dtype(df[column]):\n",
        "            df[column] = df[column].astype(float)\n",
        "    return df\n",
        "\n",
        "# Aplicar a função para converter os tipos\n",
        "df_excel = convert_types(df_excel)\n",
        "\n",
        "# Criar o DataFrame do PySpark\n",
        "df_spark = spark.createDataFrame(df_excel)\n",
        "\n",
        "# Mostrar os primeiros registros\n",
        "df_spark.show()"
      ],
      "metadata": {
        "colab": {
          "base_uri": "https://localhost:8080/",
          "height": 351
        },
        "id": "SUa4Gzdu94Ro",
        "outputId": "8c32307e-c169-49de-cd8d-3b3df0311f12"
      },
      "execution_count": null,
      "outputs": [
        {
          "output_type": "display_data",
          "data": {
            "text/plain": [
              "<IPython.core.display.HTML object>"
            ],
            "text/html": [
              "\n",
              "     <input type=\"file\" id=\"files-0136e17c-b476-4289-bc24-2ad6b99bd9c0\" name=\"files[]\" multiple disabled\n",
              "        style=\"border:none\" />\n",
              "     <output id=\"result-0136e17c-b476-4289-bc24-2ad6b99bd9c0\">\n",
              "      Upload widget is only available when the cell has been executed in the\n",
              "      current browser session. Please rerun this cell to enable.\n",
              "      </output>\n",
              "      <script>// Copyright 2017 Google LLC\n",
              "//\n",
              "// Licensed under the Apache License, Version 2.0 (the \"License\");\n",
              "// you may not use this file except in compliance with the License.\n",
              "// You may obtain a copy of the License at\n",
              "//\n",
              "//      http://www.apache.org/licenses/LICENSE-2.0\n",
              "//\n",
              "// Unless required by applicable law or agreed to in writing, software\n",
              "// distributed under the License is distributed on an \"AS IS\" BASIS,\n",
              "// WITHOUT WARRANTIES OR CONDITIONS OF ANY KIND, either express or implied.\n",
              "// See the License for the specific language governing permissions and\n",
              "// limitations under the License.\n",
              "\n",
              "/**\n",
              " * @fileoverview Helpers for google.colab Python module.\n",
              " */\n",
              "(function(scope) {\n",
              "function span(text, styleAttributes = {}) {\n",
              "  const element = document.createElement('span');\n",
              "  element.textContent = text;\n",
              "  for (const key of Object.keys(styleAttributes)) {\n",
              "    element.style[key] = styleAttributes[key];\n",
              "  }\n",
              "  return element;\n",
              "}\n",
              "\n",
              "// Max number of bytes which will be uploaded at a time.\n",
              "const MAX_PAYLOAD_SIZE = 100 * 1024;\n",
              "\n",
              "function _uploadFiles(inputId, outputId) {\n",
              "  const steps = uploadFilesStep(inputId, outputId);\n",
              "  const outputElement = document.getElementById(outputId);\n",
              "  // Cache steps on the outputElement to make it available for the next call\n",
              "  // to uploadFilesContinue from Python.\n",
              "  outputElement.steps = steps;\n",
              "\n",
              "  return _uploadFilesContinue(outputId);\n",
              "}\n",
              "\n",
              "// This is roughly an async generator (not supported in the browser yet),\n",
              "// where there are multiple asynchronous steps and the Python side is going\n",
              "// to poll for completion of each step.\n",
              "// This uses a Promise to block the python side on completion of each step,\n",
              "// then passes the result of the previous step as the input to the next step.\n",
              "function _uploadFilesContinue(outputId) {\n",
              "  const outputElement = document.getElementById(outputId);\n",
              "  const steps = outputElement.steps;\n",
              "\n",
              "  const next = steps.next(outputElement.lastPromiseValue);\n",
              "  return Promise.resolve(next.value.promise).then((value) => {\n",
              "    // Cache the last promise value to make it available to the next\n",
              "    // step of the generator.\n",
              "    outputElement.lastPromiseValue = value;\n",
              "    return next.value.response;\n",
              "  });\n",
              "}\n",
              "\n",
              "/**\n",
              " * Generator function which is called between each async step of the upload\n",
              " * process.\n",
              " * @param {string} inputId Element ID of the input file picker element.\n",
              " * @param {string} outputId Element ID of the output display.\n",
              " * @return {!Iterable<!Object>} Iterable of next steps.\n",
              " */\n",
              "function* uploadFilesStep(inputId, outputId) {\n",
              "  const inputElement = document.getElementById(inputId);\n",
              "  inputElement.disabled = false;\n",
              "\n",
              "  const outputElement = document.getElementById(outputId);\n",
              "  outputElement.innerHTML = '';\n",
              "\n",
              "  const pickedPromise = new Promise((resolve) => {\n",
              "    inputElement.addEventListener('change', (e) => {\n",
              "      resolve(e.target.files);\n",
              "    });\n",
              "  });\n",
              "\n",
              "  const cancel = document.createElement('button');\n",
              "  inputElement.parentElement.appendChild(cancel);\n",
              "  cancel.textContent = 'Cancel upload';\n",
              "  const cancelPromise = new Promise((resolve) => {\n",
              "    cancel.onclick = () => {\n",
              "      resolve(null);\n",
              "    };\n",
              "  });\n",
              "\n",
              "  // Wait for the user to pick the files.\n",
              "  const files = yield {\n",
              "    promise: Promise.race([pickedPromise, cancelPromise]),\n",
              "    response: {\n",
              "      action: 'starting',\n",
              "    }\n",
              "  };\n",
              "\n",
              "  cancel.remove();\n",
              "\n",
              "  // Disable the input element since further picks are not allowed.\n",
              "  inputElement.disabled = true;\n",
              "\n",
              "  if (!files) {\n",
              "    return {\n",
              "      response: {\n",
              "        action: 'complete',\n",
              "      }\n",
              "    };\n",
              "  }\n",
              "\n",
              "  for (const file of files) {\n",
              "    const li = document.createElement('li');\n",
              "    li.append(span(file.name, {fontWeight: 'bold'}));\n",
              "    li.append(span(\n",
              "        `(${file.type || 'n/a'}) - ${file.size} bytes, ` +\n",
              "        `last modified: ${\n",
              "            file.lastModifiedDate ? file.lastModifiedDate.toLocaleDateString() :\n",
              "                                    'n/a'} - `));\n",
              "    const percent = span('0% done');\n",
              "    li.appendChild(percent);\n",
              "\n",
              "    outputElement.appendChild(li);\n",
              "\n",
              "    const fileDataPromise = new Promise((resolve) => {\n",
              "      const reader = new FileReader();\n",
              "      reader.onload = (e) => {\n",
              "        resolve(e.target.result);\n",
              "      };\n",
              "      reader.readAsArrayBuffer(file);\n",
              "    });\n",
              "    // Wait for the data to be ready.\n",
              "    let fileData = yield {\n",
              "      promise: fileDataPromise,\n",
              "      response: {\n",
              "        action: 'continue',\n",
              "      }\n",
              "    };\n",
              "\n",
              "    // Use a chunked sending to avoid message size limits. See b/62115660.\n",
              "    let position = 0;\n",
              "    do {\n",
              "      const length = Math.min(fileData.byteLength - position, MAX_PAYLOAD_SIZE);\n",
              "      const chunk = new Uint8Array(fileData, position, length);\n",
              "      position += length;\n",
              "\n",
              "      const base64 = btoa(String.fromCharCode.apply(null, chunk));\n",
              "      yield {\n",
              "        response: {\n",
              "          action: 'append',\n",
              "          file: file.name,\n",
              "          data: base64,\n",
              "        },\n",
              "      };\n",
              "\n",
              "      let percentDone = fileData.byteLength === 0 ?\n",
              "          100 :\n",
              "          Math.round((position / fileData.byteLength) * 100);\n",
              "      percent.textContent = `${percentDone}% done`;\n",
              "\n",
              "    } while (position < fileData.byteLength);\n",
              "  }\n",
              "\n",
              "  // All done.\n",
              "  yield {\n",
              "    response: {\n",
              "      action: 'complete',\n",
              "    }\n",
              "  };\n",
              "}\n",
              "\n",
              "scope.google = scope.google || {};\n",
              "scope.google.colab = scope.google.colab || {};\n",
              "scope.google.colab._files = {\n",
              "  _uploadFiles,\n",
              "  _uploadFilesContinue,\n",
              "};\n",
              "})(self);\n",
              "</script> "
            ]
          },
          "metadata": {}
        },
        {
          "output_type": "stream",
          "name": "stdout",
          "text": [
            "Saving base_suja.xlsx to base_suja.xlsx\n",
            "+---+--------------+-----+----------+-------+-------------------+-----------------+\n",
            "| ID|          Nome|Idade|      Área|Salário|Data de Contratação|Status de Emprego|\n",
            "+---+--------------+-----+----------+-------+-------------------+-----------------+\n",
            "|  1|    João Silva| 29.0|Financeiro|   5500|         01/02/2020|            Ativo|\n",
            "|  2|   Maria Souza| 30.0|        RH|   4800|         15-03-2019|            ativo|\n",
            "|  3|Carlos Pereira|  NaN| Finaceiro|   6200|         2020/04/01|            Ativo|\n",
            "|  4|     Ana Clara| 27.0| Marketing|   4800|         12/06/2018|            Ativo|\n",
            "|  5|  Fabio Santos| 31.0|       nan|   5500|         20-11-2017|            ativo|\n",
            "|  6|   Sandra Lima| 28.0|        RH|    nan|         05-05-2020|            Ativo|\n",
            "|  7|    José Alves| 34.0| Marketing|   5400|         2018/02/01|          inativo|\n",
            "|  8| Luciana Costa| 30.0|Financeiro|R$ 5200|         01.01.2019|            Ativo|\n",
            "|  9| Paulo Ricardo|  NaN| Finaceiro|   6100|         12/12/2020|          Inativo|\n",
            "| 10| Fernanda Dias| 29.0|        RH|   4800|                nan|            Ativo|\n",
            "|  1|    João Silva| 29.0|Financeiro|   5500|         01/02/2020|            Ativo|\n",
            "+---+--------------+-----+----------+-------+-------------------+-----------------+\n",
            "\n"
          ]
        }
      ]
    },
    {
      "cell_type": "code",
      "source": [
        "print(f\"Quantidade de linhas e colunas: {df_spark.count()}, {len(df_spark.columns)}\")"
      ],
      "metadata": {
        "colab": {
          "base_uri": "https://localhost:8080/"
        },
        "id": "H54cIouQ_3iN",
        "outputId": "b915fcd5-4664-4ea7-dc83-cc795926826d"
      },
      "execution_count": null,
      "outputs": [
        {
          "output_type": "stream",
          "name": "stdout",
          "text": [
            "Quantidade de linhas e colunas: 11, 7\n"
          ]
        }
      ]
    },
    {
      "cell_type": "code",
      "source": [
        "df_spark.printSchema()"
      ],
      "metadata": {
        "colab": {
          "base_uri": "https://localhost:8080/"
        },
        "id": "lG-RGsgiAOGC",
        "outputId": "bd146cf3-cdf4-45d4-93cf-7ae6fb74a684"
      },
      "execution_count": null,
      "outputs": [
        {
          "output_type": "stream",
          "name": "stdout",
          "text": [
            "root\n",
            " |-- ID: long (nullable = true)\n",
            " |-- Nome: string (nullable = true)\n",
            " |-- Idade: double (nullable = true)\n",
            " |-- Área: string (nullable = true)\n",
            " |-- Salário: string (nullable = true)\n",
            " |-- Data de Contratação: string (nullable = true)\n",
            " |-- Status de Emprego: string (nullable = true)\n",
            "\n"
          ]
        }
      ]
    },
    {
      "cell_type": "code",
      "source": [
        "# Definir quais funcões sql pyspark vamos importar\n",
        "from pyspark.sql.functions import *"
      ],
      "metadata": {
        "id": "nGpMQ-DbA0YA"
      },
      "execution_count": null,
      "outputs": []
    },
    {
      "cell_type": "markdown",
      "source": [
        "# Resolução Atividades"
      ],
      "metadata": {
        "id": "7eUVU5oJ-XL9"
      }
    },
    {
      "cell_type": "code",
      "source": [
        "'''\n",
        "alterando tipo de dados 'Salário' para 'float' e 'Idade' para 'int'\n",
        "'''\n",
        "\n",
        "df_spark = df_spark.withColumn('Salário (R$)', col('Salário').cast('float')).drop('Salário')\n",
        "df_spark = df_spark.withColumn('Idade', col('Idade').cast('int'))\n",
        "\n",
        "'''\n",
        "corrigindo erros de digitação em 'Área'\n",
        "'''\n",
        "\n",
        "df_spark = df_spark.withColumn(\n",
        "    'Área',\n",
        "    when(trim(col('Área')) == 'Financeiro', 'Financeiro')\n",
        "    .when(trim(col('Área')) == 'Finaceiro', 'Financeiro')\n",
        "    .otherwise(trim(col('Área')))\n",
        ")\n",
        "\n",
        "'''\n",
        "removendo duplicatas\n",
        "'''\n",
        "\n",
        "df_spark = df_spark.dropDuplicates()\n",
        "\n",
        "df_spark.printSchema()\n",
        "df_spark.show()"
      ],
      "metadata": {
        "id": "vVFyTy-T-YyJ",
        "colab": {
          "base_uri": "https://localhost:8080/"
        },
        "outputId": "b2304c8b-718c-482f-d265-1ec26667c1aa"
      },
      "execution_count": null,
      "outputs": [
        {
          "output_type": "stream",
          "name": "stdout",
          "text": [
            "root\n",
            " |-- ID: long (nullable = true)\n",
            " |-- Nome: string (nullable = true)\n",
            " |-- Idade: integer (nullable = true)\n",
            " |-- Área: string (nullable = true)\n",
            " |-- Data de Contratação: string (nullable = true)\n",
            " |-- Status de Emprego: string (nullable = true)\n",
            " |-- Salário (R$): float (nullable = true)\n",
            "\n",
            "+---+--------------+-----+----------+-------------------+-----------------+------------+\n",
            "| ID|          Nome|Idade|      Área|Data de Contratação|Status de Emprego|Salário (R$)|\n",
            "+---+--------------+-----+----------+-------------------+-----------------+------------+\n",
            "|  2|   Maria Souza|   30|        RH|         15-03-2019|            ativo|      4800.0|\n",
            "|  1|    João Silva|   29|Financeiro|         01/02/2020|            Ativo|      5500.0|\n",
            "|  5|  Fabio Santos|   31|       nan|         20-11-2017|            ativo|      5500.0|\n",
            "|  4|     Ana Clara|   27| Marketing|         12/06/2018|            Ativo|      4800.0|\n",
            "|  3|Carlos Pereira|    0|Financeiro|         2020/04/01|            Ativo|      6200.0|\n",
            "|  6|   Sandra Lima|   28|        RH|         05-05-2020|            Ativo|         NaN|\n",
            "|  7|    José Alves|   34| Marketing|         2018/02/01|          inativo|      5400.0|\n",
            "| 10| Fernanda Dias|   29|        RH|                nan|            Ativo|      4800.0|\n",
            "|  9| Paulo Ricardo|    0|Financeiro|         12/12/2020|          Inativo|      6100.0|\n",
            "|  8| Luciana Costa|   30|Financeiro|         01.01.2019|            Ativo|        NULL|\n",
            "+---+--------------+-----+----------+-------------------+-----------------+------------+\n",
            "\n"
          ]
        }
      ]
    },
    {
      "cell_type": "code",
      "source": [
        "'''\n",
        "15. Correção de Formato de Data: Uniformizar o formato das datas de contratação.\n",
        "'''\n",
        "\n",
        "df_spark = df_spark.withColumn(\n",
        "    'Data de Contratação',\n",
        "    coalesce(\n",
        "        to_date(col('Data de Contratação'), 'dd/MM/yyyy'),\n",
        "        to_date(col('Data de Contratação'), 'dd-MM-yyyy'),\n",
        "        to_date(col('Data de Contratação'), 'yyyy/MM/dd'),\n",
        "        to_date(col('Data de Contratação'), 'yyyy-MM-dd'),\n",
        "        to_date(col('Data de Contratação'), 'dd.MM.yyyy')\n",
        "    )\n",
        ")\n",
        "\n",
        "df_spark.show()"
      ],
      "metadata": {
        "colab": {
          "base_uri": "https://localhost:8080/"
        },
        "id": "b71hJMobpksi",
        "outputId": "a6fe5080-ed87-4d02-f7d3-6af00db1036d"
      },
      "execution_count": null,
      "outputs": [
        {
          "output_type": "stream",
          "name": "stdout",
          "text": [
            "+---+--------------+-----+----------+-------------------+-----------------+------------+\n",
            "| ID|          Nome|Idade|      Área|Data de Contratação|Status de Emprego|Salário (R$)|\n",
            "+---+--------------+-----+----------+-------------------+-----------------+------------+\n",
            "|  2|   Maria Souza|   30|        RH|         2019-03-15|            ativo|      4800.0|\n",
            "|  1|    João Silva|   29|Financeiro|         2020-02-01|            Ativo|      5500.0|\n",
            "|  5|  Fabio Santos|   31|       nan|         2017-11-20|            ativo|      5500.0|\n",
            "|  4|     Ana Clara|   27| Marketing|         2018-06-12|            Ativo|      4800.0|\n",
            "|  3|Carlos Pereira|    0|Financeiro|         2020-04-01|            Ativo|      6200.0|\n",
            "|  6|   Sandra Lima|   28|        RH|         2020-05-05|            Ativo|         NaN|\n",
            "|  7|    José Alves|   34| Marketing|         2018-02-01|          inativo|      5400.0|\n",
            "| 10| Fernanda Dias|   29|        RH|               NULL|            Ativo|      4800.0|\n",
            "|  9| Paulo Ricardo|    0|Financeiro|         2020-12-12|          Inativo|      6100.0|\n",
            "|  8| Luciana Costa|   30|Financeiro|         2019-01-01|            Ativo|        NULL|\n",
            "+---+--------------+-----+----------+-------------------+-----------------+------------+\n",
            "\n"
          ]
        }
      ]
    },
    {
      "cell_type": "code",
      "source": [
        "'''\n",
        "1. Análise de Consistência de Dados:\n",
        "Identificar e corrigir inconsistências nos valores de \"Área\" e \"Status de Emprego\" (e.g., diferenças de maiúsculas/minúsculas).\n",
        "'''\n",
        "\n",
        "df_spark = df_spark.withColumn('Área',lower(col('Área')))\n",
        "df_spark = df_spark.withColumn('Status de Emprego',lower(col('Status de Emprego')))\n",
        "\n",
        "df_spark.show()\n"
      ],
      "metadata": {
        "id": "oUlIUrxY-a3R",
        "colab": {
          "base_uri": "https://localhost:8080/"
        },
        "outputId": "2833e115-1ab4-4a07-b4af-eb542a51f152"
      },
      "execution_count": null,
      "outputs": [
        {
          "output_type": "stream",
          "name": "stdout",
          "text": [
            "+---+--------------+-----+----------+-------------------+-----------------+------------+\n",
            "| ID|          Nome|Idade|      Área|Data de Contratação|Status de Emprego|Salário (R$)|\n",
            "+---+--------------+-----+----------+-------------------+-----------------+------------+\n",
            "|  2|   Maria Souza|   30|        rh|         2019-03-15|            ativo|      4800.0|\n",
            "|  1|    João Silva|   29|financeiro|         2020-02-01|            ativo|      5500.0|\n",
            "|  5|  Fabio Santos|   31|       nan|         2017-11-20|            ativo|      5500.0|\n",
            "|  4|     Ana Clara|   27| marketing|         2018-06-12|            ativo|      4800.0|\n",
            "|  3|Carlos Pereira|    0|financeiro|         2020-04-01|            ativo|      6200.0|\n",
            "|  6|   Sandra Lima|   28|        rh|         2020-05-05|            ativo|         NaN|\n",
            "|  7|    José Alves|   34| marketing|         2018-02-01|          inativo|      5400.0|\n",
            "| 10| Fernanda Dias|   29|        rh|               NULL|            ativo|      4800.0|\n",
            "|  9| Paulo Ricardo|    0|financeiro|         2020-12-12|          inativo|      6100.0|\n",
            "|  8| Luciana Costa|   30|financeiro|         2019-01-01|            ativo|        NULL|\n",
            "+---+--------------+-----+----------+-------------------+-----------------+------------+\n",
            "\n"
          ]
        }
      ]
    },
    {
      "cell_type": "code",
      "source": [
        "'''\n",
        "2. Limpeza de Dados Faltantes: Detectar e tratar os valores ausentes na coluna \"Idade\" e \"Área\".\n",
        "'''\n",
        "\n",
        "df_spark = df_spark.withColumn('Área', when(col('Área').isNull() | isnan(col('Área')),'indefinido').otherwise(col('Área')))\n",
        "avg_coluna_idade = (df_spark.agg(round(avg(col('Idade'))).alias('Média Idade')).collect()[0]['Média Idade'])\n",
        "df_spark= df_spark.withColumn('Idade', when(col('Idade') <= 0, avg_coluna_idade).otherwise(col('Idade')))\n",
        "\n",
        "df_spark.show()\n"
      ],
      "metadata": {
        "id": "_NNsVEzi-c6V",
        "colab": {
          "base_uri": "https://localhost:8080/"
        },
        "outputId": "fe2f8477-7199-4aa0-c95d-7b183eafed15"
      },
      "execution_count": null,
      "outputs": [
        {
          "output_type": "stream",
          "name": "stdout",
          "text": [
            "+---+--------------+-----+----------+-------------------+-----------------+------------+\n",
            "| ID|          Nome|Idade|      Área|Data de Contratação|Status de Emprego|Salário (R$)|\n",
            "+---+--------------+-----+----------+-------------------+-----------------+------------+\n",
            "|  2|   Maria Souza| 30.0|        rh|         2019-03-15|            ativo|      4800.0|\n",
            "|  1|    João Silva| 29.0|financeiro|         2020-02-01|            ativo|      5500.0|\n",
            "|  5|  Fabio Santos| 31.0|indefinido|         2017-11-20|            ativo|      5500.0|\n",
            "|  4|     Ana Clara| 27.0| marketing|         2018-06-12|            ativo|      4800.0|\n",
            "|  3|Carlos Pereira| 24.0|financeiro|         2020-04-01|            ativo|      6200.0|\n",
            "|  6|   Sandra Lima| 28.0|        rh|         2020-05-05|            ativo|         NaN|\n",
            "|  7|    José Alves| 34.0| marketing|         2018-02-01|          inativo|      5400.0|\n",
            "| 10| Fernanda Dias| 29.0|        rh|               NULL|            ativo|      4800.0|\n",
            "|  9| Paulo Ricardo| 24.0|financeiro|         2020-12-12|          inativo|      6100.0|\n",
            "|  8| Luciana Costa| 30.0|financeiro|         2019-01-01|            ativo|        NULL|\n",
            "+---+--------------+-----+----------+-------------------+-----------------+------------+\n",
            "\n"
          ]
        }
      ]
    },
    {
      "cell_type": "code",
      "source": [
        "'''\n",
        "3. Distribuição de Idade: Analisar a distribuição da idade dos funcionários por departamento.\n",
        "'''\n",
        "\n",
        "distribuicao_idade_dep = df_spark.groupBy('Área').agg(round(avg('Idade')).alias('Idade Média')).show()\n"
      ],
      "metadata": {
        "id": "htEBUgSp-edd",
        "colab": {
          "base_uri": "https://localhost:8080/"
        },
        "outputId": "adc9038d-8ceb-498e-b242-0ef030754841"
      },
      "execution_count": null,
      "outputs": [
        {
          "output_type": "stream",
          "name": "stdout",
          "text": [
            "+----------+-----------+\n",
            "|      Área|Idade Média|\n",
            "+----------+-----------+\n",
            "|financeiro|       27.0|\n",
            "| marketing|       31.0|\n",
            "|indefinido|       31.0|\n",
            "|        rh|       29.0|\n",
            "+----------+-----------+\n",
            "\n"
          ]
        }
      ]
    },
    {
      "cell_type": "code",
      "source": [
        "'''\n",
        "4. Salário por Departamento: Calcular a média, mediana e desvio padrão dos salários por departamento.\n",
        "'''\n",
        "\n",
        "df_spark = df_spark.withColumn('Salário (R$)', when(col('Salário (R$)').isNull() | isnan(col('Salário (R$)')), 0).otherwise(col('Salário (R$)')))\n",
        "\n",
        "salarios_departamento = df_spark.groupBy(col('Área')).agg(\n",
        "    round(avg('Salário (R$)'), 2).alias('Média Salário (R$)'),\n",
        "    expr('percentile_approx(`Salário (R$)`, 0.5)').alias('Mediana Salarial'),\n",
        "    round(stddev('Salário (R$)'), 2).alias('Desvio Padrão Salário (R$)')\n",
        ")\n",
        "\n",
        "salarios_departamento.show()"
      ],
      "metadata": {
        "id": "2Wln4h0oM-kF",
        "colab": {
          "base_uri": "https://localhost:8080/"
        },
        "outputId": "ae23d744-da49-4fbe-91fd-629b335e5fee"
      },
      "execution_count": null,
      "outputs": [
        {
          "output_type": "stream",
          "name": "stdout",
          "text": [
            "+----------+------------------+----------------+--------------------------+\n",
            "|      Área|Média Salário (R$)|Mediana Salarial|Desvio Padrão Salário (R$)|\n",
            "+----------+------------------+----------------+--------------------------+\n",
            "|financeiro|            4450.0|          5500.0|                   2982.73|\n",
            "| marketing|            5100.0|          4800.0|                    424.26|\n",
            "|indefinido|            5500.0|          5500.0|                      NULL|\n",
            "|        rh|            3200.0|          4800.0|                   2771.28|\n",
            "+----------+------------------+----------------+--------------------------+\n",
            "\n"
          ]
        }
      ]
    },
    {
      "cell_type": "code",
      "source": [
        "'''\n",
        "5. Análise de Outliers: Identificar salários que estão fora do padrão (outliers) para cada departamento.\n",
        "'''\n",
        "\n",
        "quartis = df_spark.groupBy('Área').agg(\n",
        "    percentile_approx('Salário (R$)', 0.25).alias('Q1'),\n",
        "    percentile_approx('Salário (R$)', 0.75).alias('Q3')\n",
        ")\n",
        "\n",
        "quartis = quartis.withColumn('IQR', col('Q3') - col('Q1'))\n",
        "quartis.show()\n",
        "\n",
        "df_outliers = df_spark.join(\n",
        "    quartis,\n",
        "    'Área'\n",
        ").withColumn(\n",
        "    'Outlier',\n",
        "    when(\n",
        "        col('Salário (R$)') == 0, True\n",
        "    ).otherwise(\n",
        "        (col('Salário (R$)') < (col('Q1') - 1.5 * col('IQR'))) |\n",
        "        (col('Salário (R$)') > (col('Q3') + 1.5 * col('IQR')))\n",
        "    )\n",
        ")\n",
        "\n",
        "df_outliers.select('Área', 'Salário (R$)', 'Outlier').show()"
      ],
      "metadata": {
        "colab": {
          "base_uri": "https://localhost:8080/"
        },
        "id": "mJvsNfKVJScG",
        "outputId": "916c7906-0acf-41b8-dd7c-2be40503c143"
      },
      "execution_count": null,
      "outputs": [
        {
          "output_type": "stream",
          "name": "stdout",
          "text": [
            "+----------+------+------+------+\n",
            "|      Área|    Q1|    Q3|   IQR|\n",
            "+----------+------+------+------+\n",
            "|financeiro|   0.0|6100.0|6100.0|\n",
            "| marketing|4800.0|5400.0| 600.0|\n",
            "|indefinido|5500.0|5500.0|   0.0|\n",
            "|        rh|   0.0|4800.0|4800.0|\n",
            "+----------+------+------+------+\n",
            "\n",
            "+----------+------------+-------+\n",
            "|      Área|Salário (R$)|Outlier|\n",
            "+----------+------------+-------+\n",
            "|financeiro|         0.0|   true|\n",
            "|financeiro|      6100.0|  false|\n",
            "|financeiro|      6200.0|  false|\n",
            "|financeiro|      5500.0|  false|\n",
            "| marketing|      5400.0|  false|\n",
            "| marketing|      4800.0|  false|\n",
            "|indefinido|      5500.0|  false|\n",
            "|        rh|      4800.0|  false|\n",
            "|        rh|         0.0|   true|\n",
            "|        rh|      4800.0|  false|\n",
            "+----------+------------+-------+\n",
            "\n"
          ]
        }
      ]
    },
    {
      "cell_type": "code",
      "source": [
        "'''\n",
        "6. Correlação Idade-Salário: Analisar a correlação entre idade e salário dos funcionários.\n",
        "'''\n",
        "\n",
        "df_idade_salario = df_spark.groupby(col('Idade')).agg(round(avg('Salário (R$)'),2).alias('Média Salário (R$)'))\n",
        "\n",
        "df_idade_salario.orderBy('Média Salário (R$)').show()"
      ],
      "metadata": {
        "colab": {
          "base_uri": "https://localhost:8080/"
        },
        "id": "V2-n1OMAWKVd",
        "outputId": "d558c3ab-0304-41bf-acf3-7dd6fad0605e"
      },
      "execution_count": null,
      "outputs": [
        {
          "output_type": "stream",
          "name": "stdout",
          "text": [
            "+-----+------------------+\n",
            "|Idade|Média Salário (R$)|\n",
            "+-----+------------------+\n",
            "| 28.0|               0.0|\n",
            "| 30.0|            2400.0|\n",
            "| 27.0|            4800.0|\n",
            "| 29.0|            5150.0|\n",
            "| 34.0|            5400.0|\n",
            "| 31.0|            5500.0|\n",
            "| 24.0|            6150.0|\n",
            "+-----+------------------+\n",
            "\n"
          ]
        }
      ]
    },
    {
      "cell_type": "code",
      "source": [
        "'''\n",
        "7. Tempo de Casa: Calcular o tempo de contratação dos funcionários e categorizá-los em grupos (e.g., 1-3 anos, 4-6 anos, etc.).\n",
        "'''\n",
        "\n",
        "df_spark_tempo_de_casa = df_spark.withColumn('Tempo de casa (anos)',round(date_diff(current_date(), col('Data de Contratação')) / 365.5))\n",
        "\n",
        "df_spark_categoria_tempo_casa = df_spark_tempo_de_casa.withColumn(\n",
        "    'Tempo de Casa (categoria)',\n",
        "    when(col('Tempo de Casa (anos)') <= 3, '1-3 anos')\n",
        "    .when((col('Tempo de Casa (anos)') >= 4) & (col('Tempo de Casa (anos)') <= 6), '4-6 anos')\n",
        "    .when(col('Tempo de Casa (anos)') > 6, '+6 anos')\n",
        "    .otherwise('indefinido')\n",
        ")\n",
        "\n",
        "df_spark_categoria_tempo_casa.show()"
      ],
      "metadata": {
        "colab": {
          "base_uri": "https://localhost:8080/"
        },
        "id": "n6lLpxKAmxvs",
        "outputId": "d57c6844-9cf9-47ed-803e-fa14d735bb26"
      },
      "execution_count": null,
      "outputs": [
        {
          "output_type": "stream",
          "name": "stdout",
          "text": [
            "+---+--------------+-----+----------+-------------------+-----------------+------------+--------------------+-------------------------+\n",
            "| ID|          Nome|Idade|      Área|Data de Contratação|Status de Emprego|Salário (R$)|Tempo de casa (anos)|Tempo de Casa (categoria)|\n",
            "+---+--------------+-----+----------+-------------------+-----------------+------------+--------------------+-------------------------+\n",
            "|  2|   Maria Souza| 30.0|        rh|         2019-03-15|            ativo|      4800.0|                 5.0|                 4-6 anos|\n",
            "|  1|    João Silva| 29.0|financeiro|         2020-02-01|            ativo|      5500.0|                 5.0|                 4-6 anos|\n",
            "|  5|  Fabio Santos| 31.0|indefinido|         2017-11-20|            ativo|      5500.0|                 7.0|                  +6 anos|\n",
            "|  4|     Ana Clara| 27.0| marketing|         2018-06-12|            ativo|      4800.0|                 6.0|                 4-6 anos|\n",
            "|  3|Carlos Pereira| 24.0|financeiro|         2020-04-01|            ativo|      6200.0|                 4.0|                 4-6 anos|\n",
            "|  6|   Sandra Lima| 28.0|        rh|         2020-05-05|            ativo|         0.0|                 4.0|                 4-6 anos|\n",
            "|  7|    José Alves| 34.0| marketing|         2018-02-01|          inativo|      5400.0|                 7.0|                  +6 anos|\n",
            "| 10| Fernanda Dias| 29.0|        rh|               NULL|            ativo|      4800.0|                NULL|               indefinido|\n",
            "|  9| Paulo Ricardo| 24.0|financeiro|         2020-12-12|          inativo|      6100.0|                 4.0|                 4-6 anos|\n",
            "|  8| Luciana Costa| 30.0|financeiro|         2019-01-01|            ativo|         0.0|                 6.0|                 4-6 anos|\n",
            "+---+--------------+-----+----------+-------------------+-----------------+------------+--------------------+-------------------------+\n",
            "\n"
          ]
        }
      ]
    },
    {
      "cell_type": "code",
      "source": [
        "'''\n",
        "8. Análise de Rotatividade: Identificar padrões entre os funcionários que estão ativos versus os que não estão.\n",
        "'''\n",
        "\n",
        "analise_rotatividade_ativo = df_spark_categoria_tempo_casa.filter(col('Status de Emprego')=='ativo')\n",
        "analise_rotatividade_inativo = df_spark_categoria_tempo_casa.filter(col('Status de Emprego')=='inativo')\n",
        "\n",
        "analise_ativo_tempo = analise_rotatividade_ativo.groupBy('Área').agg(avg('Tempo de casa (anos)').alias('Média Tempo de Casa (funcionario ativo)'))\n",
        "analise_inativo_tempo = analise_rotatividade_inativo.groupBy('Área').agg(avg('Tempo de casa (anos)').alias('Média Tempo de Casa (funcionario inativo)'))\n",
        "\n",
        "analise_rotatividade = analise_ativo_tempo.join(analise_inativo_tempo,on='Área',how='outer')\n",
        "\n",
        "analise_rotatividade = analise_rotatividade.withColumn('Média Tempo de Casa (funcionario inativo)',when(isnan(col('Média Tempo de Casa (funcionario inativo)')) | col('Média Tempo de Casa (funcionario inativo)').isNull(), 'indefinido').otherwise(col('Média Tempo de Casa (funcionario inativo)')))\n",
        "\n",
        "analise_rotatividade.show()"
      ],
      "metadata": {
        "colab": {
          "base_uri": "https://localhost:8080/"
        },
        "id": "iFOcN5VfpaY1",
        "outputId": "f5c17903-d16d-43e8-9e1b-9cff1ba53407"
      },
      "execution_count": null,
      "outputs": [
        {
          "output_type": "stream",
          "name": "stdout",
          "text": [
            "+----------+---------------------------------------+-----------------------------------------+\n",
            "|      Área|Média Tempo de Casa (funcionario ativo)|Média Tempo de Casa (funcionario inativo)|\n",
            "+----------+---------------------------------------+-----------------------------------------+\n",
            "|financeiro|                                    5.0|                                      4.0|\n",
            "|indefinido|                                    7.0|                               indefinido|\n",
            "| marketing|                                    6.0|                                      7.0|\n",
            "|        rh|                                    4.5|                               indefinido|\n",
            "+----------+---------------------------------------+-----------------------------------------+\n",
            "\n"
          ]
        }
      ]
    },
    {
      "cell_type": "code",
      "source": [
        "'''\n",
        "9. Análise de Desempenho por Data de Contratação: Verificar se existe uma correlação entre o ano de contratação e o nível de salário.\n",
        "'''\n",
        "\n",
        "analise_desempenho_ano_salario = df_spark_categoria_tempo_casa.groupBy('Data de Contratação').agg(avg('Salário (R$)').alias('Média Salário (R$)'))\n",
        "\n",
        "analise_desempenho_tempo_salario = analise_desempenho_ano_salario.join(df_spark_categoria_tempo_casa, on='Data de Contratação', how='inner')\n",
        "\n",
        "analise = analise_desempenho_tempo_salario.select('Nome', 'Data de Contratação','Tempo de casa (anos)','Média Salário (R$)')\n",
        "\n",
        "analise.show()"
      ],
      "metadata": {
        "id": "XQd25zZKpc5h",
        "colab": {
          "base_uri": "https://localhost:8080/"
        },
        "outputId": "117c1aa7-d501-4d34-e761-2ac367be2854"
      },
      "execution_count": null,
      "outputs": [
        {
          "output_type": "stream",
          "name": "stdout",
          "text": [
            "+--------------+-------------------+--------------------+------------------+\n",
            "|          Nome|Data de Contratação|Tempo de casa (anos)|Média Salário (R$)|\n",
            "+--------------+-------------------+--------------------+------------------+\n",
            "|    José Alves|         2018-02-01|                 7.0|            5400.0|\n",
            "| Paulo Ricardo|         2020-12-12|                 4.0|            6100.0|\n",
            "|    João Silva|         2020-02-01|                 5.0|            5500.0|\n",
            "|     Ana Clara|         2018-06-12|                 6.0|            4800.0|\n",
            "|   Sandra Lima|         2020-05-05|                 4.0|               0.0|\n",
            "|Carlos Pereira|         2020-04-01|                 4.0|            6200.0|\n",
            "| Luciana Costa|         2019-01-01|                 6.0|               0.0|\n",
            "|  Fabio Santos|         2017-11-20|                 7.0|            5500.0|\n",
            "|   Maria Souza|         2019-03-15|                 5.0|            4800.0|\n",
            "+--------------+-------------------+--------------------+------------------+\n",
            "\n"
          ]
        }
      ]
    },
    {
      "cell_type": "code",
      "source": [
        "'''\n",
        "10. Histograma de Salário: Criar um histograma de salários para visualizar a distribuição geral.\n",
        "'''\n",
        "\n",
        "import matplotlib.pyplot as plt\n",
        "\n",
        "histograma_data = df_spark.select('Salário (R$)').rdd.flatMap(lambda x: x).histogram(10)\n",
        "\n",
        "values, counts = histograma_data\n",
        "\n",
        "plt.figure(figsize=(10, 6))\n",
        "plt.bar(values[:-1], counts, width=values[1] - values[0], edgecolor='black')\n",
        "plt.title('Distribuição dos Salários')\n",
        "plt.xlabel('Salário (R$)')\n",
        "plt.ylabel('Frequência')\n",
        "plt.grid(True)\n",
        "plt.show()"
      ],
      "metadata": {
        "colab": {
          "base_uri": "https://localhost:8080/",
          "height": 565
        },
        "id": "E7e2cUgPN891",
        "outputId": "b5dd5943-ba20-455e-a2b1-17c74f2196b3"
      },
      "execution_count": null,
      "outputs": [
        {
          "output_type": "display_data",
          "data": {
            "text/plain": [
              "<Figure size 1000x600 with 1 Axes>"
            ],
            "image/png": "[encoded data removed]"
          },
          "metadata": {}
        }
      ]
    },
    {
      "cell_type": "code",
      "source": [
        "'''\n",
        "11. Análise de Frequência: Quantificar a frequência dos nomes dos funcionários para identificar nomes comuns.\n",
        "'''\n",
        "\n",
        "quantidade_frequencia_nome = df_spark.groupBy('Nome').count()\n",
        "\n",
        "\n",
        "quantidade_frequencia_nome.show()"
      ],
      "metadata": {
        "id": "hymXRKfZpiMc",
        "colab": {
          "base_uri": "https://localhost:8080/"
        },
        "outputId": "37415476-1895-4f2e-fc91-722a45c7205e"
      },
      "execution_count": null,
      "outputs": [
        {
          "output_type": "stream",
          "name": "stdout",
          "text": [
            "+--------------+-----+\n",
            "|          Nome|count|\n",
            "+--------------+-----+\n",
            "|     Ana Clara|    1|\n",
            "| Paulo Ricardo|    1|\n",
            "| Fernanda Dias|    1|\n",
            "|   Sandra Lima|    1|\n",
            "|    José Alves|    1|\n",
            "| Luciana Costa|    1|\n",
            "|  Fabio Santos|    1|\n",
            "|Carlos Pereira|    1|\n",
            "|    João Silva|    1|\n",
            "|   Maria Souza|    1|\n",
            "+--------------+-----+\n",
            "\n"
          ]
        }
      ]
    },
    {
      "cell_type": "code",
      "source": [
        "'''\n",
        "12. Agrupamento de Departamentos: Analisar o impacto do departamento na variação salarial e na distribuição de idade.\n",
        "'''\n",
        "\n",
        "agrupamento_dep = df_spark.groupBy('Área').agg(round(stddev('Salário (R$)')).alias('Variação Salarial (R$)'),(avg('Idade')).alias('Média Idade'))\n",
        "agrupamento_dep.show()"
      ],
      "metadata": {
        "id": "eW4OuuCepkZ7",
        "colab": {
          "base_uri": "https://localhost:8080/"
        },
        "outputId": "4f70bcc8-75a6-4c17-fc81-ba9fb56a01fa"
      },
      "execution_count": null,
      "outputs": [
        {
          "output_type": "stream",
          "name": "stdout",
          "text": [
            "+----------+----------------------+-----------+\n",
            "|      Área|Variação Salarial (R$)|Média Idade|\n",
            "+----------+----------------------+-----------+\n",
            "|financeiro|                2983.0|      26.75|\n",
            "| marketing|                 424.0|       30.5|\n",
            "|indefinido|                  NULL|       31.0|\n",
            "|        rh|                2771.0|       29.0|\n",
            "+----------+----------------------+-----------+\n",
            "\n"
          ]
        }
      ]
    },
    {
      "cell_type": "code",
      "source": [
        "'''\n",
        "13. Normalização de Dados: Normalizar o salário e idade para comparações entre diferentes departamentos.\n",
        "'''\n",
        "import pyspark.sql.functions as F\n",
        "\n",
        "min_max_salario = df_spark.select(F.min('Salário (R$)').alias('min_salario'), F.max('Salário (R$)').alias('max_salario')).collect()[0]\n",
        "min_max_idade = df_spark.select(F.min('Idade').alias('min_idade'), F.max('Idade').alias('max_idade')).collect()[0]\n",
        "\n",
        "df_spark_normalizada = df_spark.withColumn(\n",
        "    'Salário Normalizado',\n",
        "    (F.col('Salário (R$)') - min_max_salario['min_salario']) / (min_max_salario['max_salario'] - min_max_salario['min_salario'])\n",
        ")\n",
        "\n",
        "df_spark_normalizada = df_spark_normalizada.withColumn(\n",
        "    'Idade Normalizada',\n",
        "    (F.col('Idade') - min_max_idade['min_idade']) / (min_max_idade['max_idade'] - min_max_idade['min_idade'])\n",
        ")\n",
        "\n",
        "df_spark_normalizada.select('Nome', 'Salário (R$)', 'Salário Normalizado', 'Idade', 'Idade Normalizada').show()"
      ],
      "metadata": {
        "id": "emk-ijXbpkga",
        "colab": {
          "base_uri": "https://localhost:8080/"
        },
        "outputId": "c31ed85c-9eee-43e6-e71e-4f800d9ab706"
      },
      "execution_count": null,
      "outputs": [
        {
          "output_type": "stream",
          "name": "stdout",
          "text": [
            "+--------------+------------+-------------------+-----+-----------------+\n",
            "|          Nome|Salário (R$)|Salário Normalizado|Idade|Idade Normalizada|\n",
            "+--------------+------------+-------------------+-----+-----------------+\n",
            "|   Maria Souza|      4800.0| 0.7741935483870968| 30.0|              0.6|\n",
            "|    João Silva|      5500.0| 0.8870967741935484| 29.0|              0.5|\n",
            "|  Fabio Santos|      5500.0| 0.8870967741935484| 31.0|              0.7|\n",
            "|     Ana Clara|      4800.0| 0.7741935483870968| 27.0|              0.3|\n",
            "|Carlos Pereira|      6200.0|                1.0| 24.0|              0.0|\n",
            "|   Sandra Lima|         0.0|                0.0| 28.0|              0.4|\n",
            "|    José Alves|      5400.0| 0.8709677419354839| 34.0|              1.0|\n",
            "| Fernanda Dias|      4800.0| 0.7741935483870968| 29.0|              0.5|\n",
            "| Paulo Ricardo|      6100.0| 0.9838709677419355| 24.0|              0.0|\n",
            "| Luciana Costa|         0.0|                0.0| 30.0|              0.6|\n",
            "+--------------+------------+-------------------+-----+-----------------+\n",
            "\n"
          ]
        }
      ]
    },
    {
      "cell_type": "code",
      "source": [
        "'''\n",
        "14. Proporção de Gêneros: Analisar a proporção de gêneros entre os funcionários, caso houvesse uma coluna de gênero.\n",
        "'''\n",
        "\n",
        "colunas_generos = df_spark.withColumn(\n",
        "    'Gênero', when(col('ID') % 2 == 0, 'feminino')\n",
        "    .when(col('ID') % 2 != 0, 'masculino').otherwise('indefinido'))\n",
        "\n",
        "total = colunas_generos.filter((col('Gênero') == 'feminino') | (col('Gênero') == 'masculino'))\n",
        "qtd_total = total.count()\n",
        "\n",
        "feminino = colunas_generos.filter(col('Gênero') == 'feminino')\n",
        "qtd_feminino = feminino.count()\n",
        "\n",
        "masculino = colunas_generos.filter(col('Gênero') == 'masculino')\n",
        "qtd_masculino = masculino.count()\n",
        "\n",
        "proporcao_feminino = (qtd_feminino / qtd_total * 100)\n",
        "proporcao_masculino = (qtd_masculino / qtd_total * 100)\n",
        "\n",
        "resultados = spark.createDataFrame([(\"feminino\", qtd_feminino, proporcao_feminino),(\"masculino\", qtd_masculino, proporcao_masculino)], [\"Gênero\", \"Quantidade\", \"Proporção (%)\"])\n",
        "\n",
        "resultados.show()"
      ],
      "metadata": {
        "id": "N5cXBwKZpkmo",
        "colab": {
          "base_uri": "https://localhost:8080/"
        },
        "outputId": "af3397ff-8be3-48d2-cf21-e21384a82f38"
      },
      "execution_count": null,
      "outputs": [
        {
          "output_type": "stream",
          "name": "stdout",
          "text": [
            "+---------+----------+-------------+\n",
            "|   Gênero|Quantidade|Proporção (%)|\n",
            "+---------+----------+-------------+\n",
            "| feminino|         5|         50.0|\n",
            "|masculino|         5|         50.0|\n",
            "+---------+----------+-------------+\n",
            "\n"
          ]
        }
      ]
    },
    {
      "cell_type": "code",
      "source": [
        "'''\n",
        "16. Impacto de Status no Salário: Comparar salários médios entre funcionários ativos e não ativos.\n",
        "'''\n",
        "\n",
        "impacto_salario = df_spark.groupBy('Status de Emprego').agg(round(avg('Salário (R$)'),2).alias('Média Salárial (R$)'))\n",
        "impacto_salario.show()"
      ],
      "metadata": {
        "id": "BsFsH9ADpkyO",
        "colab": {
          "base_uri": "https://localhost:8080/"
        },
        "outputId": "0063006a-1a60-4c05-d00e-5058ef187319"
      },
      "execution_count": null,
      "outputs": [
        {
          "output_type": "stream",
          "name": "stdout",
          "text": [
            "+-----------------+-------------------+\n",
            "|Status de Emprego|Média Salárial (R$)|\n",
            "+-----------------+-------------------+\n",
            "|            ativo|             3950.0|\n",
            "|          inativo|             5750.0|\n",
            "+-----------------+-------------------+\n",
            "\n"
          ]
        }
      ]
    },
    {
      "cell_type": "code",
      "source": [
        "'''\n",
        "17. Data de Contratação e Demografia: Relacionar a data de contratação com a idade dos funcionários na época da contratação.\n",
        "'''\n",
        "\n",
        "idade_contratacao = df_spark_categoria_tempo_casa.withColumn(\n",
        "    'Idade na Contratação', col('Idade') - col('Tempo de casa (anos)')\n",
        ")\n",
        "\n",
        "idade_contratacao.select('Nome','Idade','Data de Contratação','Idade na Contratação').show()"
      ],
      "metadata": {
        "id": "mBcaX95Wpk4A",
        "colab": {
          "base_uri": "https://localhost:8080/"
        },
        "outputId": "96e9f366-2df3-47ab-fb82-2a2d5bb5fe01"
      },
      "execution_count": null,
      "outputs": [
        {
          "output_type": "stream",
          "name": "stdout",
          "text": [
            "+--------------+-----+-------------------+--------------------+\n",
            "|          Nome|Idade|Data de Contratação|Idade na Contratação|\n",
            "+--------------+-----+-------------------+--------------------+\n",
            "|   Maria Souza| 30.0|         2019-03-15|                25.0|\n",
            "|    João Silva| 29.0|         2020-02-01|                24.0|\n",
            "|  Fabio Santos| 31.0|         2017-11-20|                24.0|\n",
            "|     Ana Clara| 27.0|         2018-06-12|                21.0|\n",
            "|Carlos Pereira| 24.0|         2020-04-01|                20.0|\n",
            "|   Sandra Lima| 28.0|         2020-05-05|                24.0|\n",
            "|    José Alves| 34.0|         2018-02-01|                27.0|\n",
            "| Fernanda Dias| 29.0|               NULL|                NULL|\n",
            "| Paulo Ricardo| 24.0|         2020-12-12|                20.0|\n",
            "| Luciana Costa| 30.0|         2019-01-01|                24.0|\n",
            "+--------------+-----+-------------------+--------------------+\n",
            "\n"
          ]
        }
      ]
    },
    {
      "cell_type": "code",
      "source": [
        "'''\n",
        "18. Distribuição de Status de Emprego: Analisar a distribuição do status de emprego (ativo vs. não ativo).\n",
        "'''\n",
        "\n",
        "total_funcionarios = df_spark.filter((col('Status de Emprego') == 'ativo') | (col('Status de Emprego') == 'inativo'))\n",
        "qtd_total_funcionarios = total_funcionarios.count()\n",
        "\n",
        "funcionarios_ativos = df_spark.filter(col('Status de Emprego') == 'ativo')\n",
        "qtd_funcionarios_ativos = funcionarios_ativos.count()\n",
        "\n",
        "funcionarios_inativos = df_spark.filter(col('Status de Emprego') == 'inativo')\n",
        "qtd_funcionarios_inativos = funcionarios_inativos.count()\n",
        "\n",
        "proporcao_ativo = ((qtd_funcionarios_ativos / qtd_total_funcionarios) * 100)\n",
        "proporcao_inativo = ((qtd_funcionarios_inativos / qtd_total_funcionarios) * 100)\n",
        "\n",
        "analise_proporcao_status_emprego = spark.createDataFrame([('ativo', qtd_funcionarios_ativos, proporcao_ativo),('inativo', qtd_funcionarios_inativos, proporcao_inativo)], ['Status de Emprego', 'Quantidade', 'Proporção (%)'])\n",
        "\n",
        "analise_proporcao_status_emprego.show()"
      ],
      "metadata": {
        "id": "JKr34C_ipk9v",
        "colab": {
          "base_uri": "https://localhost:8080/"
        },
        "outputId": "cded622c-873b-4a79-82b4-989877613ada"
      },
      "execution_count": null,
      "outputs": [
        {
          "output_type": "stream",
          "name": "stdout",
          "text": [
            "+-----------------+----------+-------------+\n",
            "|Status de Emprego|Quantidade|Proporção (%)|\n",
            "+-----------------+----------+-------------+\n",
            "|            ativo|         8|         80.0|\n",
            "|          inativo|         2|         20.0|\n",
            "+-----------------+----------+-------------+\n",
            "\n"
          ]
        }
      ]
    },
    {
      "cell_type": "code",
      "source": [
        "'''\n",
        "19. Criação de Coluna de Idade de Contratação: Criar uma coluna que calcule a idade do funcionário na época da contratação e analisar os dados.\n",
        "'''\n",
        "\n",
        "df_spark = df_spark_categoria_tempo_casa.withColumn(\n",
        "    'Idade na Contratação', col('Idade') - col('Tempo de casa (anos)')\n",
        ")\n",
        "\n",
        "df_spark.show()"
      ],
      "metadata": {
        "id": "JM_fq25MplEQ",
        "colab": {
          "base_uri": "https://localhost:8080/"
        },
        "outputId": "78e0b357-9ea6-4ee5-d929-956a3a6d7b67"
      },
      "execution_count": null,
      "outputs": [
        {
          "output_type": "stream",
          "name": "stdout",
          "text": [
            "+---+--------------+-----+----------+-------------------+-----------------+------------+--------------------+-------------------------+--------------------+\n",
            "| ID|          Nome|Idade|      Área|Data de Contratação|Status de Emprego|Salário (R$)|Tempo de casa (anos)|Tempo de Casa (categoria)|Idade na Contratação|\n",
            "+---+--------------+-----+----------+-------------------+-----------------+------------+--------------------+-------------------------+--------------------+\n",
            "|  2|   Maria Souza| 30.0|        rh|         2019-03-15|            ativo|      4800.0|                 5.0|                 4-6 anos|                25.0|\n",
            "|  1|    João Silva| 29.0|financeiro|         2020-02-01|            ativo|      5500.0|                 5.0|                 4-6 anos|                24.0|\n",
            "|  5|  Fabio Santos| 31.0|indefinido|         2017-11-20|            ativo|      5500.0|                 7.0|                  +6 anos|                24.0|\n",
            "|  4|     Ana Clara| 27.0| marketing|         2018-06-12|            ativo|      4800.0|                 6.0|                 4-6 anos|                21.0|\n",
            "|  3|Carlos Pereira| 24.0|financeiro|         2020-04-01|            ativo|      6200.0|                 4.0|                 4-6 anos|                20.0|\n",
            "|  6|   Sandra Lima| 28.0|        rh|         2020-05-05|            ativo|         0.0|                 4.0|                 4-6 anos|                24.0|\n",
            "|  7|    José Alves| 34.0| marketing|         2018-02-01|          inativo|      5400.0|                 7.0|                  +6 anos|                27.0|\n",
            "| 10| Fernanda Dias| 29.0|        rh|               NULL|            ativo|      4800.0|                NULL|               indefinido|                NULL|\n",
            "|  9| Paulo Ricardo| 24.0|financeiro|         2020-12-12|          inativo|      6100.0|                 4.0|                 4-6 anos|                20.0|\n",
            "|  8| Luciana Costa| 30.0|financeiro|         2019-01-01|            ativo|         0.0|                 6.0|                 4-6 anos|                24.0|\n",
            "+---+--------------+-----+----------+-------------------+-----------------+------------+--------------------+-------------------------+--------------------+\n",
            "\n"
          ]
        }
      ]
    },
    {
      "cell_type": "code",
      "source": [
        "'''\n",
        "20. Análise de Promoções: Analisar possíveis promoções dentro da empresa ao comparar datas de contratação e aumentos salariais, se houvesse uma coluna histórica de salários.\n",
        "'''\n",
        "\n",
        "analise_tempo_salario = df_spark_categoria_tempo_casa.groupBy(col('Tempo de Casa (categoria)')).agg(round(avg(col('Salário (R$)'))).alias('Média Salarial'))\n",
        "agrupamento_analise = analise_tempo_salario.join(df_spark_categoria_tempo_casa, on='Tempo de Casa (categoria)', how='outer')\n",
        "analise_promocao = agrupamento_analise.select('Tempo de Casa (categoria)', 'Nome','Data de Contratação','Média Salarial')\n",
        "analise_promocao_ordenada_geral = analise_promocao.orderBy(col('Data de Contratação'))\n",
        "analise_promocao_ordenada_geral.show()\n",
        "\n",
        "analise_promocao_individual = df_spark_categoria_tempo_casa.select('Tempo de Casa (categoria)','Nome','Data de Contratação','Salário (R$)')\n",
        "analise_promocao_individual = analise_promocao_individual.orderBy(col('Data de Contratação'))\n",
        "analise_promocao_individual.show()"
      ],
      "metadata": {
        "id": "A5XhGKZsplLI",
        "colab": {
          "base_uri": "https://localhost:8080/"
        },
        "outputId": "e004eb61-05ea-430c-bc2c-6d015d2cdd2a"
      },
      "execution_count": null,
      "outputs": [
        {
          "output_type": "stream",
          "name": "stdout",
          "text": [
            "+-------------------------+--------------+-------------------+--------------+\n",
            "|Tempo de Casa (categoria)|          Nome|Data de Contratação|Média Salarial|\n",
            "+-------------------------+--------------+-------------------+--------------+\n",
            "|               indefinido| Fernanda Dias|               NULL|        4800.0|\n",
            "|                  +6 anos|  Fabio Santos|         2017-11-20|        5450.0|\n",
            "|                  +6 anos|    José Alves|         2018-02-01|        5450.0|\n",
            "|                 4-6 anos|     Ana Clara|         2018-06-12|        3914.0|\n",
            "|                 4-6 anos| Luciana Costa|         2019-01-01|        3914.0|\n",
            "|                 4-6 anos|   Maria Souza|         2019-03-15|        3914.0|\n",
            "|                 4-6 anos|    João Silva|         2020-02-01|        3914.0|\n",
            "|                 4-6 anos|Carlos Pereira|         2020-04-01|        3914.0|\n",
            "|                 4-6 anos|   Sandra Lima|         2020-05-05|        3914.0|\n",
            "|                 4-6 anos| Paulo Ricardo|         2020-12-12|        3914.0|\n",
            "+-------------------------+--------------+-------------------+--------------+\n",
            "\n",
            "+-------------------------+--------------+-------------------+------------+\n",
            "|Tempo de Casa (categoria)|          Nome|Data de Contratação|Salário (R$)|\n",
            "+-------------------------+--------------+-------------------+------------+\n",
            "|               indefinido| Fernanda Dias|               NULL|      4800.0|\n",
            "|                  +6 anos|  Fabio Santos|         2017-11-20|      5500.0|\n",
            "|                  +6 anos|    José Alves|         2018-02-01|      5400.0|\n",
            "|                 4-6 anos|     Ana Clara|         2018-06-12|      4800.0|\n",
            "|                 4-6 anos| Luciana Costa|         2019-01-01|         0.0|\n",
            "|                 4-6 anos|   Maria Souza|         2019-03-15|      4800.0|\n",
            "|                 4-6 anos|    João Silva|         2020-02-01|      5500.0|\n",
            "|                 4-6 anos|Carlos Pereira|         2020-04-01|      6200.0|\n",
            "|                 4-6 anos|   Sandra Lima|         2020-05-05|         0.0|\n",
            "|                 4-6 anos| Paulo Ricardo|         2020-12-12|      6100.0|\n",
            "+-------------------------+--------------+-------------------+------------+\n",
            "\n"
          ]
        }
      ]
    },
    {
      "cell_type": "code",
      "source": [
        "'''\n",
        "21. Análise de Desempenho Temporal: Verificar se o tempo de casa influencia o salário ou a permanência no emprego.\n",
        "'''\n",
        "\n",
        "analise_desempenho_temporal = df_spark_categoria_tempo_casa.select('Tempo de Casa (categoria)', 'Salário (R$)', 'Status de Emprego')\n",
        "analise_desempenho_temporal = analise_desempenho_temporal.orderBy(col('Salário (R$)'))\n",
        "analise_desempenho_temporal.show()"
      ],
      "metadata": {
        "id": "73iWpNPHplQ1",
        "colab": {
          "base_uri": "https://localhost:8080/"
        },
        "outputId": "3f7e8c68-3ec6-48c6-a439-fcb42ad82b5b"
      },
      "execution_count": null,
      "outputs": [
        {
          "output_type": "stream",
          "name": "stdout",
          "text": [
            "+-------------------------+------------+-----------------+\n",
            "|Tempo de Casa (categoria)|Salário (R$)|Status de Emprego|\n",
            "+-------------------------+------------+-----------------+\n",
            "|                 4-6 anos|         0.0|            ativo|\n",
            "|                 4-6 anos|         0.0|            ativo|\n",
            "|                 4-6 anos|      4800.0|            ativo|\n",
            "|                 4-6 anos|      4800.0|            ativo|\n",
            "|               indefinido|      4800.0|            ativo|\n",
            "|                  +6 anos|      5400.0|          inativo|\n",
            "|                 4-6 anos|      5500.0|            ativo|\n",
            "|                  +6 anos|      5500.0|            ativo|\n",
            "|                 4-6 anos|      6100.0|          inativo|\n",
            "|                 4-6 anos|      6200.0|            ativo|\n",
            "+-------------------------+------------+-----------------+\n",
            "\n"
          ]
        }
      ]
    },
    {
      "cell_type": "code",
      "source": [
        "'''\n",
        "22. Filtragem por Data de Contratação: Identificar funcionários contratados em períodos específicos (e.g., antes de 2019, entre 2019-2020).\n",
        "'''\n",
        "\n",
        "\n",
        "primeiro_ano = 2017\n",
        "segundo_ano = 2018\n",
        "\n",
        "filtragem_datas = df_spark.filter((year(col('Data de Contratação')) >= primeiro_ano) & (year(col('Data de Contratação')) <= segundo_ano))\n",
        "filtragem_datas.select('Nome','Data de Contratação','Status de Emprego').show()"
      ],
      "metadata": {
        "id": "Zxl2vW9splXM",
        "colab": {
          "base_uri": "https://localhost:8080/"
        },
        "outputId": "56a80a5e-7b81-48d1-ffa4-bea87c2e2e4b"
      },
      "execution_count": null,
      "outputs": [
        {
          "output_type": "stream",
          "name": "stdout",
          "text": [
            "+------------+-------------------+-----------------+\n",
            "|        Nome|Data de Contratação|Status de Emprego|\n",
            "+------------+-------------------+-----------------+\n",
            "|Fabio Santos|         2017-11-20|            ativo|\n",
            "|   Ana Clara|         2018-06-12|            ativo|\n",
            "|  José Alves|         2018-02-01|          inativo|\n",
            "+------------+-------------------+-----------------+\n",
            "\n"
          ]
        }
      ]
    },
    {
      "cell_type": "code",
      "source": [
        "'''\n",
        "23. Análise de Status de Emprego e Tempo de Casa: Verificar a relação entre tempo de casa e status de emprego (ativo vs. não ativo).\n",
        "'''\n",
        "\n",
        "analise_status_emprego_tempo = df_spark.select('Status de Emprego','Tempo de Casa (categoria)').show()"
      ],
      "metadata": {
        "id": "5vgUO8q8pldY",
        "colab": {
          "base_uri": "https://localhost:8080/"
        },
        "outputId": "be0bc0ec-1e9d-47f0-b3ea-aa247a710de8"
      },
      "execution_count": null,
      "outputs": [
        {
          "output_type": "stream",
          "name": "stdout",
          "text": [
            "+-----------------+-------------------------+\n",
            "|Status de Emprego|Tempo de Casa (categoria)|\n",
            "+-----------------+-------------------------+\n",
            "|            ativo|                 4-6 anos|\n",
            "|            ativo|                 4-6 anos|\n",
            "|            ativo|                  +6 anos|\n",
            "|            ativo|                 4-6 anos|\n",
            "|            ativo|                 4-6 anos|\n",
            "|            ativo|                 4-6 anos|\n",
            "|          inativo|                  +6 anos|\n",
            "|            ativo|               indefinido|\n",
            "|          inativo|                 4-6 anos|\n",
            "|            ativo|                 4-6 anos|\n",
            "+-----------------+-------------------------+\n",
            "\n"
          ]
        }
      ]
    },
    {
      "cell_type": "code",
      "source": [
        "'''\n",
        "24. Identificação de Funcionários Veteranos: Encontrar os funcionários com maior tempo de casa e analisar seu impacto na empresa.\n",
        "'''\n",
        "\n",
        "funcionarios_veteranos = df_spark.withColumn('Veterano', when((col('Tempo de Casa (categoria)') == '+6 anos') | (col('Tempo de Casa (categoria)') == '6'), 'Sim').otherwise('Não'))\n",
        "funcionarios_veteranos.select('Veterano','Nome','Status de Emprego','Área','Tempo de casa (anos)','Salário (R$)').show()"
      ],
      "metadata": {
        "id": "GJMbqYxipljx",
        "colab": {
          "base_uri": "https://localhost:8080/"
        },
        "outputId": "12936c2a-e568-4014-a8ff-41f9ffe7f5ff"
      },
      "execution_count": null,
      "outputs": [
        {
          "output_type": "stream",
          "name": "stdout",
          "text": [
            "+--------+--------------+-----------------+----------+--------------------+------------+\n",
            "|Veterano|          Nome|Status de Emprego|      Área|Tempo de casa (anos)|Salário (R$)|\n",
            "+--------+--------------+-----------------+----------+--------------------+------------+\n",
            "|     Não|   Maria Souza|            ativo|        rh|                 5.0|      4800.0|\n",
            "|     Não|    João Silva|            ativo|financeiro|                 5.0|      5500.0|\n",
            "|     Sim|  Fabio Santos|            ativo|indefinido|                 7.0|      5500.0|\n",
            "|     Não|     Ana Clara|            ativo| marketing|                 6.0|      4800.0|\n",
            "|     Não|Carlos Pereira|            ativo|financeiro|                 4.0|      6200.0|\n",
            "|     Não|   Sandra Lima|            ativo|        rh|                 4.0|         0.0|\n",
            "|     Sim|    José Alves|          inativo| marketing|                 7.0|      5400.0|\n",
            "|     Não| Fernanda Dias|            ativo|        rh|                NULL|      4800.0|\n",
            "|     Não| Paulo Ricardo|          inativo|financeiro|                 4.0|      6100.0|\n",
            "|     Não| Luciana Costa|            ativo|financeiro|                 6.0|         0.0|\n",
            "+--------+--------------+-----------------+----------+--------------------+------------+\n",
            "\n"
          ]
        }
      ]
    },
    {
      "cell_type": "code",
      "source": [
        "'''\n",
        "25. Análise de Tendências de Contratação: Identificar padrões de contratação ao longo do tempo, como sazonalidade.\n",
        "'''\n",
        "\n",
        "\n",
        "ano1 = 2010\n",
        "ano2 = 2024\n",
        "mes1 = 12\n",
        "mes2 = 12\n",
        "\n",
        "data_contratacao = df_spark.filter((year(col('Data de Contratação')) >= ano1) & (year(col('Data de Contratação')) <= ano2) &\n",
        " (month(col('Data de Contratação')) >= mes1) & (month(col('Data de Contratação')) <= mes2))\n",
        "\n",
        "analise_tendencia_contratacao = data_contratacao.groupBy(year(col('Data de Contratação')).alias('Ano'),\n",
        "    month(col('Data de Contratação')).alias('Mês')).agg(count('*').alias('Quantidade Contratados'))\n",
        "\n",
        "analise_tendencia_contratacao.show()"
      ],
      "metadata": {
        "id": "X9fQlOZsplpo",
        "colab": {
          "base_uri": "https://localhost:8080/"
        },
        "outputId": "9bf3a072-2a9a-48a4-cf0c-3dff5e023171"
      },
      "execution_count": null,
      "outputs": [
        {
          "output_type": "stream",
          "name": "stdout",
          "text": [
            "+----+---+----------------------+\n",
            "| Ano|Mês|Quantidade Contratados|\n",
            "+----+---+----------------------+\n",
            "|2020| 12|                     1|\n",
            "+----+---+----------------------+\n",
            "\n"
          ]
        }
      ]
    },
    {
      "cell_type": "code",
      "source": [
        "'''\n",
        "26. Salário Máximo e Mínimo por Departamento: Determinar os salários mais altos e mais baixos dentro de cada departamento.\n",
        "'''\n",
        "\n",
        "salario_min_max = df_spark.groupBy(col('Área')).agg(min('Salário (R$)').alias('Menor Salário (R$)'), max('Salário (R$)').alias('Maior Salário (R$)'))\n",
        "\n",
        "salario_min_max.show()"
      ],
      "metadata": {
        "id": "D0reiL4vplwT",
        "colab": {
          "base_uri": "https://localhost:8080/"
        },
        "outputId": "5f4ec46b-ae11-4055-dfde-e2bcb02d26bc"
      },
      "execution_count": null,
      "outputs": [
        {
          "output_type": "stream",
          "name": "stdout",
          "text": [
            "+----------+------------------+------------------+\n",
            "|      Área|Menor Salário (R$)|Maior Salário (R$)|\n",
            "+----------+------------------+------------------+\n",
            "|financeiro|               0.0|            6200.0|\n",
            "| marketing|            4800.0|            5400.0|\n",
            "|indefinido|            5500.0|            5500.0|\n",
            "|        rh|               0.0|            4800.0|\n",
            "+----------+------------------+------------------+\n",
            "\n"
          ]
        }
      ]
    },
    {
      "cell_type": "code",
      "source": [
        "'''\n",
        "27. Classificação de Funcionários por Salário: Criar rankings de funcionários por salário dentro de cada departamento.\n",
        "'''\n",
        "\n",
        "ranking_salarios = df_spark.groupBy('Área', 'Nome').agg(avg('Salário (R$)').alias('Salário Médio'))\n",
        "\n",
        "ranking_salarios_ordenado = ranking_salarios.orderBy('Salário Médio', ascending=False)\n",
        "\n",
        "ranking_salarios_ordenado.show()"
      ],
      "metadata": {
        "id": "XVAuh8b3pl29",
        "colab": {
          "base_uri": "https://localhost:8080/"
        },
        "outputId": "5f2ee09d-08ff-400b-db3c-aea98f5f91bf"
      },
      "execution_count": null,
      "outputs": [
        {
          "output_type": "stream",
          "name": "stdout",
          "text": [
            "+----------+--------------+-------------+\n",
            "|      Área|          Nome|Salário Médio|\n",
            "+----------+--------------+-------------+\n",
            "|financeiro|Carlos Pereira|       6200.0|\n",
            "|financeiro| Paulo Ricardo|       6100.0|\n",
            "|indefinido|  Fabio Santos|       5500.0|\n",
            "|financeiro|    João Silva|       5500.0|\n",
            "| marketing|    José Alves|       5400.0|\n",
            "| marketing|     Ana Clara|       4800.0|\n",
            "|        rh|   Maria Souza|       4800.0|\n",
            "|        rh| Fernanda Dias|       4800.0|\n",
            "|financeiro| Luciana Costa|          0.0|\n",
            "|        rh|   Sandra Lima|          0.0|\n",
            "+----------+--------------+-------------+\n",
            "\n"
          ]
        }
      ]
    },
    {
      "cell_type": "code",
      "source": [
        "'''\n",
        "28. Projeção de Aposentadoria: Estimar o número de funcionários que podem se aposentar em breve com base na idade.\n",
        "'''\n",
        "\n",
        "df_aposentadoria = df_spark.withColumn('Futuro Aposentado',when(col('Idade') >= 60, 'Sim').otherwise('Não'))\n",
        "\n",
        "qtd_futuro_aposentados = df_aposentadoria.filter(col('Futuro Aposentado') == 'Sim').count()\n",
        "\n",
        "print('Quantidade de funcionários que podem se aposentar: {}'.format(qtd_futuro_aposentados))"
      ],
      "metadata": {
        "id": "a2l6YVEdpl9l",
        "colab": {
          "base_uri": "https://localhost:8080/"
        },
        "outputId": "b6a80dd6-5490-40ae-ff19-c03393c9ff12"
      },
      "execution_count": null,
      "outputs": [
        {
          "output_type": "stream",
          "name": "stdout",
          "text": [
            "Quantidade de funcionários que podem se aposentar: 0\n"
          ]
        }
      ]
    },
    {
      "cell_type": "code",
      "source": [
        "'''\n",
        "29. Segmentação de Funcionários por Faixa Salarial: Agrupar funcionários em faixas salariais (e.g., 2000-3000, 3001-4000) e analisar a distribuição.\n",
        "'''\n",
        "\n",
        "df_spark = df_spark.withColumn(\n",
        "    'Faixa Salarial (R$)',\n",
        "    when(col('Salário (R$)') <= 1000, 'até 1000')\n",
        "    .when((col('Salário (R$)') >= 1001) & (col('Salário (R$)') <= 2000), '1001-2000')\n",
        "    .when((col('Salário (R$)') >= 2001) & (col('Salário (R$)') <= 4000), '2001-4000')\n",
        "    .when((col('Salário (R$)') >= 4001) & (col('Salário (R$)') <= 6000), '4001-6000')\n",
        "    .when((col('Salário (R$)') >= 6001) & (col('Salário (R$)') <= 8000), '6001-8000')\n",
        "    .otherwise('acima de 8000')\n",
        ")\n",
        "\n",
        "faixa_salarial_analise = df_spark.groupBy('Faixa Salarial (R$)').agg(count('*').alias('Quantidade Funcionários'),round(avg('Salário (R$)'), 2).alias('Média Salarial (R$)')).orderBy('Faixa Salarial (R$)')\n",
        "\n",
        "df_spark.select('Nome','Salário (R$)','Faixa Salarial (R$)').show()\n",
        "\n",
        "faixa_salarial_analise.show()"
      ],
      "metadata": {
        "id": "ExjLNGWSpmEF",
        "colab": {
          "base_uri": "https://localhost:8080/"
        },
        "outputId": "239b6f63-5e14-4394-ae23-950dd82bc742"
      },
      "execution_count": null,
      "outputs": [
        {
          "output_type": "stream",
          "name": "stdout",
          "text": [
            "+--------------+------------+-------------------+\n",
            "|          Nome|Salário (R$)|Faixa Salarial (R$)|\n",
            "+--------------+------------+-------------------+\n",
            "|   Maria Souza|      4800.0|          4001-6000|\n",
            "|    João Silva|      5500.0|          4001-6000|\n",
            "|  Fabio Santos|      5500.0|          4001-6000|\n",
            "|     Ana Clara|      4800.0|          4001-6000|\n",
            "|Carlos Pereira|      6200.0|          6001-8000|\n",
            "|   Sandra Lima|         0.0|           até 1000|\n",
            "|    José Alves|      5400.0|          4001-6000|\n",
            "| Fernanda Dias|      4800.0|          4001-6000|\n",
            "| Paulo Ricardo|      6100.0|          6001-8000|\n",
            "| Luciana Costa|         0.0|           até 1000|\n",
            "+--------------+------------+-------------------+\n",
            "\n",
            "+-------------------+-----------------------+-------------------+\n",
            "|Faixa Salarial (R$)|Quantidade Funcionários|Média Salarial (R$)|\n",
            "+-------------------+-----------------------+-------------------+\n",
            "|          4001-6000|                      6|            5133.33|\n",
            "|          6001-8000|                      2|             6150.0|\n",
            "|           até 1000|                      2|                0.0|\n",
            "+-------------------+-----------------------+-------------------+\n",
            "\n"
          ]
        }
      ]
    },
    {
      "cell_type": "code",
      "source": [
        "'''\n",
        "30. Análise de Equidade Salarial: Verificar se há desigualdade salarial dentro de departamentos específicos.\n",
        "'''\n",
        "\n",
        "equidade_salarial = df_spark.groupBy('Área').agg(avg('Salário (R$)').alias('Média Salarial'), percentile_approx('Salário (R$)', 0.5).alias('Mediana Salarial (R$)'),round(stddev('Salário (R$)')).alias('Desvio Padrão Salarial (R$)')).show()"
      ],
      "metadata": {
        "id": "xuLApJNLpmLN",
        "colab": {
          "base_uri": "https://localhost:8080/"
        },
        "outputId": "8fcb3bd5-7071-4c15-956e-d2fbe282fb1d"
      },
      "execution_count": null,
      "outputs": [
        {
          "output_type": "stream",
          "name": "stdout",
          "text": [
            "+----------+--------------+---------------------+---------------------------+\n",
            "|      Área|Média Salarial|Mediana Salarial (R$)|Desvio Padrão Salarial (R$)|\n",
            "+----------+--------------+---------------------+---------------------------+\n",
            "|financeiro|        4450.0|               5500.0|                     2983.0|\n",
            "| marketing|        5100.0|               4800.0|                      424.0|\n",
            "|indefinido|        5500.0|               5500.0|                       NULL|\n",
            "|        rh|        3200.0|               4800.0|                     2771.0|\n",
            "+----------+--------------+---------------------+---------------------------+\n",
            "\n"
          ]
        }
      ]
    },
    {
      "cell_type": "code",
      "source": [
        "'''\n",
        "31. Comparação de Salários por Período de Contratação: Comparar os salários de funcionários contratados em diferentes anos para identificar tendências de aumento salarial.\n",
        "'''\n",
        "\n",
        "df_spark = df_spark.withColumn('Ano de Contratação', year(col('Data de Contratação')))\n",
        "\n",
        "salario_por_ano = df_spark.groupBy('Ano de Contratação').agg(min(col('Salário (R$)')).alias('Menor Salário (R$)'), max(col('Salário (R$)')).alias('Maior Salário'),avg(col('Salário (R$)')).alias('Salário Médio'))\n",
        "salario_por_ano_ordenado = salario_por_ano.orderBy('Ano de Contratação')\n",
        "\n",
        "salario_por_ano_ordenado.show()"
      ],
      "metadata": {
        "id": "RCiH3JVGpmRt",
        "colab": {
          "base_uri": "https://localhost:8080/"
        },
        "outputId": "3d83e839-146c-40ef-a0a9-9c38d6893373"
      },
      "execution_count": null,
      "outputs": [
        {
          "output_type": "stream",
          "name": "stdout",
          "text": [
            "+------------------+------------------+-------------+-------------+\n",
            "|Ano de Contratação|Menor Salário (R$)|Maior Salário|Salário Médio|\n",
            "+------------------+------------------+-------------+-------------+\n",
            "|              NULL|            4800.0|       4800.0|       4800.0|\n",
            "|              2017|            5500.0|       5500.0|       5500.0|\n",
            "|              2018|            4800.0|       5400.0|       5100.0|\n",
            "|              2019|               0.0|       4800.0|       2400.0|\n",
            "|              2020|               0.0|       6200.0|       4450.0|\n",
            "+------------------+------------------+-------------+-------------+\n",
            "\n"
          ]
        }
      ]
    },
    {
      "cell_type": "code",
      "source": [
        "'''\n",
        "32. Criação de Coluna de Faixa Etária: Agrupar os funcionários em faixas etárias (e.g., 20-30 anos, 31-40 anos) e analisar diferenças entre elas.\n",
        "'''\n",
        "\n",
        "faixa_etaria = df_spark.withColumn(\n",
        "    'Faixa Etária', when(col('Idade') <= 20, 'até 20 anos')\n",
        "    .when((col('Idade') >= 21) & (col('Idade') <= 30), '21-30 anos')\n",
        "    .when((col('Idade') >= 31) & (col('Idade') <= 40), '31-40 anos')\n",
        "    .when((col('Idade') >= 41) & (col('Idade') <= 50), '41-50 anos')\n",
        "    .when((col('Idade') >= 51) & (col('Idade') <= 60), '51-60 anos')\n",
        "    .otherwise('acima de 60 anos')\n",
        ")\n",
        "\n",
        "faixa_etaria.select('Nome','Idade','Área','Salário (R$)','Faixa Etária').show()"
      ],
      "metadata": {
        "id": "tFNqqA8QpmX1",
        "colab": {
          "base_uri": "https://localhost:8080/"
        },
        "outputId": "0d48e495-e675-4189-856f-2b04eba6900f"
      },
      "execution_count": null,
      "outputs": [
        {
          "output_type": "stream",
          "name": "stdout",
          "text": [
            "+--------------+-----+----------+------------+------------+\n",
            "|          Nome|Idade|      Área|Salário (R$)|Faixa Etária|\n",
            "+--------------+-----+----------+------------+------------+\n",
            "|   Maria Souza| 30.0|        rh|      4800.0|  21-30 anos|\n",
            "|    João Silva| 29.0|financeiro|      5500.0|  21-30 anos|\n",
            "|  Fabio Santos| 31.0|indefinido|      5500.0|  31-40 anos|\n",
            "|     Ana Clara| 27.0| marketing|      4800.0|  21-30 anos|\n",
            "|Carlos Pereira| 24.0|financeiro|      6200.0|  21-30 anos|\n",
            "|   Sandra Lima| 28.0|        rh|         0.0|  21-30 anos|\n",
            "|    José Alves| 34.0| marketing|      5400.0|  31-40 anos|\n",
            "| Fernanda Dias| 29.0|        rh|      4800.0|  21-30 anos|\n",
            "| Paulo Ricardo| 24.0|financeiro|      6100.0|  21-30 anos|\n",
            "| Luciana Costa| 30.0|financeiro|         0.0|  21-30 anos|\n",
            "+--------------+-----+----------+------------+------------+\n",
            "\n"
          ]
        }
      ]
    },
    {
      "cell_type": "code",
      "source": [
        "'''\n",
        "33. Relação Entre Área e Tempo de Contratação: Identificar se alguns departamentos tendem a manter seus funcionários por mais tempo do que outros.\n",
        "'''\n",
        "\n",
        "relacao_area_tempo_casa = df_spark.groupBy('Área').agg(avg(col('Tempo de casa (anos)')).alias('Média de Tempo de Casa (anos)'))\n",
        "\n",
        "relacao_area_tempo_casa.show()"
      ],
      "metadata": {
        "id": "ii8z6fAbpmeM",
        "colab": {
          "base_uri": "https://localhost:8080/"
        },
        "outputId": "896e3147-6c3f-4836-a8ce-444ab227eefa"
      },
      "execution_count": null,
      "outputs": [
        {
          "output_type": "stream",
          "name": "stdout",
          "text": [
            "+----------+-----------------------------+\n",
            "|      Área|Média de Tempo de Casa (anos)|\n",
            "+----------+-----------------------------+\n",
            "|financeiro|                         4.75|\n",
            "| marketing|                          6.5|\n",
            "|indefinido|                          7.0|\n",
            "|        rh|                          4.5|\n",
            "+----------+-----------------------------+\n",
            "\n"
          ]
        }
      ]
    },
    {
      "cell_type": "code",
      "source": [
        "'''\n",
        "34. Previsão de Turnover: Usar dados históricos para prever quais funcionários têm maior probabilidade de deixar a empresa.\n",
        "'''\n",
        "\n",
        "\n",
        "inativos = df_spark.filter(col('Status de Emprego') == 'inativo')\n",
        "inativos.describe(['Idade', 'Salário (R$)', 'Tempo de casa (anos)']).show()\n",
        "\n",
        "inativos_stats = inativos.select(avg('Idade').alias('Média Idade'),avg('Salário (R$)').alias('Média Salário'),avg('Tempo de casa (anos)').alias('Média Tempo de Casa'))\n",
        "inativos_stats.show()\n",
        "\n",
        "inativos_por_area = inativos.groupBy('Área').agg(count('*').alias('Quantidade Inativos'))\n",
        "inativos_por_area.show()\n",
        "\n",
        "faixa_etaria_inativos = inativos.groupBy('Idade').agg(count('*').alias('Quantidade Inativos'))\n",
        "faixa_salarial_inativos = inativos.groupBy('Faixa Salarial (R$)').agg(count('*').alias('Quantidade Inativos'))\n",
        "faixa_etaria_inativos.show()\n",
        "faixa_salarial_inativos.show()\n",
        "analise_turnouver = df_spark.filter(col('Status de Emprego') == 'ativo')\n",
        "\n",
        "analise_turnouver.select('Nome','Idade','Área','Salário (R$)','Tempo de casa (anos)','Idade na Contratação').show()"
      ],
      "metadata": {
        "id": "2Ai_WXKHpmlN",
        "colab": {
          "base_uri": "https://localhost:8080/"
        },
        "outputId": "45e99a55-5349-4d58-87fe-491df54d1ff7"
      },
      "execution_count": null,
      "outputs": [
        {
          "output_type": "stream",
          "name": "stdout",
          "text": [
            "+-------+------------------+-----------------+--------------------+\n",
            "|summary|             Idade|     Salário (R$)|Tempo de casa (anos)|\n",
            "+-------+------------------+-----------------+--------------------+\n",
            "|  count|                 2|                2|                   2|\n",
            "|   mean|              29.0|           5750.0|                 5.5|\n",
            "| stddev|7.0710678118654755|494.9747468305833|  2.1213203435596424|\n",
            "|    min|              24.0|           5400.0|                 4.0|\n",
            "|    max|              34.0|           6100.0|                 7.0|\n",
            "+-------+------------------+-----------------+--------------------+\n",
            "\n",
            "+-----------+-------------+-------------------+\n",
            "|Média Idade|Média Salário|Média Tempo de Casa|\n",
            "+-----------+-------------+-------------------+\n",
            "|       29.0|       5750.0|                5.5|\n",
            "+-----------+-------------+-------------------+\n",
            "\n",
            "+----------+-------------------+\n",
            "|      Área|Quantidade Inativos|\n",
            "+----------+-------------------+\n",
            "|financeiro|                  1|\n",
            "| marketing|                  1|\n",
            "+----------+-------------------+\n",
            "\n",
            "+-----+-------------------+\n",
            "|Idade|Quantidade Inativos|\n",
            "+-----+-------------------+\n",
            "| 34.0|                  1|\n",
            "| 24.0|                  1|\n",
            "+-----+-------------------+\n",
            "\n",
            "+-------------------+-------------------+\n",
            "|Faixa Salarial (R$)|Quantidade Inativos|\n",
            "+-------------------+-------------------+\n",
            "|          4001-6000|                  1|\n",
            "|          6001-8000|                  1|\n",
            "+-------------------+-------------------+\n",
            "\n",
            "+--------------+-----+----------+------------+--------------------+--------------------+\n",
            "|          Nome|Idade|      Área|Salário (R$)|Tempo de casa (anos)|Idade na Contratação|\n",
            "+--------------+-----+----------+------------+--------------------+--------------------+\n",
            "|   Maria Souza| 30.0|        rh|      4800.0|                 5.0|                25.0|\n",
            "|    João Silva| 29.0|financeiro|      5500.0|                 5.0|                24.0|\n",
            "|  Fabio Santos| 31.0|indefinido|      5500.0|                 7.0|                24.0|\n",
            "|     Ana Clara| 27.0| marketing|      4800.0|                 6.0|                21.0|\n",
            "|Carlos Pereira| 24.0|financeiro|      6200.0|                 4.0|                20.0|\n",
            "|   Sandra Lima| 28.0|        rh|         0.0|                 4.0|                24.0|\n",
            "| Fernanda Dias| 29.0|        rh|      4800.0|                NULL|                NULL|\n",
            "| Luciana Costa| 30.0|financeiro|         0.0|                 6.0|                24.0|\n",
            "+--------------+-----+----------+------------+--------------------+--------------------+\n",
            "\n"
          ]
        }
      ]
    },
    {
      "cell_type": "code",
      "source": [
        "'''\n",
        "35. Análise de Homogeneidade Salarial: Verificar a homogeneidade dos salários dentro de cada departamento.\n",
        "'''\n",
        "\n",
        "homogeneidade_salarial = df_spark.groupBy('Área').agg(avg('Salário (R$)').alias('Média Salarial'),round(stddev('Salário (R$)')).alias('Desvio Padrão Salarial'))\n",
        "homogeneidade_salarial.show()"
      ],
      "metadata": {
        "id": "U8lcoe-ypmrc",
        "colab": {
          "base_uri": "https://localhost:8080/"
        },
        "outputId": "2a91c895-9556-4d4f-875f-5142e0bf914e"
      },
      "execution_count": null,
      "outputs": [
        {
          "output_type": "stream",
          "name": "stdout",
          "text": [
            "+----------+--------------+----------------------+\n",
            "|      Área|Média Salarial|Desvio Padrão Salarial|\n",
            "+----------+--------------+----------------------+\n",
            "|financeiro|        4450.0|                2983.0|\n",
            "| marketing|        5100.0|                 424.0|\n",
            "|indefinido|        5500.0|                  NULL|\n",
            "|        rh|        3200.0|                2771.0|\n",
            "+----------+--------------+----------------------+\n",
            "\n"
          ]
        }
      ]
    },
    {
      "cell_type": "code",
      "source": [
        "'''\n",
        "36. Detecção de Funcionários Com Anomalias: Identificar funcionários com salários e idades que destoam significativamente dos outros no mesmo departamento.\n",
        "'''\n",
        "\n",
        "estatisticas_departamento = df_spark.groupBy('Área').agg(mean('Salário (R$)').alias('Média Salarial'),stddev('Salário (R$)').alias('Desvio Padrão Salarial'),mean('Idade').alias('Média Idade'),stddev('Idade').alias('Desvio Padrão Idade'))\n",
        "\n",
        "df_com_estatisticas = df_spark.join(estatisticas_departamento, on='Área')\n",
        "\n",
        "df_anomalias = df_com_estatisticas.filter(((col('Salário (R$)') - col('Média Salarial')) > 2 * col('Desvio Padrão Salarial')) |\n",
        "    ((col('Idade') - col('Média Idade')) > 2 * col('Desvio Padrão Idade')))\n",
        "\n",
        "df_anomalias.select('Nome', 'Área', 'Salário (R$)', 'Idade').show()"
      ],
      "metadata": {
        "id": "Hech5UI7pmyw",
        "colab": {
          "base_uri": "https://localhost:8080/"
        },
        "outputId": "75e561a6-3fcf-43a3-e58c-12819b8ef2c5"
      },
      "execution_count": null,
      "outputs": [
        {
          "output_type": "stream",
          "name": "stdout",
          "text": [
            "+----+----+------------+-----+\n",
            "|Nome|Área|Salário (R$)|Idade|\n",
            "+----+----+------------+-----+\n",
            "+----+----+------------+-----+\n",
            "\n"
          ]
        }
      ]
    },
    {
      "cell_type": "code",
      "source": [
        "'''\n",
        "37. Comparação de Salários por Região: Se houvesse uma coluna de localização, comparar os salários entre diferentes regiões.\n",
        "'''\n",
        "\n",
        "df_spark = df_spark.withColumn(\n",
        "    'Localização', when(col('Área') == 'rh', 'Rio de Janeiro - RJ')\n",
        "    .when(col('Área') == 'financeiro', 'São Paulo - SP').otherwise('Xique-Xique - BA')\n",
        ")\n",
        "\n",
        "comparacao_salarial_regiao = df_spark.groupBy(col('Localização')).agg(round(avg(col('Salário (R$)'))).alias('Média Salarial (R$)'),)\n",
        "\n",
        "comparacao_salarial_regiao.show()"
      ],
      "metadata": {
        "id": "nZWmv3T5pm55",
        "colab": {
          "base_uri": "https://localhost:8080/"
        },
        "outputId": "981addee-b128-4d2a-826e-c507a6e76718"
      },
      "execution_count": null,
      "outputs": [
        {
          "output_type": "stream",
          "name": "stdout",
          "text": [
            "+-------------------+-------------------+\n",
            "|        Localização|Média Salarial (R$)|\n",
            "+-------------------+-------------------+\n",
            "|Rio de Janeiro - RJ|             3200.0|\n",
            "|   Xique-Xique - BA|             5233.0|\n",
            "|     São Paulo - SP|             4450.0|\n",
            "+-------------------+-------------------+\n",
            "\n"
          ]
        }
      ]
    },
    {
      "cell_type": "code",
      "source": [
        "'''\n",
        "38. Criação de Métricas Personalizadas: Desenvolver novas métricas como \"salário ajustado pela idade\" ou \"tempo de casa ajustado pela idade\".\n",
        "'''\n",
        "\n",
        "metrica_salario_idade= df_spark.withColumn('Salário pela Idade',round(col('Salário (R$)') / col('Idade')))\n",
        "\n",
        "metrica_salario_idade.select('Nome', 'Idade', 'Salário (R$)', 'Salário pela Idade').show()\n",
        "\n",
        "metrica_tempo_casa_idade = df_spark.withColumn('Tempo de Casa pela Idade',round(col('Tempo de casa (anos)') / col('Idade'),2))\n",
        "\n",
        "metrica_tempo_casa_idade.select('Nome', 'Idade', 'Tempo de casa (anos)', 'Tempo de Casa pela Idade').show()"
      ],
      "metadata": {
        "id": "ABuXNr-cpnBG",
        "colab": {
          "base_uri": "https://localhost:8080/"
        },
        "outputId": "e7556dd6-567e-4a42-9bb5-18f186bc49bc"
      },
      "execution_count": null,
      "outputs": [
        {
          "output_type": "stream",
          "name": "stdout",
          "text": [
            "+--------------+-----+------------+------------------+\n",
            "|          Nome|Idade|Salário (R$)|Salário pela Idade|\n",
            "+--------------+-----+------------+------------------+\n",
            "|   Maria Souza| 30.0|      4800.0|             160.0|\n",
            "|    João Silva| 29.0|      5500.0|             190.0|\n",
            "|  Fabio Santos| 31.0|      5500.0|             177.0|\n",
            "|     Ana Clara| 27.0|      4800.0|             178.0|\n",
            "|Carlos Pereira| 24.0|      6200.0|             258.0|\n",
            "|   Sandra Lima| 28.0|         0.0|               0.0|\n",
            "|    José Alves| 34.0|      5400.0|             159.0|\n",
            "| Fernanda Dias| 29.0|      4800.0|             166.0|\n",
            "| Paulo Ricardo| 24.0|      6100.0|             254.0|\n",
            "| Luciana Costa| 30.0|         0.0|               0.0|\n",
            "+--------------+-----+------------+------------------+\n",
            "\n",
            "+--------------+-----+--------------------+------------------------+\n",
            "|          Nome|Idade|Tempo de casa (anos)|Tempo de Casa pela Idade|\n",
            "+--------------+-----+--------------------+------------------------+\n",
            "|   Maria Souza| 30.0|                 5.0|                    0.17|\n",
            "|    João Silva| 29.0|                 5.0|                    0.17|\n",
            "|  Fabio Santos| 31.0|                 7.0|                    0.23|\n",
            "|     Ana Clara| 27.0|                 6.0|                    0.22|\n",
            "|Carlos Pereira| 24.0|                 4.0|                    0.17|\n",
            "|   Sandra Lima| 28.0|                 4.0|                    0.14|\n",
            "|    José Alves| 34.0|                 7.0|                    0.21|\n",
            "| Fernanda Dias| 29.0|                NULL|                    NULL|\n",
            "| Paulo Ricardo| 24.0|                 4.0|                    0.17|\n",
            "| Luciana Costa| 30.0|                 6.0|                     0.2|\n",
            "+--------------+-----+--------------------+------------------------+\n",
            "\n"
          ]
        }
      ]
    },
    {
      "cell_type": "code",
      "source": [
        "'''\n",
        "39. Análise de Recrutamento Recente: Focar na análise dos funcionários contratados nos últimos 12 meses para ver tendências.\n",
        "'''\n",
        "\n",
        "recrutamento_recente = df_spark.filter(col('Data de Contratação') >= date_add(current_date(), -365))\n",
        "\n",
        "recrutamento_recente.show()"
      ],
      "metadata": {
        "id": "SUe-Fs79pnI0",
        "colab": {
          "base_uri": "https://localhost:8080/"
        },
        "outputId": "7c9a29ad-6a0e-4fc5-f53a-505076c425da"
      },
      "execution_count": null,
      "outputs": [
        {
          "output_type": "stream",
          "name": "stdout",
          "text": [
            "+---+----+-----+----+-------------------+-----------------+------------+--------------------+-------------------------+--------------------+-------------------+------------------+-----------+\n",
            "| ID|Nome|Idade|Área|Data de Contratação|Status de Emprego|Salário (R$)|Tempo de casa (anos)|Tempo de Casa (categoria)|Idade na Contratação|Faixa Salarial (R$)|Ano de Contratação|Localização|\n",
            "+---+----+-----+----+-------------------+-----------------+------------+--------------------+-------------------------+--------------------+-------------------+------------------+-----------+\n",
            "+---+----+-----+----+-------------------+-----------------+------------+--------------------+-------------------------+--------------------+-------------------+------------------+-----------+\n",
            "\n"
          ]
        }
      ]
    },
    {
      "cell_type": "code",
      "source": [
        "'''\n",
        "40. Distribuição de Funcionários por Departamento: Quantificar o número de funcionários por departamento e comparar com a média salarial.\n",
        "'''\n",
        "\n",
        "distribuicao_funcionario_area = df_spark.groupBy('Área').agg(count('*').alias('Número de Funcionários'),avg('Salário (R$)').alias('Média Salarial (R$)'))\n",
        "\n",
        "distribuicao_funcionario_area.select('Área', 'Número de Funcionários', 'Média Salarial (R$)').show()"
      ],
      "metadata": {
        "id": "dwi2239_pnSs",
        "colab": {
          "base_uri": "https://localhost:8080/"
        },
        "outputId": "6d46fc52-2d53-41e0-e7d6-70950655070e"
      },
      "execution_count": null,
      "outputs": [
        {
          "output_type": "stream",
          "name": "stdout",
          "text": [
            "+----------+----------------------+-------------------+\n",
            "|      Área|Número de Funcionários|Média Salarial (R$)|\n",
            "+----------+----------------------+-------------------+\n",
            "|financeiro|                     4|             4450.0|\n",
            "| marketing|                     2|             5100.0|\n",
            "|indefinido|                     1|             5500.0|\n",
            "|        rh|                     3|             3200.0|\n",
            "+----------+----------------------+-------------------+\n",
            "\n"
          ]
        }
      ]
    },
    {
      "cell_type": "code",
      "source": [
        "'''\n",
        "41. Análise de Rotatividade por Departamento: Verificar se há departamentos com alta rotatividade de funcionários.\n",
        "'''\n",
        "rotatividade_dep = df_spark.groupBy('Área').agg(count(when(col('Status de Emprego') == 'inativo', True)).alias('Qtd Funcionários Inativos'),count('*').alias('Total de Funcionários'))\n",
        "\n",
        "rotatividade_dep.select('Área', 'Qtd Funcionários Inativos', 'Total de Funcionários').show()"
      ],
      "metadata": {
        "id": "OiQxcUf1pnZl",
        "colab": {
          "base_uri": "https://localhost:8080/"
        },
        "outputId": "7ee8fc3c-f11c-46d4-cac9-ab33e598111f"
      },
      "execution_count": null,
      "outputs": [
        {
          "output_type": "stream",
          "name": "stdout",
          "text": [
            "+----------+-------------------------+---------------------+\n",
            "|      Área|Qtd Funcionários Inativos|Total de Funcionários|\n",
            "+----------+-------------------------+---------------------+\n",
            "|financeiro|                        1|                    4|\n",
            "| marketing|                        1|                    2|\n",
            "|indefinido|                        0|                    1|\n",
            "|        rh|                        0|                    3|\n",
            "+----------+-------------------------+---------------------+\n",
            "\n"
          ]
        }
      ]
    },
    {
      "cell_type": "code",
      "source": [
        "'''\n",
        "42. Comparação de Salários por Gênero: Se houvesse uma coluna de gênero, comparar os salários médios entre homens e mulheres.\n",
        "'''\n",
        "\n",
        "df_spark_genero = df_spark.withColumn(\n",
        "    'Genêro', when(col('ID') % 2 == 0, 'feminino')\n",
        "    .when(col('ID') % 2 != 0, 'masculino').otherwise('indefinido'))\n",
        "\n",
        "media_salarial_genero = df_spark_genero.groupBy('Genêro').agg(avg(col('Salário (R$)')).alias('Média Salarial (R$)'))\n",
        "\n",
        "media_salarial_genero.show()"
      ],
      "metadata": {
        "id": "rEwcWVWDpnhX",
        "colab": {
          "base_uri": "https://localhost:8080/"
        },
        "outputId": "2792f799-cfa6-47ca-cb39-7d873db94a7b"
      },
      "execution_count": null,
      "outputs": [
        {
          "output_type": "stream",
          "name": "stdout",
          "text": [
            "+---------+-------------------+\n",
            "|   Genêro|Média Salarial (R$)|\n",
            "+---------+-------------------+\n",
            "|masculino|             5740.0|\n",
            "| feminino|             2880.0|\n",
            "+---------+-------------------+\n",
            "\n"
          ]
        }
      ]
    },
    {
      "cell_type": "code",
      "source": [
        "'''\n",
        "43. Correlação Entre Status de Emprego e Desempenho Salarial: Avaliar se há diferença significativa de salários entre diferentes status de emprego.\n",
        "'''\n",
        "\n",
        "correlacao_status_emprego_salario = df_spark.groupBy('Status de Emprego').agg(avg(col('Salário (R$)')).alias('Média Salarial (R$)'))\n",
        "correlacao_status_emprego_salario.show()"
      ],
      "metadata": {
        "id": "SiNncXk6pnpF",
        "colab": {
          "base_uri": "https://localhost:8080/"
        },
        "outputId": "fcd119d6-a15b-44ff-a602-6a333a6147be"
      },
      "execution_count": null,
      "outputs": [
        {
          "output_type": "stream",
          "name": "stdout",
          "text": [
            "+-----------------+-------------------+\n",
            "|Status de Emprego|Média Salarial (R$)|\n",
            "+-----------------+-------------------+\n",
            "|            ativo|             3950.0|\n",
            "|          inativo|             5750.0|\n",
            "+-----------------+-------------------+\n",
            "\n"
          ]
        }
      ]
    },
    {
      "cell_type": "code",
      "source": [
        "'''\n",
        "44. Análise de Impacto de Promoções: Se houvesse dados de promoções, analisar o impacto das promoções no salário ao longo do tempo.\n",
        "'''\n",
        "\n",
        "df_spark = df_spark.withColumn(\n",
        "    'Promoção',\n",
        "    when((col('Tempo de Casa (categoria)') == '+6 anos') & (col('Status de Emprego') == 'ativo'), 'sim').otherwise('não')\n",
        ")\n",
        "\n",
        "df_spark = df_spark.withColumn(\n",
        "    'Salário Depois Promoção (R$)',\n",
        "    when(col('Promoção') == 'sim', col('Salário (R$)') * 1.20).otherwise(0)\n",
        ")\n",
        "\n",
        "df_spark.select('Nome', 'Promoção','Status de Emprego', 'Data de Contratação', 'Tempo de Casa (categoria)', 'Salário (R$)', 'Salário Depois Promoção (R$)').show()"
      ],
      "metadata": {
        "id": "E_H3GPMzpn0U",
        "colab": {
          "base_uri": "https://localhost:8080/"
        },
        "outputId": "f996dc19-8c5f-42c0-9946-b2ebb2f8834b"
      },
      "execution_count": null,
      "outputs": [
        {
          "output_type": "stream",
          "name": "stdout",
          "text": [
            "+--------------+--------+-----------------+-------------------+-------------------------+------------+----------------------------+\n",
            "|          Nome|Promoção|Status de Emprego|Data de Contratação|Tempo de Casa (categoria)|Salário (R$)|Salário Depois Promoção (R$)|\n",
            "+--------------+--------+-----------------+-------------------+-------------------------+------------+----------------------------+\n",
            "|   Maria Souza|     não|            ativo|         2019-03-15|                 4-6 anos|      4800.0|                         0.0|\n",
            "|    João Silva|     não|            ativo|         2020-02-01|                 4-6 anos|      5500.0|                         0.0|\n",
            "|  Fabio Santos|     sim|            ativo|         2017-11-20|                  +6 anos|      5500.0|                      6600.0|\n",
            "|     Ana Clara|     não|            ativo|         2018-06-12|                 4-6 anos|      4800.0|                         0.0|\n",
            "|Carlos Pereira|     não|            ativo|         2020-04-01|                 4-6 anos|      6200.0|                         0.0|\n",
            "|   Sandra Lima|     não|            ativo|         2020-05-05|                 4-6 anos|         0.0|                         0.0|\n",
            "|    José Alves|     não|          inativo|         2018-02-01|                  +6 anos|      5400.0|                         0.0|\n",
            "| Fernanda Dias|     não|            ativo|               NULL|               indefinido|      4800.0|                         0.0|\n",
            "| Paulo Ricardo|     não|          inativo|         2020-12-12|                 4-6 anos|      6100.0|                         0.0|\n",
            "| Luciana Costa|     não|            ativo|         2019-01-01|                 4-6 anos|         0.0|                         0.0|\n",
            "+--------------+--------+-----------------+-------------------+-------------------------+------------+----------------------------+\n",
            "\n"
          ]
        }
      ]
    },
    {
      "cell_type": "code",
      "source": [
        "'''\n",
        "45. Projeção de Custos Salariais: Calcular o custo projetado para a empresa em termos de salários nos próximos anos.\n",
        "'''\n",
        "\n",
        "custo_salarial_atual = df_spark.filter(col('Status de Emprego') == 'ativo').agg(sum('Salário (R$)').alias('Custo Salarial Atual'))\n",
        "\n",
        "custo_atual = custo_salarial_atual.collect()[0]['Custo Salarial Atual']\n",
        "\n",
        "taxa_crescimento_anual = 0.05\n",
        "anos_projecao = 5\n",
        "\n",
        "projecao_custo_salarial = []\n",
        "for ano in range(1, anos_projecao + 1):\n",
        "    custo_futuro = custo_atual * ((1 + taxa_crescimento_anual) ** ano)\n",
        "    projecao_custo_salarial.append((ano, custo_futuro))\n",
        "\n",
        "for ano, custo in projecao_custo_salarial:\n",
        "    print(f\"Ano {ano}: Custo projetado de R$ {custo:.2f}\")"
      ],
      "metadata": {
        "id": "uVArzraGpn7K",
        "colab": {
          "base_uri": "https://localhost:8080/"
        },
        "outputId": "e11b6eac-9e95-485d-9033-70b94835924d"
      },
      "execution_count": null,
      "outputs": [
        {
          "output_type": "stream",
          "name": "stdout",
          "text": [
            "Ano 1: Custo projetado de R$ 33180.00\n",
            "Ano 2: Custo projetado de R$ 34839.00\n",
            "Ano 3: Custo projetado de R$ 36580.95\n",
            "Ano 4: Custo projetado de R$ 38410.00\n",
            "Ano 5: Custo projetado de R$ 40330.50\n"
          ]
        }
      ]
    },
    {
      "cell_type": "code",
      "source": [
        "'''\n",
        "46. Análise de Desempenho por Escolaridade: Se houvesse uma coluna de escolaridade, analisar o impacto da escolaridade no salário.\n",
        "'''\n",
        "\n",
        "df_spark_escolaridade = df_spark.withColumn(\n",
        "    'Escolaridade', when(col('Idade') < 20, 'ensino médio')\n",
        "    .when((col('Idade') >= 20) & (col('Idade') < 30), 'graduação')\n",
        "    .when(col('Idade') >= 30, 'pós-graduação')\n",
        "    .otherwise('indefinido')\n",
        ")\n",
        "\n",
        "analise_desempenho_escolaridade = df_spark_escolaridade.groupBy('Escolaridade')\\\n",
        "    .agg(avg('Salário (R$)').alias('Média Salarial'))\n",
        "\n",
        "analise_desempenho_escolaridade.show()"
      ],
      "metadata": {
        "id": "N4IWViY-poCU",
        "colab": {
          "base_uri": "https://localhost:8080/"
        },
        "outputId": "312c7b12-53ed-4436-aeb4-1ed3953848e2"
      },
      "execution_count": null,
      "outputs": [
        {
          "output_type": "stream",
          "name": "stdout",
          "text": [
            "+-------------+-----------------+\n",
            "| Escolaridade|   Média Salarial|\n",
            "+-------------+-----------------+\n",
            "|    graduação|4566.666666666667|\n",
            "|pós-graduação|           3925.0|\n",
            "+-------------+-----------------+\n",
            "\n"
          ]
        }
      ]
    },
    {
      "cell_type": "code",
      "source": [
        "'''\n",
        "47. Comparação Entre Funcionários com Benefícios: Se houvesse dados de benefícios, comparar o salário entre funcionários que recebem ou não benefícios.\n",
        "'''\n",
        "\n",
        "df_spark_beneficios = df_spark.withColumn(    'Benefícios', when(col('Salário (R$)') > 5000, 'sim')    .otherwise('não'))\n",
        "comp_funcionarios_beneficios = df_spark_beneficios.groupBy('Benefícios').agg(avg('Salário (R$)').alias('Média Salarial'))\n",
        "\n",
        "comp_funcionarios_beneficios.show()"
      ],
      "metadata": {
        "id": "vbYuNQa3poJY",
        "colab": {
          "base_uri": "https://localhost:8080/"
        },
        "outputId": "511c7021-2a43-44e5-ec03-c933431c68f7"
      },
      "execution_count": null,
      "outputs": [
        {
          "output_type": "stream",
          "name": "stdout",
          "text": [
            "+----------+--------------+\n",
            "|Benefícios|Média Salarial|\n",
            "+----------+--------------+\n",
            "|       sim|        5740.0|\n",
            "|       não|        2880.0|\n",
            "+----------+--------------+\n",
            "\n"
          ]
        }
      ]
    },
    {
      "cell_type": "code",
      "source": [
        "'''\n",
        "48. Análise de Desempenho por Formação Acadêmica: Se houvesse uma coluna de formação, analisar como diferentes formações afetam o salário e tempo de casa.\n",
        "'''\n",
        "\n",
        "analise_desempenho_formacao = df_spark_escolaridade.groupBy('Escolaridade').agg(\n",
        "        avg('Salário (R$)').alias('Média Salarial'),\n",
        "        avg('Tempo de casa (anos)').alias('Média Tempo de Casa')\n",
        "    )\n",
        "\n",
        "analise_desempenho_formacao.show()"
      ],
      "metadata": {
        "id": "LsjjibM1poSI",
        "colab": {
          "base_uri": "https://localhost:8080/"
        },
        "outputId": "161a93b4-e41c-4b7a-ebed-d03fab0f95cb"
      },
      "execution_count": null,
      "outputs": [
        {
          "output_type": "stream",
          "name": "stdout",
          "text": [
            "+-------------+-----------------+-------------------+\n",
            "| Escolaridade|   Média Salarial|Média Tempo de Casa|\n",
            "+-------------+-----------------+-------------------+\n",
            "|    graduação|4566.666666666667|                4.6|\n",
            "|pós-graduação|           3925.0|               6.25|\n",
            "+-------------+-----------------+-------------------+\n",
            "\n"
          ]
        }
      ]
    },
    {
      "cell_type": "code",
      "source": [
        "'''\n",
        "49. Previsão de Salários Futuros: Usar regressão linear ou outros modelos para prever o crescimento salarial futuro.\n",
        "'''\n",
        "\n",
        "from pyspark.ml.feature import VectorAssembler\n",
        "from pyspark.ml.regression import LinearRegression\n",
        "from pyspark.sql.functions import col\n",
        "\n",
        "df = df_spark.select(col('Idade'), col('Salário (R$)'), col('Tempo de casa (anos)')).na.drop()\n",
        "\n",
        "assembler = VectorAssembler(inputCols=['Idade', 'Tempo de casa (anos)'], outputCol='features')\n",
        "df_transformed = assembler.transform(df)\n",
        "\n",
        "df_final = df_transformed.select('features', col('Salário (R$)').alias('label'))\n",
        "df_final.show()\n",
        "\n",
        "train_data, test_data = df_final.randomSplit([0.8, 0.2], seed=1234)\n",
        "\n",
        "lr = LinearRegression(featuresCol='features', labelCol='label')\n",
        "\n",
        "lr_model = lr.fit(train_data)\n",
        "\n",
        "test_results = lr_model.evaluate(test_data)\n",
        "print(f\"R²: {test_results.r2}\")\n",
        "print(f\"Erro Médio Absoluto: {test_results.meanAbsoluteError}\")\n",
        "\n",
        "df.describe().show()"
      ],
      "metadata": {
        "colab": {
          "base_uri": "https://localhost:8080/"
        },
        "id": "2qI_gETdPp05",
        "outputId": "2b440e5c-7be1-4745-f0b9-d3db9e98b89c"
      },
      "execution_count": null,
      "outputs": [
        {
          "output_type": "stream",
          "name": "stdout",
          "text": [
            "+----------+------+\n",
            "|  features| label|\n",
            "+----------+------+\n",
            "|[30.0,5.0]|4800.0|\n",
            "|[29.0,5.0]|5500.0|\n",
            "|[31.0,7.0]|5500.0|\n",
            "|[27.0,6.0]|4800.0|\n",
            "|[24.0,4.0]|6200.0|\n",
            "|[28.0,4.0]|   0.0|\n",
            "|[34.0,7.0]|5400.0|\n",
            "|[24.0,4.0]|6100.0|\n",
            "|[30.0,6.0]|   0.0|\n",
            "+----------+------+\n",
            "\n",
            "R²: -44.93461500679609\n",
            "Erro Médio Absoluto: 2371.6922203293643\n",
            "+-------+------------------+-----------------+--------------------+\n",
            "|summary|             Idade|     Salário (R$)|Tempo de casa (anos)|\n",
            "+-------+------------------+-----------------+--------------------+\n",
            "|  count|                 9|                9|                   9|\n",
            "|   mean|28.555555555555557|4255.555555555556|   5.333333333333333|\n",
            "| stddev| 3.244653722321964|2459.731240964707|   1.224744871391589|\n",
            "|    min|              24.0|              0.0|                 4.0|\n",
            "|    max|              34.0|           6200.0|                 7.0|\n",
            "+-------+------------------+-----------------+--------------------+\n",
            "\n"
          ]
        }
      ]
    },
    {
      "cell_type": "code",
      "source": [
        "'''\n",
        "50. Identificação de Padrões de Promoção Interna: Analisar os padrões de promoção dentro da empresa ao longo dos anos.\n",
        "'''\n",
        "df_spark_promovidos = df_spark.filter(col('Promoção') == 'sim')\n",
        "df_spark_promovidos.select(F.avg(col('Salário Depois Promoção (R$)') - col('Salário (R$)')).alias('Aumento Médio')).show()\n",
        "\n",
        "df_spark_promovidos.select(F.avg('Tempo de casa (anos)').alias('Tempo Médio Antes Promoção')).show()"
      ],
      "metadata": {
        "id": "marPp88iqsFn",
        "colab": {
          "base_uri": "https://localhost:8080/"
        },
        "outputId": "6afe33d6-1021-4f76-93ef-d98d5c8def9a"
      },
      "execution_count": null,
      "outputs": [
        {
          "output_type": "stream",
          "name": "stdout",
          "text": [
            "+-------------+\n",
            "|Aumento Médio|\n",
            "+-------------+\n",
            "|       1100.0|\n",
            "+-------------+\n",
            "\n",
            "+--------------------------+\n",
            "|Tempo Médio Antes Promoção|\n",
            "+--------------------------+\n",
            "|                       7.0|\n",
            "+--------------------------+\n",
            "\n"
          ]
        }
      ]
    }
  ]
}